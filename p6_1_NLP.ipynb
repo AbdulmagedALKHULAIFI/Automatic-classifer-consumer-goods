{
  "nbformat": 4,
  "nbformat_minor": 0,
  "metadata": {
    "colab": {
      "name": "p6_1_NLP.ipynb",
      "provenance": [],
      "collapsed_sections": [
        "6fgNUs5l7Hy5"
      ],
      "toc_visible": true,
      "machine_shape": "hm",
      "include_colab_link": true
    },
    "kernelspec": {
      "display_name": "Python 3",
      "language": "python",
      "name": "python3"
    },
    "language_info": {
      "codemirror_mode": {
        "name": "ipython",
        "version": 3
      },
      "file_extension": ".py",
      "mimetype": "text/x-python",
      "name": "python",
      "nbconvert_exporter": "python",
      "pygments_lexer": "ipython3",
      "version": "3.8.5"
    },
    "toc": {
      "base_numbering": 1,
      "nav_menu": {},
      "number_sections": true,
      "sideBar": true,
      "skip_h1_title": false,
      "title_cell": "Table of Contents",
      "title_sidebar": "Contents",
      "toc_cell": false,
      "toc_position": {
        "height": "calc(100% - 180px)",
        "left": "10px",
        "top": "150px",
        "width": "303.825px"
      },
      "toc_section_display": true,
      "toc_window_display": true
    }
  },
  "cells": [
    {
      "cell_type": "markdown",
      "metadata": {
        "id": "view-in-github",
        "colab_type": "text"
      },
      "source": [
        "<a href=\"https://colab.research.google.com/github/AbdulmagedALKHULAIFI/Automatic-classifer-consumer-goods/blob/main/p6_1_NLP.ipynb\" target=\"_parent\"><img src=\"https://colab.research.google.com/assets/colab-badge.svg\" alt=\"Open In Colab\"/></a>"
      ]
    },
    {
      "cell_type": "markdown",
      "metadata": {
        "id": "5hXb67hO7Hye"
      },
      "source": [
        "# Installation"
      ]
    },
    {
      "cell_type": "markdown",
      "metadata": {
        "id": "TroyoawVK1rH"
      },
      "source": [
        "# Contexte"
      ]
    },
    {
      "cell_type": "markdown",
      "metadata": {
        "id": "4ELR_ZZvLi5K"
      },
      "source": [
        "L'objectif de ce projet est d'aider l’entreprise \"Place de marché” dans l'amélioration de l'expérience des utilisateurs de leur plateforme et rend plus fluide et agréable. Commençant par l'automatisation de la catégorisation des articles chargés par les vendeurs.\n",
        "\n",
        "## Missions\n",
        "\n",
        "Les missions qui me sont confiées ce sont: \n",
        "\n",
        "\n",
        "\n",
        "*    réaliser une première étude de faisabilité d'un moteur de classification en se basant sur l'image et la description de produit\n",
        "*   Prétaiter le jeu de données \n",
        "*   Réduire les dimension de jeu de données\n",
        "*   Regrouper les produits ayant des carateristiques simlaires\n",
        "\n",
        "\n",
        "\n"
      ]
    },
    {
      "cell_type": "code",
      "metadata": {
        "colab": {
          "base_uri": "https://localhost:8080/"
        },
        "id": "d4mOxkRO7Hyi",
        "outputId": "c86da551-1ccc-46c6-8c52-6abd565a8162"
      },
      "source": [
        "!pip install -U gensim"
      ],
      "execution_count": null,
      "outputs": [
        {
          "output_type": "stream",
          "text": [
            "Requirement already satisfied: gensim in /usr/local/lib/python3.7/dist-packages (4.0.1)\n",
            "Requirement already satisfied: scipy>=0.18.1 in /usr/local/lib/python3.7/dist-packages (from gensim) (1.4.1)\n",
            "Requirement already satisfied: numpy>=1.11.3 in /usr/local/lib/python3.7/dist-packages (from gensim) (1.19.5)\n",
            "Requirement already satisfied: smart-open>=1.8.1 in /usr/local/lib/python3.7/dist-packages (from gensim) (5.1.0)\n"
          ],
          "name": "stdout"
        }
      ]
    },
    {
      "cell_type": "code",
      "metadata": {
        "colab": {
          "base_uri": "https://localhost:8080/"
        },
        "id": "XXd-hbZW7Hyk",
        "scrolled": true,
        "outputId": "4000d0ee-7ca2-4d14-eff6-9cb03f796482"
      },
      "source": [
        "!pip install yellowbrick"
      ],
      "execution_count": null,
      "outputs": [
        {
          "output_type": "stream",
          "text": [
            "Requirement already satisfied: yellowbrick in /usr/local/lib/python3.7/dist-packages (0.9.1)\n",
            "Requirement already satisfied: scipy>=1.0.0 in /usr/local/lib/python3.7/dist-packages (from yellowbrick) (1.4.1)\n",
            "Requirement already satisfied: numpy>=1.13.0 in /usr/local/lib/python3.7/dist-packages (from yellowbrick) (1.19.5)\n",
            "Requirement already satisfied: matplotlib!=3.0.0,>=1.5.1 in /usr/local/lib/python3.7/dist-packages (from yellowbrick) (3.2.2)\n",
            "Requirement already satisfied: scikit-learn>=0.20 in /usr/local/lib/python3.7/dist-packages (from yellowbrick) (0.22.2.post1)\n",
            "Requirement already satisfied: cycler>=0.10.0 in /usr/local/lib/python3.7/dist-packages (from yellowbrick) (0.10.0)\n",
            "Requirement already satisfied: six in /usr/local/lib/python3.7/dist-packages (from cycler>=0.10.0->yellowbrick) (1.15.0)\n",
            "Requirement already satisfied: python-dateutil>=2.1 in /usr/local/lib/python3.7/dist-packages (from matplotlib!=3.0.0,>=1.5.1->yellowbrick) (2.8.2)\n",
            "Requirement already satisfied: pyparsing!=2.0.4,!=2.1.2,!=2.1.6,>=2.0.1 in /usr/local/lib/python3.7/dist-packages (from matplotlib!=3.0.0,>=1.5.1->yellowbrick) (2.4.7)\n",
            "Requirement already satisfied: kiwisolver>=1.0.1 in /usr/local/lib/python3.7/dist-packages (from matplotlib!=3.0.0,>=1.5.1->yellowbrick) (1.3.1)\n",
            "Requirement already satisfied: joblib>=0.11 in /usr/local/lib/python3.7/dist-packages (from scikit-learn>=0.20->yellowbrick) (1.0.1)\n"
          ],
          "name": "stdout"
        }
      ]
    },
    {
      "cell_type": "code",
      "metadata": {
        "colab": {
          "base_uri": "https://localhost:8080/"
        },
        "id": "gc1iGIdY7Hyl",
        "outputId": "bdd1e89d-0ff4-49a2-c61f-02c079024b0f"
      },
      "source": [
        "!pip install bert-for-tf2"
      ],
      "execution_count": null,
      "outputs": [
        {
          "output_type": "stream",
          "text": [
            "Requirement already satisfied: bert-for-tf2 in /usr/local/lib/python3.7/dist-packages (0.14.9)\n",
            "Requirement already satisfied: params-flow>=0.8.0 in /usr/local/lib/python3.7/dist-packages (from bert-for-tf2) (0.8.2)\n",
            "Requirement already satisfied: py-params>=0.9.6 in /usr/local/lib/python3.7/dist-packages (from bert-for-tf2) (0.10.2)\n",
            "Requirement already satisfied: tqdm in /usr/local/lib/python3.7/dist-packages (from params-flow>=0.8.0->bert-for-tf2) (4.62.0)\n",
            "Requirement already satisfied: numpy in /usr/local/lib/python3.7/dist-packages (from params-flow>=0.8.0->bert-for-tf2) (1.19.5)\n"
          ],
          "name": "stdout"
        }
      ]
    },
    {
      "cell_type": "code",
      "metadata": {
        "colab": {
          "base_uri": "https://localhost:8080/"
        },
        "id": "2OV6IwO07Hym",
        "outputId": "eb5fd712-f890-4498-c4a7-5eb56f334b38"
      },
      "source": [
        "!pip install tensorflow"
      ],
      "execution_count": null,
      "outputs": [
        {
          "output_type": "stream",
          "text": [
            "Requirement already satisfied: tensorflow in /usr/local/lib/python3.7/dist-packages (2.6.0)\n",
            "Requirement already satisfied: six~=1.15.0 in /usr/local/lib/python3.7/dist-packages (from tensorflow) (1.15.0)\n",
            "Requirement already satisfied: tensorboard~=2.6 in /usr/local/lib/python3.7/dist-packages (from tensorflow) (2.6.0)\n",
            "Requirement already satisfied: google-pasta~=0.2 in /usr/local/lib/python3.7/dist-packages (from tensorflow) (0.2.0)\n",
            "Requirement already satisfied: flatbuffers~=1.12.0 in /usr/local/lib/python3.7/dist-packages (from tensorflow) (1.12)\n",
            "Requirement already satisfied: h5py~=3.1.0 in /usr/local/lib/python3.7/dist-packages (from tensorflow) (3.1.0)\n",
            "Requirement already satisfied: clang~=5.0 in /usr/local/lib/python3.7/dist-packages (from tensorflow) (5.0)\n",
            "Requirement already satisfied: wheel~=0.35 in /usr/local/lib/python3.7/dist-packages (from tensorflow) (0.37.0)\n",
            "Requirement already satisfied: gast==0.4.0 in /usr/local/lib/python3.7/dist-packages (from tensorflow) (0.4.0)\n",
            "Requirement already satisfied: keras~=2.6 in /usr/local/lib/python3.7/dist-packages (from tensorflow) (2.6.0)\n",
            "Requirement already satisfied: typing-extensions~=3.7.4 in /usr/local/lib/python3.7/dist-packages (from tensorflow) (3.7.4.3)\n",
            "Requirement already satisfied: grpcio<2.0,>=1.37.0 in /usr/local/lib/python3.7/dist-packages (from tensorflow) (1.39.0)\n",
            "Requirement already satisfied: numpy~=1.19.2 in /usr/local/lib/python3.7/dist-packages (from tensorflow) (1.19.5)\n",
            "Requirement already satisfied: termcolor~=1.1.0 in /usr/local/lib/python3.7/dist-packages (from tensorflow) (1.1.0)\n",
            "Requirement already satisfied: opt-einsum~=3.3.0 in /usr/local/lib/python3.7/dist-packages (from tensorflow) (3.3.0)\n",
            "Requirement already satisfied: wrapt~=1.12.1 in /usr/local/lib/python3.7/dist-packages (from tensorflow) (1.12.1)\n",
            "Requirement already satisfied: protobuf>=3.9.2 in /usr/local/lib/python3.7/dist-packages (from tensorflow) (3.17.3)\n",
            "Requirement already satisfied: keras-preprocessing~=1.1.2 in /usr/local/lib/python3.7/dist-packages (from tensorflow) (1.1.2)\n",
            "Requirement already satisfied: tensorflow-estimator~=2.6 in /usr/local/lib/python3.7/dist-packages (from tensorflow) (2.6.0)\n",
            "Requirement already satisfied: astunparse~=1.6.3 in /usr/local/lib/python3.7/dist-packages (from tensorflow) (1.6.3)\n",
            "Requirement already satisfied: absl-py~=0.10 in /usr/local/lib/python3.7/dist-packages (from tensorflow) (0.12.0)\n",
            "Requirement already satisfied: cached-property in /usr/local/lib/python3.7/dist-packages (from h5py~=3.1.0->tensorflow) (1.5.2)\n",
            "Requirement already satisfied: setuptools>=41.0.0 in /usr/local/lib/python3.7/dist-packages (from tensorboard~=2.6->tensorflow) (57.4.0)\n",
            "Requirement already satisfied: markdown>=2.6.8 in /usr/local/lib/python3.7/dist-packages (from tensorboard~=2.6->tensorflow) (3.3.4)\n",
            "Requirement already satisfied: tensorboard-plugin-wit>=1.6.0 in /usr/local/lib/python3.7/dist-packages (from tensorboard~=2.6->tensorflow) (1.8.0)\n",
            "Requirement already satisfied: google-auth<2,>=1.6.3 in /usr/local/lib/python3.7/dist-packages (from tensorboard~=2.6->tensorflow) (1.34.0)\n",
            "Requirement already satisfied: tensorboard-data-server<0.7.0,>=0.6.0 in /usr/local/lib/python3.7/dist-packages (from tensorboard~=2.6->tensorflow) (0.6.1)\n",
            "Requirement already satisfied: requests<3,>=2.21.0 in /usr/local/lib/python3.7/dist-packages (from tensorboard~=2.6->tensorflow) (2.23.0)\n",
            "Requirement already satisfied: werkzeug>=0.11.15 in /usr/local/lib/python3.7/dist-packages (from tensorboard~=2.6->tensorflow) (1.0.1)\n",
            "Requirement already satisfied: google-auth-oauthlib<0.5,>=0.4.1 in /usr/local/lib/python3.7/dist-packages (from tensorboard~=2.6->tensorflow) (0.4.5)\n",
            "Requirement already satisfied: pyasn1-modules>=0.2.1 in /usr/local/lib/python3.7/dist-packages (from google-auth<2,>=1.6.3->tensorboard~=2.6->tensorflow) (0.2.8)\n",
            "Requirement already satisfied: rsa<5,>=3.1.4 in /usr/local/lib/python3.7/dist-packages (from google-auth<2,>=1.6.3->tensorboard~=2.6->tensorflow) (4.7.2)\n",
            "Requirement already satisfied: cachetools<5.0,>=2.0.0 in /usr/local/lib/python3.7/dist-packages (from google-auth<2,>=1.6.3->tensorboard~=2.6->tensorflow) (4.2.2)\n",
            "Requirement already satisfied: requests-oauthlib>=0.7.0 in /usr/local/lib/python3.7/dist-packages (from google-auth-oauthlib<0.5,>=0.4.1->tensorboard~=2.6->tensorflow) (1.3.0)\n",
            "Requirement already satisfied: importlib-metadata in /usr/local/lib/python3.7/dist-packages (from markdown>=2.6.8->tensorboard~=2.6->tensorflow) (4.6.4)\n",
            "Requirement already satisfied: pyasn1<0.5.0,>=0.4.6 in /usr/local/lib/python3.7/dist-packages (from pyasn1-modules>=0.2.1->google-auth<2,>=1.6.3->tensorboard~=2.6->tensorflow) (0.4.8)\n",
            "Requirement already satisfied: chardet<4,>=3.0.2 in /usr/local/lib/python3.7/dist-packages (from requests<3,>=2.21.0->tensorboard~=2.6->tensorflow) (3.0.4)\n",
            "Requirement already satisfied: certifi>=2017.4.17 in /usr/local/lib/python3.7/dist-packages (from requests<3,>=2.21.0->tensorboard~=2.6->tensorflow) (2021.5.30)\n",
            "Requirement already satisfied: idna<3,>=2.5 in /usr/local/lib/python3.7/dist-packages (from requests<3,>=2.21.0->tensorboard~=2.6->tensorflow) (2.10)\n",
            "Requirement already satisfied: urllib3!=1.25.0,!=1.25.1,<1.26,>=1.21.1 in /usr/local/lib/python3.7/dist-packages (from requests<3,>=2.21.0->tensorboard~=2.6->tensorflow) (1.24.3)\n",
            "Requirement already satisfied: oauthlib>=3.0.0 in /usr/local/lib/python3.7/dist-packages (from requests-oauthlib>=0.7.0->google-auth-oauthlib<0.5,>=0.4.1->tensorboard~=2.6->tensorflow) (3.1.1)\n",
            "Requirement already satisfied: zipp>=0.5 in /usr/local/lib/python3.7/dist-packages (from importlib-metadata->markdown>=2.6.8->tensorboard~=2.6->tensorflow) (3.5.0)\n"
          ],
          "name": "stdout"
        }
      ]
    },
    {
      "cell_type": "code",
      "metadata": {
        "colab": {
          "base_uri": "https://localhost:8080/"
        },
        "id": "mVkv4cGe7h38",
        "outputId": "a1eaed0f-28d1-46bf-d1dd-dcf03b206519"
      },
      "source": [
        "pip install tensorflow-text"
      ],
      "execution_count": null,
      "outputs": [
        {
          "output_type": "stream",
          "text": [
            "Requirement already satisfied: tensorflow-text in /usr/local/lib/python3.7/dist-packages (2.6.0)\n",
            "Requirement already satisfied: tensorflow<2.7,>=2.6.0 in /usr/local/lib/python3.7/dist-packages (from tensorflow-text) (2.6.0)\n",
            "Requirement already satisfied: tensorflow-hub>=0.8.0 in /usr/local/lib/python3.7/dist-packages (from tensorflow-text) (0.12.0)\n",
            "Requirement already satisfied: gast==0.4.0 in /usr/local/lib/python3.7/dist-packages (from tensorflow<2.7,>=2.6.0->tensorflow-text) (0.4.0)\n",
            "Requirement already satisfied: tensorboard~=2.6 in /usr/local/lib/python3.7/dist-packages (from tensorflow<2.7,>=2.6.0->tensorflow-text) (2.6.0)\n",
            "Requirement already satisfied: six~=1.15.0 in /usr/local/lib/python3.7/dist-packages (from tensorflow<2.7,>=2.6.0->tensorflow-text) (1.15.0)\n",
            "Requirement already satisfied: numpy~=1.19.2 in /usr/local/lib/python3.7/dist-packages (from tensorflow<2.7,>=2.6.0->tensorflow-text) (1.19.5)\n",
            "Requirement already satisfied: google-pasta~=0.2 in /usr/local/lib/python3.7/dist-packages (from tensorflow<2.7,>=2.6.0->tensorflow-text) (0.2.0)\n",
            "Requirement already satisfied: clang~=5.0 in /usr/local/lib/python3.7/dist-packages (from tensorflow<2.7,>=2.6.0->tensorflow-text) (5.0)\n",
            "Requirement already satisfied: grpcio<2.0,>=1.37.0 in /usr/local/lib/python3.7/dist-packages (from tensorflow<2.7,>=2.6.0->tensorflow-text) (1.39.0)\n",
            "Requirement already satisfied: keras-preprocessing~=1.1.2 in /usr/local/lib/python3.7/dist-packages (from tensorflow<2.7,>=2.6.0->tensorflow-text) (1.1.2)\n",
            "Requirement already satisfied: typing-extensions~=3.7.4 in /usr/local/lib/python3.7/dist-packages (from tensorflow<2.7,>=2.6.0->tensorflow-text) (3.7.4.3)\n",
            "Requirement already satisfied: wheel~=0.35 in /usr/local/lib/python3.7/dist-packages (from tensorflow<2.7,>=2.6.0->tensorflow-text) (0.37.0)\n",
            "Requirement already satisfied: tensorflow-estimator~=2.6 in /usr/local/lib/python3.7/dist-packages (from tensorflow<2.7,>=2.6.0->tensorflow-text) (2.6.0)\n",
            "Requirement already satisfied: termcolor~=1.1.0 in /usr/local/lib/python3.7/dist-packages (from tensorflow<2.7,>=2.6.0->tensorflow-text) (1.1.0)\n",
            "Requirement already satisfied: h5py~=3.1.0 in /usr/local/lib/python3.7/dist-packages (from tensorflow<2.7,>=2.6.0->tensorflow-text) (3.1.0)\n",
            "Requirement already satisfied: wrapt~=1.12.1 in /usr/local/lib/python3.7/dist-packages (from tensorflow<2.7,>=2.6.0->tensorflow-text) (1.12.1)\n",
            "Requirement already satisfied: protobuf>=3.9.2 in /usr/local/lib/python3.7/dist-packages (from tensorflow<2.7,>=2.6.0->tensorflow-text) (3.17.3)\n",
            "Requirement already satisfied: absl-py~=0.10 in /usr/local/lib/python3.7/dist-packages (from tensorflow<2.7,>=2.6.0->tensorflow-text) (0.12.0)\n",
            "Requirement already satisfied: keras~=2.6 in /usr/local/lib/python3.7/dist-packages (from tensorflow<2.7,>=2.6.0->tensorflow-text) (2.6.0)\n",
            "Requirement already satisfied: flatbuffers~=1.12.0 in /usr/local/lib/python3.7/dist-packages (from tensorflow<2.7,>=2.6.0->tensorflow-text) (1.12)\n",
            "Requirement already satisfied: astunparse~=1.6.3 in /usr/local/lib/python3.7/dist-packages (from tensorflow<2.7,>=2.6.0->tensorflow-text) (1.6.3)\n",
            "Requirement already satisfied: opt-einsum~=3.3.0 in /usr/local/lib/python3.7/dist-packages (from tensorflow<2.7,>=2.6.0->tensorflow-text) (3.3.0)\n",
            "Requirement already satisfied: cached-property in /usr/local/lib/python3.7/dist-packages (from h5py~=3.1.0->tensorflow<2.7,>=2.6.0->tensorflow-text) (1.5.2)\n",
            "Requirement already satisfied: tensorboard-plugin-wit>=1.6.0 in /usr/local/lib/python3.7/dist-packages (from tensorboard~=2.6->tensorflow<2.7,>=2.6.0->tensorflow-text) (1.8.0)\n",
            "Requirement already satisfied: markdown>=2.6.8 in /usr/local/lib/python3.7/dist-packages (from tensorboard~=2.6->tensorflow<2.7,>=2.6.0->tensorflow-text) (3.3.4)\n",
            "Requirement already satisfied: google-auth-oauthlib<0.5,>=0.4.1 in /usr/local/lib/python3.7/dist-packages (from tensorboard~=2.6->tensorflow<2.7,>=2.6.0->tensorflow-text) (0.4.5)\n",
            "Requirement already satisfied: setuptools>=41.0.0 in /usr/local/lib/python3.7/dist-packages (from tensorboard~=2.6->tensorflow<2.7,>=2.6.0->tensorflow-text) (57.4.0)\n",
            "Requirement already satisfied: tensorboard-data-server<0.7.0,>=0.6.0 in /usr/local/lib/python3.7/dist-packages (from tensorboard~=2.6->tensorflow<2.7,>=2.6.0->tensorflow-text) (0.6.1)\n",
            "Requirement already satisfied: requests<3,>=2.21.0 in /usr/local/lib/python3.7/dist-packages (from tensorboard~=2.6->tensorflow<2.7,>=2.6.0->tensorflow-text) (2.23.0)\n",
            "Requirement already satisfied: google-auth<2,>=1.6.3 in /usr/local/lib/python3.7/dist-packages (from tensorboard~=2.6->tensorflow<2.7,>=2.6.0->tensorflow-text) (1.34.0)\n",
            "Requirement already satisfied: werkzeug>=0.11.15 in /usr/local/lib/python3.7/dist-packages (from tensorboard~=2.6->tensorflow<2.7,>=2.6.0->tensorflow-text) (1.0.1)\n",
            "Requirement already satisfied: pyasn1-modules>=0.2.1 in /usr/local/lib/python3.7/dist-packages (from google-auth<2,>=1.6.3->tensorboard~=2.6->tensorflow<2.7,>=2.6.0->tensorflow-text) (0.2.8)\n",
            "Requirement already satisfied: cachetools<5.0,>=2.0.0 in /usr/local/lib/python3.7/dist-packages (from google-auth<2,>=1.6.3->tensorboard~=2.6->tensorflow<2.7,>=2.6.0->tensorflow-text) (4.2.2)\n",
            "Requirement already satisfied: rsa<5,>=3.1.4 in /usr/local/lib/python3.7/dist-packages (from google-auth<2,>=1.6.3->tensorboard~=2.6->tensorflow<2.7,>=2.6.0->tensorflow-text) (4.7.2)\n",
            "Requirement already satisfied: requests-oauthlib>=0.7.0 in /usr/local/lib/python3.7/dist-packages (from google-auth-oauthlib<0.5,>=0.4.1->tensorboard~=2.6->tensorflow<2.7,>=2.6.0->tensorflow-text) (1.3.0)\n",
            "Requirement already satisfied: importlib-metadata in /usr/local/lib/python3.7/dist-packages (from markdown>=2.6.8->tensorboard~=2.6->tensorflow<2.7,>=2.6.0->tensorflow-text) (4.6.4)\n",
            "Requirement already satisfied: pyasn1<0.5.0,>=0.4.6 in /usr/local/lib/python3.7/dist-packages (from pyasn1-modules>=0.2.1->google-auth<2,>=1.6.3->tensorboard~=2.6->tensorflow<2.7,>=2.6.0->tensorflow-text) (0.4.8)\n",
            "Requirement already satisfied: urllib3!=1.25.0,!=1.25.1,<1.26,>=1.21.1 in /usr/local/lib/python3.7/dist-packages (from requests<3,>=2.21.0->tensorboard~=2.6->tensorflow<2.7,>=2.6.0->tensorflow-text) (1.24.3)\n",
            "Requirement already satisfied: chardet<4,>=3.0.2 in /usr/local/lib/python3.7/dist-packages (from requests<3,>=2.21.0->tensorboard~=2.6->tensorflow<2.7,>=2.6.0->tensorflow-text) (3.0.4)\n",
            "Requirement already satisfied: idna<3,>=2.5 in /usr/local/lib/python3.7/dist-packages (from requests<3,>=2.21.0->tensorboard~=2.6->tensorflow<2.7,>=2.6.0->tensorflow-text) (2.10)\n",
            "Requirement already satisfied: certifi>=2017.4.17 in /usr/local/lib/python3.7/dist-packages (from requests<3,>=2.21.0->tensorboard~=2.6->tensorflow<2.7,>=2.6.0->tensorflow-text) (2021.5.30)\n",
            "Requirement already satisfied: oauthlib>=3.0.0 in /usr/local/lib/python3.7/dist-packages (from requests-oauthlib>=0.7.0->google-auth-oauthlib<0.5,>=0.4.1->tensorboard~=2.6->tensorflow<2.7,>=2.6.0->tensorflow-text) (3.1.1)\n",
            "Requirement already satisfied: zipp>=0.5 in /usr/local/lib/python3.7/dist-packages (from importlib-metadata->markdown>=2.6.8->tensorboard~=2.6->tensorflow<2.7,>=2.6.0->tensorflow-text) (3.5.0)\n"
          ],
          "name": "stdout"
        }
      ]
    },
    {
      "cell_type": "markdown",
      "metadata": {
        "id": "z6-LgkkA7Hyn"
      },
      "source": [
        "# To-do list"
      ]
    },
    {
      "cell_type": "code",
      "metadata": {
        "id": "fYoxhOD_E9Gq"
      },
      "source": [
        ""
      ],
      "execution_count": null,
      "outputs": []
    },
    {
      "cell_type": "markdown",
      "metadata": {
        "id": "LIc5cShb7Hyn"
      },
      "source": [
        "- corriger l'affichage des mots le plus communs dans un cluster\n",
        "- Envistiguer sur le bag of words\n",
        "- integré la partie supervisé USE"
      ]
    },
    {
      "cell_type": "markdown",
      "metadata": {
        "id": "veMq_AOM7Hyp"
      },
      "source": [
        "# Import"
      ]
    },
    {
      "cell_type": "code",
      "metadata": {
        "id": "1HF9G9xN7Hyq"
      },
      "source": [
        "# import libraries\n",
        "import numpy as np \n",
        "import pandas as pd\n",
        "import nltk\n",
        "from nltk.corpus import stopwords\n",
        "from nltk.tokenize import word_tokenize\n",
        "from nltk.stem import PorterStemmer\n",
        "import re\n",
        "from sklearn.feature_extraction.text import TfidfVectorizer\n",
        "from sklearn.feature_extraction.text import CountVectorizer\n",
        "from sklearn.cluster import KMeans\n",
        "from sklearn.cluster import MiniBatchKMeans\n",
        "from sklearn.model_selection import GridSearchCV\n",
        "from nltk.stem.wordnet import WordNetLemmatizer\n",
        "import sklearn.metrics as metrics\n",
        "from sklearn.decomposition import PCA\n",
        "import seaborn as sns\n",
        "import matplotlib.pyplot as plt\n",
        "from nltk import ngrams\n",
        "from nltk import bigrams\n",
        "from nltk import trigrams\n",
        "import  collections\n",
        "import gensim\n",
        "from gensim.models import Word2Vec\n",
        "from sklearn.metrics import silhouette_score,silhouette_samples\n",
        "import matplotlib.cm as cm\n",
        "from sklearn.feature_extraction.text import TfidfVectorizer\n",
        "\n",
        "from yellowbrick.text import TSNEVisualizer\n",
        "from yellowbrick.datasets import load_hobbies\n",
        "\n",
        "import numpy as np \n",
        "from pandas import DataFrame\n",
        "import seaborn as sns\n",
        "%matplotlib inline\n",
        "\n",
        "import tensorflow as tf\n",
        "import tensorflow_hub as hub\n",
        "import tensorflow_text as text\n",
        "\n",
        "\n"
      ],
      "execution_count": null,
      "outputs": []
    },
    {
      "cell_type": "code",
      "metadata": {
        "colab": {
          "base_uri": "https://localhost:8080/"
        },
        "id": "mpEbMM3t7Hyt",
        "outputId": "e4f9b49c-34cb-4f3b-8fb9-4efa00747160"
      },
      "source": [
        "nltk.download('stopwords')\n",
        "nltk.download('wordnet')\n",
        "nltk.download('punkt')"
      ],
      "execution_count": null,
      "outputs": [
        {
          "output_type": "stream",
          "text": [
            "[nltk_data] Downloading package stopwords to /root/nltk_data...\n",
            "[nltk_data]   Package stopwords is already up-to-date!\n",
            "[nltk_data] Downloading package wordnet to /root/nltk_data...\n",
            "[nltk_data]   Package wordnet is already up-to-date!\n",
            "[nltk_data] Downloading package punkt to /root/nltk_data...\n",
            "[nltk_data]   Package punkt is already up-to-date!\n"
          ],
          "name": "stdout"
        },
        {
          "output_type": "execute_result",
          "data": {
            "text/plain": [
              "True"
            ]
          },
          "metadata": {},
          "execution_count": 185
        }
      ]
    },
    {
      "cell_type": "code",
      "metadata": {
        "colab": {
          "base_uri": "https://localhost:8080/",
          "height": 330
        },
        "id": "u2trzeNg7Hyt",
        "outputId": "da9876b6-43f4-4d88-92bd-d4c4c0f1d714"
      },
      "source": [
        "data = pd.read_csv(\"./flipkart_com-ecommerce_sample_1050.csv\")\n",
        "data.head(3)"
      ],
      "execution_count": null,
      "outputs": [
        {
          "output_type": "execute_result",
          "data": {
            "text/html": [
              "<div>\n",
              "<style scoped>\n",
              "    .dataframe tbody tr th:only-of-type {\n",
              "        vertical-align: middle;\n",
              "    }\n",
              "\n",
              "    .dataframe tbody tr th {\n",
              "        vertical-align: top;\n",
              "    }\n",
              "\n",
              "    .dataframe thead th {\n",
              "        text-align: right;\n",
              "    }\n",
              "</style>\n",
              "<table border=\"1\" class=\"dataframe\">\n",
              "  <thead>\n",
              "    <tr style=\"text-align: right;\">\n",
              "      <th></th>\n",
              "      <th>uniq_id</th>\n",
              "      <th>crawl_timestamp</th>\n",
              "      <th>product_url</th>\n",
              "      <th>product_name</th>\n",
              "      <th>product_category_tree</th>\n",
              "      <th>pid</th>\n",
              "      <th>retail_price</th>\n",
              "      <th>discounted_price</th>\n",
              "      <th>image</th>\n",
              "      <th>is_FK_Advantage_product</th>\n",
              "      <th>description</th>\n",
              "      <th>product_rating</th>\n",
              "      <th>overall_rating</th>\n",
              "      <th>brand</th>\n",
              "      <th>product_specifications</th>\n",
              "    </tr>\n",
              "  </thead>\n",
              "  <tbody>\n",
              "    <tr>\n",
              "      <th>0</th>\n",
              "      <td>55b85ea15a1536d46b7190ad6fff8ce7</td>\n",
              "      <td>2016-04-30 03:22:56 +0000</td>\n",
              "      <td>http://www.flipkart.com/elegance-polyester-mul...</td>\n",
              "      <td>Elegance Polyester Multicolor Abstract Eyelet ...</td>\n",
              "      <td>[\"Home Furnishing &gt;&gt; Curtains &amp; Accessories &gt;&gt;...</td>\n",
              "      <td>CRNEG7BKMFFYHQ8Z</td>\n",
              "      <td>1899.0</td>\n",
              "      <td>899.0</td>\n",
              "      <td>55b85ea15a1536d46b7190ad6fff8ce7.jpg</td>\n",
              "      <td>False</td>\n",
              "      <td>Key Features of Elegance Polyester Multicolor ...</td>\n",
              "      <td>No rating available</td>\n",
              "      <td>No rating available</td>\n",
              "      <td>Elegance</td>\n",
              "      <td>{\"product_specification\"=&gt;[{\"key\"=&gt;\"Brand\", \"v...</td>\n",
              "    </tr>\n",
              "    <tr>\n",
              "      <th>1</th>\n",
              "      <td>7b72c92c2f6c40268628ec5f14c6d590</td>\n",
              "      <td>2016-04-30 03:22:56 +0000</td>\n",
              "      <td>http://www.flipkart.com/sathiyas-cotton-bath-t...</td>\n",
              "      <td>Sathiyas Cotton Bath Towel</td>\n",
              "      <td>[\"Baby Care &gt;&gt; Baby Bath &amp; Skin &gt;&gt; Baby Bath T...</td>\n",
              "      <td>BTWEGFZHGBXPHZUH</td>\n",
              "      <td>600.0</td>\n",
              "      <td>449.0</td>\n",
              "      <td>7b72c92c2f6c40268628ec5f14c6d590.jpg</td>\n",
              "      <td>False</td>\n",
              "      <td>Specifications of Sathiyas Cotton Bath Towel (...</td>\n",
              "      <td>No rating available</td>\n",
              "      <td>No rating available</td>\n",
              "      <td>Sathiyas</td>\n",
              "      <td>{\"product_specification\"=&gt;[{\"key\"=&gt;\"Machine Wa...</td>\n",
              "    </tr>\n",
              "    <tr>\n",
              "      <th>2</th>\n",
              "      <td>64d5d4a258243731dc7bbb1eef49ad74</td>\n",
              "      <td>2016-04-30 03:22:56 +0000</td>\n",
              "      <td>http://www.flipkart.com/eurospa-cotton-terry-f...</td>\n",
              "      <td>Eurospa Cotton Terry Face Towel Set</td>\n",
              "      <td>[\"Baby Care &gt;&gt; Baby Bath &amp; Skin &gt;&gt; Baby Bath T...</td>\n",
              "      <td>BTWEG6SHXTDB2A2Y</td>\n",
              "      <td>NaN</td>\n",
              "      <td>NaN</td>\n",
              "      <td>64d5d4a258243731dc7bbb1eef49ad74.jpg</td>\n",
              "      <td>False</td>\n",
              "      <td>Key Features of Eurospa Cotton Terry Face Towe...</td>\n",
              "      <td>No rating available</td>\n",
              "      <td>No rating available</td>\n",
              "      <td>Eurospa</td>\n",
              "      <td>{\"product_specification\"=&gt;[{\"key\"=&gt;\"Material\",...</td>\n",
              "    </tr>\n",
              "  </tbody>\n",
              "</table>\n",
              "</div>"
            ],
            "text/plain": [
              "                            uniq_id  ...                             product_specifications\n",
              "0  55b85ea15a1536d46b7190ad6fff8ce7  ...  {\"product_specification\"=>[{\"key\"=>\"Brand\", \"v...\n",
              "1  7b72c92c2f6c40268628ec5f14c6d590  ...  {\"product_specification\"=>[{\"key\"=>\"Machine Wa...\n",
              "2  64d5d4a258243731dc7bbb1eef49ad74  ...  {\"product_specification\"=>[{\"key\"=>\"Material\",...\n",
              "\n",
              "[3 rows x 15 columns]"
            ]
          },
          "metadata": {},
          "execution_count": 186
        }
      ]
    },
    {
      "cell_type": "markdown",
      "metadata": {
        "id": "Dbtd2gNm02Sg"
      },
      "source": [
        "Le jeu de données est composé de deux partie:\n",
        "\n",
        "* Jeu de données de produits de site sous format CSV\n",
        "* Un répertoire contenant les images de produits"
      ]
    },
    {
      "cell_type": "code",
      "metadata": {
        "colab": {
          "base_uri": "https://localhost:8080/",
          "height": 295
        },
        "id": "kieDO-h81B4H",
        "outputId": "33afa603-2150-4f34-924f-d95e5f5c132e"
      },
      "source": [
        "data.describe()"
      ],
      "execution_count": null,
      "outputs": [
        {
          "output_type": "execute_result",
          "data": {
            "text/html": [
              "<div>\n",
              "<style scoped>\n",
              "    .dataframe tbody tr th:only-of-type {\n",
              "        vertical-align: middle;\n",
              "    }\n",
              "\n",
              "    .dataframe tbody tr th {\n",
              "        vertical-align: top;\n",
              "    }\n",
              "\n",
              "    .dataframe thead th {\n",
              "        text-align: right;\n",
              "    }\n",
              "</style>\n",
              "<table border=\"1\" class=\"dataframe\">\n",
              "  <thead>\n",
              "    <tr style=\"text-align: right;\">\n",
              "      <th></th>\n",
              "      <th>retail_price</th>\n",
              "      <th>discounted_price</th>\n",
              "    </tr>\n",
              "  </thead>\n",
              "  <tbody>\n",
              "    <tr>\n",
              "      <th>count</th>\n",
              "      <td>1049.000000</td>\n",
              "      <td>1049.000000</td>\n",
              "    </tr>\n",
              "    <tr>\n",
              "      <th>mean</th>\n",
              "      <td>2186.197331</td>\n",
              "      <td>1584.527169</td>\n",
              "    </tr>\n",
              "    <tr>\n",
              "      <th>std</th>\n",
              "      <td>7639.229411</td>\n",
              "      <td>7475.099680</td>\n",
              "    </tr>\n",
              "    <tr>\n",
              "      <th>min</th>\n",
              "      <td>35.000000</td>\n",
              "      <td>35.000000</td>\n",
              "    </tr>\n",
              "    <tr>\n",
              "      <th>25%</th>\n",
              "      <td>555.000000</td>\n",
              "      <td>340.000000</td>\n",
              "    </tr>\n",
              "    <tr>\n",
              "      <th>50%</th>\n",
              "      <td>999.000000</td>\n",
              "      <td>600.000000</td>\n",
              "    </tr>\n",
              "    <tr>\n",
              "      <th>75%</th>\n",
              "      <td>1999.000000</td>\n",
              "      <td>1199.000000</td>\n",
              "    </tr>\n",
              "    <tr>\n",
              "      <th>max</th>\n",
              "      <td>201000.000000</td>\n",
              "      <td>201000.000000</td>\n",
              "    </tr>\n",
              "  </tbody>\n",
              "</table>\n",
              "</div>"
            ],
            "text/plain": [
              "        retail_price  discounted_price\n",
              "count    1049.000000       1049.000000\n",
              "mean     2186.197331       1584.527169\n",
              "std      7639.229411       7475.099680\n",
              "min        35.000000         35.000000\n",
              "25%       555.000000        340.000000\n",
              "50%       999.000000        600.000000\n",
              "75%      1999.000000       1199.000000\n",
              "max    201000.000000     201000.000000"
            ]
          },
          "metadata": {},
          "execution_count": 187
        }
      ]
    },
    {
      "cell_type": "code",
      "metadata": {
        "colab": {
          "base_uri": "https://localhost:8080/",
          "height": 142
        },
        "id": "s3IEPa9f7Hyu",
        "outputId": "92e8d21a-f167-4e72-a09b-dbc5f1e194de"
      },
      "source": [
        "corpus = data[['description']]\n",
        "corpus.head(3)"
      ],
      "execution_count": null,
      "outputs": [
        {
          "output_type": "execute_result",
          "data": {
            "text/html": [
              "<div>\n",
              "<style scoped>\n",
              "    .dataframe tbody tr th:only-of-type {\n",
              "        vertical-align: middle;\n",
              "    }\n",
              "\n",
              "    .dataframe tbody tr th {\n",
              "        vertical-align: top;\n",
              "    }\n",
              "\n",
              "    .dataframe thead th {\n",
              "        text-align: right;\n",
              "    }\n",
              "</style>\n",
              "<table border=\"1\" class=\"dataframe\">\n",
              "  <thead>\n",
              "    <tr style=\"text-align: right;\">\n",
              "      <th></th>\n",
              "      <th>description</th>\n",
              "    </tr>\n",
              "  </thead>\n",
              "  <tbody>\n",
              "    <tr>\n",
              "      <th>0</th>\n",
              "      <td>Key Features of Elegance Polyester Multicolor ...</td>\n",
              "    </tr>\n",
              "    <tr>\n",
              "      <th>1</th>\n",
              "      <td>Specifications of Sathiyas Cotton Bath Towel (...</td>\n",
              "    </tr>\n",
              "    <tr>\n",
              "      <th>2</th>\n",
              "      <td>Key Features of Eurospa Cotton Terry Face Towe...</td>\n",
              "    </tr>\n",
              "  </tbody>\n",
              "</table>\n",
              "</div>"
            ],
            "text/plain": [
              "                                         description\n",
              "0  Key Features of Elegance Polyester Multicolor ...\n",
              "1  Specifications of Sathiyas Cotton Bath Towel (...\n",
              "2  Key Features of Eurospa Cotton Terry Face Towe..."
            ]
          },
          "metadata": {},
          "execution_count": 188
        }
      ]
    },
    {
      "cell_type": "code",
      "metadata": {
        "colab": {
          "base_uri": "https://localhost:8080/"
        },
        "id": "QUMYWVm27Hyu",
        "outputId": "e35bda49-973b-49a6-ac8f-57ffff773b65"
      },
      "source": [
        "corpus.shape"
      ],
      "execution_count": null,
      "outputs": [
        {
          "output_type": "execute_result",
          "data": {
            "text/plain": [
              "(1050, 1)"
            ]
          },
          "metadata": {},
          "execution_count": 189
        }
      ]
    },
    {
      "cell_type": "markdown",
      "metadata": {
        "id": "xE8lEfQj7Hyv"
      },
      "source": [
        "#  Récupération des catégories principales"
      ]
    },
    {
      "cell_type": "code",
      "metadata": {
        "colab": {
          "base_uri": "https://localhost:8080/",
          "height": 330
        },
        "id": "IGDbq0Qn7Hyv",
        "outputId": "f3fa47ed-64d3-48aa-df56-de66a7e1d219"
      },
      "source": [
        "data['main_cat'] = data.product_category_tree.str.split(\">>\",expand=True,)[0]\n",
        "data.head(3)"
      ],
      "execution_count": null,
      "outputs": [
        {
          "output_type": "execute_result",
          "data": {
            "text/html": [
              "<div>\n",
              "<style scoped>\n",
              "    .dataframe tbody tr th:only-of-type {\n",
              "        vertical-align: middle;\n",
              "    }\n",
              "\n",
              "    .dataframe tbody tr th {\n",
              "        vertical-align: top;\n",
              "    }\n",
              "\n",
              "    .dataframe thead th {\n",
              "        text-align: right;\n",
              "    }\n",
              "</style>\n",
              "<table border=\"1\" class=\"dataframe\">\n",
              "  <thead>\n",
              "    <tr style=\"text-align: right;\">\n",
              "      <th></th>\n",
              "      <th>uniq_id</th>\n",
              "      <th>crawl_timestamp</th>\n",
              "      <th>product_url</th>\n",
              "      <th>product_name</th>\n",
              "      <th>product_category_tree</th>\n",
              "      <th>pid</th>\n",
              "      <th>retail_price</th>\n",
              "      <th>discounted_price</th>\n",
              "      <th>image</th>\n",
              "      <th>is_FK_Advantage_product</th>\n",
              "      <th>description</th>\n",
              "      <th>product_rating</th>\n",
              "      <th>overall_rating</th>\n",
              "      <th>brand</th>\n",
              "      <th>product_specifications</th>\n",
              "      <th>main_cat</th>\n",
              "    </tr>\n",
              "  </thead>\n",
              "  <tbody>\n",
              "    <tr>\n",
              "      <th>0</th>\n",
              "      <td>55b85ea15a1536d46b7190ad6fff8ce7</td>\n",
              "      <td>2016-04-30 03:22:56 +0000</td>\n",
              "      <td>http://www.flipkart.com/elegance-polyester-mul...</td>\n",
              "      <td>Elegance Polyester Multicolor Abstract Eyelet ...</td>\n",
              "      <td>[\"Home Furnishing &gt;&gt; Curtains &amp; Accessories &gt;&gt;...</td>\n",
              "      <td>CRNEG7BKMFFYHQ8Z</td>\n",
              "      <td>1899.0</td>\n",
              "      <td>899.0</td>\n",
              "      <td>55b85ea15a1536d46b7190ad6fff8ce7.jpg</td>\n",
              "      <td>False</td>\n",
              "      <td>Key Features of Elegance Polyester Multicolor ...</td>\n",
              "      <td>No rating available</td>\n",
              "      <td>No rating available</td>\n",
              "      <td>Elegance</td>\n",
              "      <td>{\"product_specification\"=&gt;[{\"key\"=&gt;\"Brand\", \"v...</td>\n",
              "      <td>[\"Home Furnishing</td>\n",
              "    </tr>\n",
              "    <tr>\n",
              "      <th>1</th>\n",
              "      <td>7b72c92c2f6c40268628ec5f14c6d590</td>\n",
              "      <td>2016-04-30 03:22:56 +0000</td>\n",
              "      <td>http://www.flipkart.com/sathiyas-cotton-bath-t...</td>\n",
              "      <td>Sathiyas Cotton Bath Towel</td>\n",
              "      <td>[\"Baby Care &gt;&gt; Baby Bath &amp; Skin &gt;&gt; Baby Bath T...</td>\n",
              "      <td>BTWEGFZHGBXPHZUH</td>\n",
              "      <td>600.0</td>\n",
              "      <td>449.0</td>\n",
              "      <td>7b72c92c2f6c40268628ec5f14c6d590.jpg</td>\n",
              "      <td>False</td>\n",
              "      <td>Specifications of Sathiyas Cotton Bath Towel (...</td>\n",
              "      <td>No rating available</td>\n",
              "      <td>No rating available</td>\n",
              "      <td>Sathiyas</td>\n",
              "      <td>{\"product_specification\"=&gt;[{\"key\"=&gt;\"Machine Wa...</td>\n",
              "      <td>[\"Baby Care</td>\n",
              "    </tr>\n",
              "    <tr>\n",
              "      <th>2</th>\n",
              "      <td>64d5d4a258243731dc7bbb1eef49ad74</td>\n",
              "      <td>2016-04-30 03:22:56 +0000</td>\n",
              "      <td>http://www.flipkart.com/eurospa-cotton-terry-f...</td>\n",
              "      <td>Eurospa Cotton Terry Face Towel Set</td>\n",
              "      <td>[\"Baby Care &gt;&gt; Baby Bath &amp; Skin &gt;&gt; Baby Bath T...</td>\n",
              "      <td>BTWEG6SHXTDB2A2Y</td>\n",
              "      <td>NaN</td>\n",
              "      <td>NaN</td>\n",
              "      <td>64d5d4a258243731dc7bbb1eef49ad74.jpg</td>\n",
              "      <td>False</td>\n",
              "      <td>Key Features of Eurospa Cotton Terry Face Towe...</td>\n",
              "      <td>No rating available</td>\n",
              "      <td>No rating available</td>\n",
              "      <td>Eurospa</td>\n",
              "      <td>{\"product_specification\"=&gt;[{\"key\"=&gt;\"Material\",...</td>\n",
              "      <td>[\"Baby Care</td>\n",
              "    </tr>\n",
              "  </tbody>\n",
              "</table>\n",
              "</div>"
            ],
            "text/plain": [
              "                            uniq_id  ...            main_cat\n",
              "0  55b85ea15a1536d46b7190ad6fff8ce7  ...  [\"Home Furnishing \n",
              "1  7b72c92c2f6c40268628ec5f14c6d590  ...        [\"Baby Care \n",
              "2  64d5d4a258243731dc7bbb1eef49ad74  ...        [\"Baby Care \n",
              "\n",
              "[3 rows x 16 columns]"
            ]
          },
          "metadata": {},
          "execution_count": 190
        }
      ]
    },
    {
      "cell_type": "code",
      "metadata": {
        "id": "ychfj5L-7Hyw"
      },
      "source": [
        "data['main_cat'] = data['main_cat'].str.replace(r'\"', '')\n",
        "data['main_cat'] = data['main_cat'].str.replace(r'[', '')\n",
        "data['main_cat'] = data['main_cat'].str.replace(r']', '')"
      ],
      "execution_count": null,
      "outputs": []
    },
    {
      "cell_type": "code",
      "metadata": {
        "colab": {
          "base_uri": "https://localhost:8080/"
        },
        "id": "OM2A3uvT7Hyx",
        "outputId": "433f276e-aa85-4d02-8b74-39755d0a2aea"
      },
      "source": [
        "data['main_cat'].unique()"
      ],
      "execution_count": null,
      "outputs": [
        {
          "output_type": "execute_result",
          "data": {
            "text/plain": [
              "array(['Home Furnishing ', 'Baby Care ', 'Watches ',\n",
              "       'Home Decor & Festive Needs ', 'Kitchen & Dining ',\n",
              "       'Beauty and Personal Care ', 'Computers '], dtype=object)"
            ]
          },
          "metadata": {},
          "execution_count": 192
        }
      ]
    },
    {
      "cell_type": "markdown",
      "metadata": {
        "id": "5QfOUKR57Hyx"
      },
      "source": [
        "# Data preprocessing"
      ]
    },
    {
      "cell_type": "code",
      "metadata": {
        "colab": {
          "base_uri": "https://localhost:8080/",
          "height": 417
        },
        "id": "6ynASILi7Hyx",
        "outputId": "bc89bc6a-7ba8-4f1b-ca19-827785add720"
      },
      "source": [
        "dataMini = data[['main_cat','description']]\n",
        "dataMini"
      ],
      "execution_count": null,
      "outputs": [
        {
          "output_type": "execute_result",
          "data": {
            "text/html": [
              "<div>\n",
              "<style scoped>\n",
              "    .dataframe tbody tr th:only-of-type {\n",
              "        vertical-align: middle;\n",
              "    }\n",
              "\n",
              "    .dataframe tbody tr th {\n",
              "        vertical-align: top;\n",
              "    }\n",
              "\n",
              "    .dataframe thead th {\n",
              "        text-align: right;\n",
              "    }\n",
              "</style>\n",
              "<table border=\"1\" class=\"dataframe\">\n",
              "  <thead>\n",
              "    <tr style=\"text-align: right;\">\n",
              "      <th></th>\n",
              "      <th>main_cat</th>\n",
              "      <th>description</th>\n",
              "    </tr>\n",
              "  </thead>\n",
              "  <tbody>\n",
              "    <tr>\n",
              "      <th>0</th>\n",
              "      <td>Home Furnishing</td>\n",
              "      <td>Key Features of Elegance Polyester Multicolor ...</td>\n",
              "    </tr>\n",
              "    <tr>\n",
              "      <th>1</th>\n",
              "      <td>Baby Care</td>\n",
              "      <td>Specifications of Sathiyas Cotton Bath Towel (...</td>\n",
              "    </tr>\n",
              "    <tr>\n",
              "      <th>2</th>\n",
              "      <td>Baby Care</td>\n",
              "      <td>Key Features of Eurospa Cotton Terry Face Towe...</td>\n",
              "    </tr>\n",
              "    <tr>\n",
              "      <th>3</th>\n",
              "      <td>Home Furnishing</td>\n",
              "      <td>Key Features of SANTOSH ROYAL FASHION Cotton P...</td>\n",
              "    </tr>\n",
              "    <tr>\n",
              "      <th>4</th>\n",
              "      <td>Home Furnishing</td>\n",
              "      <td>Key Features of Jaipur Print Cotton Floral Kin...</td>\n",
              "    </tr>\n",
              "    <tr>\n",
              "      <th>...</th>\n",
              "      <td>...</td>\n",
              "      <td>...</td>\n",
              "    </tr>\n",
              "    <tr>\n",
              "      <th>1045</th>\n",
              "      <td>Baby Care</td>\n",
              "      <td>Oren Empower Extra Large Self Adhesive Sticker...</td>\n",
              "    </tr>\n",
              "    <tr>\n",
              "      <th>1046</th>\n",
              "      <td>Baby Care</td>\n",
              "      <td>Wallmantra Large Vinyl Sticker Sticker (Pack o...</td>\n",
              "    </tr>\n",
              "    <tr>\n",
              "      <th>1047</th>\n",
              "      <td>Baby Care</td>\n",
              "      <td>Buy Uberlyfe Extra Large Pigmented Polyvinyl F...</td>\n",
              "    </tr>\n",
              "    <tr>\n",
              "      <th>1048</th>\n",
              "      <td>Baby Care</td>\n",
              "      <td>Buy Wallmantra Medium Vinyl Sticker Sticker fo...</td>\n",
              "    </tr>\n",
              "    <tr>\n",
              "      <th>1049</th>\n",
              "      <td>Baby Care</td>\n",
              "      <td>Buy Uberlyfe Large Vinyl Sticker for Rs.595 on...</td>\n",
              "    </tr>\n",
              "  </tbody>\n",
              "</table>\n",
              "<p>1050 rows × 2 columns</p>\n",
              "</div>"
            ],
            "text/plain": [
              "              main_cat                                        description\n",
              "0     Home Furnishing   Key Features of Elegance Polyester Multicolor ...\n",
              "1           Baby Care   Specifications of Sathiyas Cotton Bath Towel (...\n",
              "2           Baby Care   Key Features of Eurospa Cotton Terry Face Towe...\n",
              "3     Home Furnishing   Key Features of SANTOSH ROYAL FASHION Cotton P...\n",
              "4     Home Furnishing   Key Features of Jaipur Print Cotton Floral Kin...\n",
              "...                ...                                                ...\n",
              "1045        Baby Care   Oren Empower Extra Large Self Adhesive Sticker...\n",
              "1046        Baby Care   Wallmantra Large Vinyl Sticker Sticker (Pack o...\n",
              "1047        Baby Care   Buy Uberlyfe Extra Large Pigmented Polyvinyl F...\n",
              "1048        Baby Care   Buy Wallmantra Medium Vinyl Sticker Sticker fo...\n",
              "1049        Baby Care   Buy Uberlyfe Large Vinyl Sticker for Rs.595 on...\n",
              "\n",
              "[1050 rows x 2 columns]"
            ]
          },
          "metadata": {},
          "execution_count": 193
        }
      ]
    },
    {
      "cell_type": "code",
      "metadata": {
        "id": "yhpc0zUI7Hyx"
      },
      "source": [
        "def utils_preprocess_text(text, flg_stemm=False, flg_lemm=True, lst_stopwords=None):\n",
        "    ## clean (convert to lowercase and remove punctuations and characters and then strip)\n",
        "    text = re.sub(r'[^\\w\\s]', '', str(text).lower().strip())\n",
        "            \n",
        "    ## Tokenize (convert from string to list)\n",
        "    lst_text = text.split()\n",
        "    ## remove Stopwords\n",
        "    if lst_stopwords is not None:\n",
        "        lst_text = [word for word in lst_text if word not in \n",
        "                    lst_stopwords]\n",
        "                \n",
        "    ## Stemming (remove -ing, -ly, ...)\n",
        "    if flg_stemm == True:\n",
        "        ps = nltk.stem.porter.PorterStemmer()\n",
        "        lst_text = [ps.stem(word) for word in lst_text]\n",
        "                \n",
        "    ## Lemmatisation (convert the word into root word)\n",
        "    if flg_lemm == True:\n",
        "        lem = nltk.stem.wordnet.WordNetLemmatizer()\n",
        "        lst_text = [lem.lemmatize(word) for word in lst_text]\n",
        "            \n",
        "    ## back to string from list\n",
        "    text = \" \".join(lst_text)\n",
        "    return text"
      ],
      "execution_count": null,
      "outputs": []
    },
    {
      "cell_type": "code",
      "metadata": {
        "id": "5iaJCI057Hyy"
      },
      "source": [
        "lst_stopwords = nltk.corpus.stopwords.words(\"english\")"
      ],
      "execution_count": null,
      "outputs": []
    },
    {
      "cell_type": "code",
      "metadata": {
        "colab": {
          "base_uri": "https://localhost:8080/",
          "height": 304
        },
        "id": "1HB2XzdA7Hyy",
        "scrolled": true,
        "outputId": "1fb56d04-678c-46ea-e1bd-3bf11549a543"
      },
      "source": [
        "dataMini[\"text_clean\"] = dataMini[\"description\"].apply(lambda x: \n",
        "          utils_preprocess_text(x, flg_stemm=False, flg_lemm=True, \n",
        "          lst_stopwords=lst_stopwords))\n",
        "dataMini.head()"
      ],
      "execution_count": null,
      "outputs": [
        {
          "output_type": "stream",
          "text": [
            "/usr/local/lib/python3.7/dist-packages/ipykernel_launcher.py:1: SettingWithCopyWarning: \n",
            "A value is trying to be set on a copy of a slice from a DataFrame.\n",
            "Try using .loc[row_indexer,col_indexer] = value instead\n",
            "\n",
            "See the caveats in the documentation: https://pandas.pydata.org/pandas-docs/stable/user_guide/indexing.html#returning-a-view-versus-a-copy\n",
            "  \"\"\"Entry point for launching an IPython kernel.\n"
          ],
          "name": "stderr"
        },
        {
          "output_type": "execute_result",
          "data": {
            "text/html": [
              "<div>\n",
              "<style scoped>\n",
              "    .dataframe tbody tr th:only-of-type {\n",
              "        vertical-align: middle;\n",
              "    }\n",
              "\n",
              "    .dataframe tbody tr th {\n",
              "        vertical-align: top;\n",
              "    }\n",
              "\n",
              "    .dataframe thead th {\n",
              "        text-align: right;\n",
              "    }\n",
              "</style>\n",
              "<table border=\"1\" class=\"dataframe\">\n",
              "  <thead>\n",
              "    <tr style=\"text-align: right;\">\n",
              "      <th></th>\n",
              "      <th>main_cat</th>\n",
              "      <th>description</th>\n",
              "      <th>text_clean</th>\n",
              "    </tr>\n",
              "  </thead>\n",
              "  <tbody>\n",
              "    <tr>\n",
              "      <th>0</th>\n",
              "      <td>Home Furnishing</td>\n",
              "      <td>Key Features of Elegance Polyester Multicolor ...</td>\n",
              "      <td>key feature elegance polyester multicolor abst...</td>\n",
              "    </tr>\n",
              "    <tr>\n",
              "      <th>1</th>\n",
              "      <td>Baby Care</td>\n",
              "      <td>Specifications of Sathiyas Cotton Bath Towel (...</td>\n",
              "      <td>specification sathiyas cotton bath towel 3 bat...</td>\n",
              "    </tr>\n",
              "    <tr>\n",
              "      <th>2</th>\n",
              "      <td>Baby Care</td>\n",
              "      <td>Key Features of Eurospa Cotton Terry Face Towe...</td>\n",
              "      <td>key feature eurospa cotton terry face towel se...</td>\n",
              "    </tr>\n",
              "    <tr>\n",
              "      <th>3</th>\n",
              "      <td>Home Furnishing</td>\n",
              "      <td>Key Features of SANTOSH ROYAL FASHION Cotton P...</td>\n",
              "      <td>key feature santosh royal fashion cotton print...</td>\n",
              "    </tr>\n",
              "    <tr>\n",
              "      <th>4</th>\n",
              "      <td>Home Furnishing</td>\n",
              "      <td>Key Features of Jaipur Print Cotton Floral Kin...</td>\n",
              "      <td>key feature jaipur print cotton floral king si...</td>\n",
              "    </tr>\n",
              "  </tbody>\n",
              "</table>\n",
              "</div>"
            ],
            "text/plain": [
              "           main_cat  ...                                         text_clean\n",
              "0  Home Furnishing   ...  key feature elegance polyester multicolor abst...\n",
              "1        Baby Care   ...  specification sathiyas cotton bath towel 3 bat...\n",
              "2        Baby Care   ...  key feature eurospa cotton terry face towel se...\n",
              "3  Home Furnishing   ...  key feature santosh royal fashion cotton print...\n",
              "4  Home Furnishing   ...  key feature jaipur print cotton floral king si...\n",
              "\n",
              "[5 rows x 3 columns]"
            ]
          },
          "metadata": {},
          "execution_count": 196
        }
      ]
    },
    {
      "cell_type": "markdown",
      "metadata": {
        "id": "o-5h7wZh7Hyz"
      },
      "source": [
        "Créer une list de texte nettoyé pour entrainer les modèles non-supervisé"
      ]
    },
    {
      "cell_type": "code",
      "metadata": {
        "id": "uGX0vgbf7Hyz"
      },
      "source": [
        "clean_desc = []\n",
        "for w in range(len(dataMini.text_clean)):\n",
        "    clean_desc.append(dataMini.text_clean.iloc[w])"
      ],
      "execution_count": null,
      "outputs": []
    },
    {
      "cell_type": "code",
      "metadata": {
        "colab": {
          "base_uri": "https://localhost:8080/"
        },
        "id": "3q4lWamx7Hy1",
        "outputId": "4ef6061f-8a9e-4798-d657-26f8671a3509"
      },
      "source": [
        "clean_desc[:3]"
      ],
      "execution_count": null,
      "outputs": [
        {
          "output_type": "execute_result",
          "data": {
            "text/plain": [
              "['key feature elegance polyester multicolor abstract eyelet door curtain floral curtainelegance polyester multicolor abstract eyelet door curtain 213 cm height pack 2 price r 899 curtain enhances look interiorsthis curtain made 100 high quality polyester fabricit feature eyelet style stitch metal ringit make room environment romantic lovingthis curtain ant wrinkle anti shrinkage elegant apparancegive home bright modernistic appeal design surreal attention sure steal heart contemporary eyelet valance curtain slide smoothly draw apart first thing morning welcome bright sun ray want wish good morning whole world draw close evening create special moment joyous beauty given soothing print bring home elegant curtain softly filter light room get right amount sunlightspecifications elegance polyester multicolor abstract eyelet door curtain 213 cm height pack 2 general brand elegance designed door type eyelet model name abstract polyester door curtain set 2 model id duster25 color multicolor dimension length 213 cm box number content sale package pack 2 sale package 2 curtain body design material polyester',\n",
              " 'specification sathiyas cotton bath towel 3 bath towel red yellow blue bath towel feature machine washable yes material cotton design self design general brand sathiyas type bath towel gsm 500 model name sathiyas cotton bath towel ideal men woman boy girl model id asvtwl322 color red yellow blue size mediam dimension length 30 inch width 60 inch box number content sale package 3 sale package 3 bath towel',\n",
              " 'key feature eurospa cotton terry face towel set size small height 9 inch gsm 360eurospa cotton terry face towel set 20 piece face towel set assorted price r 299 eurospa brings exclusively designed 100 soft cotton towel export quality product soft texture take care skin give enriched feeling deserve eurospa exporting bath towel lot renowned brand last 10 year famous fine print absorbency softness durability note product 100 cotton susceptible shrinkage product color may vary picture size may vary 3 wash care wash cold water iron bleach flat dry wash first use size face towel 23 cm x 23 cmsspecifications eurospa cotton terry face towel set 20 piece face towel set assorted bath towel feature material cotton terry design shuvam general brand eurospa gsm 360 type face towel set model name shuvam20pcftsetassorted ideal boy girl men woman model id shuvam20pcftsetassorted size small color assorted dimension weight 350 g length 9 inch width 9 inch box number content sale package 20 sale package 20 piece face towel set']"
            ]
          },
          "metadata": {},
          "execution_count": 198
        }
      ]
    },
    {
      "cell_type": "markdown",
      "metadata": {
        "id": "aLTOsLPB-oXG"
      },
      "source": [
        ""
      ]
    },
    {
      "cell_type": "markdown",
      "metadata": {
        "id": "7PeC60Q-AOuG"
      },
      "source": [
        "Ici, nous convertirons les catégories des produits de format text en format numérique pour que Bert puisse l'utiliser"
      ]
    },
    {
      "cell_type": "code",
      "metadata": {
        "id": "g_7Wdgz19qTm"
      },
      "source": [
        "# dataMini[\"main_cat_num\"] = dataMini[\"main_cat\"].astype('category').cat.codes"
      ],
      "execution_count": null,
      "outputs": []
    },
    {
      "cell_type": "code",
      "metadata": {
        "colab": {
          "base_uri": "https://localhost:8080/",
          "height": 357
        },
        "id": "TzmU5bsk-FtZ",
        "outputId": "0334ae9f-a554-4372-f74e-7f5d75a30323"
      },
      "source": [
        "dataMini.sample(10)"
      ],
      "execution_count": null,
      "outputs": [
        {
          "output_type": "execute_result",
          "data": {
            "text/html": [
              "<div>\n",
              "<style scoped>\n",
              "    .dataframe tbody tr th:only-of-type {\n",
              "        vertical-align: middle;\n",
              "    }\n",
              "\n",
              "    .dataframe tbody tr th {\n",
              "        vertical-align: top;\n",
              "    }\n",
              "\n",
              "    .dataframe thead th {\n",
              "        text-align: right;\n",
              "    }\n",
              "</style>\n",
              "<table border=\"1\" class=\"dataframe\">\n",
              "  <thead>\n",
              "    <tr style=\"text-align: right;\">\n",
              "      <th></th>\n",
              "      <th>main_cat</th>\n",
              "      <th>description</th>\n",
              "      <th>text_clean</th>\n",
              "    </tr>\n",
              "  </thead>\n",
              "  <tbody>\n",
              "    <tr>\n",
              "      <th>583</th>\n",
              "      <td>Watches</td>\n",
              "      <td>Timewel 1100-N1944_B Analog Watch  - For Women...</td>\n",
              "      <td>timewel 1100n1944_b analog watch woman buy tim...</td>\n",
              "    </tr>\n",
              "    <tr>\n",
              "      <th>949</th>\n",
              "      <td>Home Furnishing</td>\n",
              "      <td>Buy Welhouse Geometric Double Blanket Black at...</td>\n",
              "      <td>buy welhouse geometric double blanket black r ...</td>\n",
              "    </tr>\n",
              "    <tr>\n",
              "      <th>946</th>\n",
              "      <td>Beauty and Personal Care</td>\n",
              "      <td>Flipkart.com: Buy Organistick Silver Label Lip...</td>\n",
              "      <td>flipkartcom buy organistick silver label lipst...</td>\n",
              "    </tr>\n",
              "    <tr>\n",
              "      <th>860</th>\n",
              "      <td>Computers</td>\n",
              "      <td>Buy Dizionario Mini Perfume Fan Cooling Fancoo...</td>\n",
              "      <td>buy dizionario mini perfume fan cooling fancoo...</td>\n",
              "    </tr>\n",
              "    <tr>\n",
              "      <th>1045</th>\n",
              "      <td>Baby Care</td>\n",
              "      <td>Oren Empower Extra Large Self Adhesive Sticker...</td>\n",
              "      <td>oren empower extra large self adhesive sticker...</td>\n",
              "    </tr>\n",
              "    <tr>\n",
              "      <th>470</th>\n",
              "      <td>Beauty and Personal Care</td>\n",
              "      <td>Specifications of OGX Sunkissed Blonde Lemon H...</td>\n",
              "      <td>specification ogx sunkissed blonde lemon highl...</td>\n",
              "    </tr>\n",
              "    <tr>\n",
              "      <th>1021</th>\n",
              "      <td>Computers</td>\n",
              "      <td>Key Features of PRINT SHAPES roronoa Zora Lapt...</td>\n",
              "      <td>key feature print shape roronoa zora laptop sk...</td>\n",
              "    </tr>\n",
              "    <tr>\n",
              "      <th>847</th>\n",
              "      <td>Computers</td>\n",
              "      <td>Buy Rock Rocket Desktop Charger 6950290687051 ...</td>\n",
              "      <td>buy rock rocket desktop charger 6950290687051 ...</td>\n",
              "    </tr>\n",
              "    <tr>\n",
              "      <th>114</th>\n",
              "      <td>Baby Care</td>\n",
              "      <td>Flipkart.com is offering Lollipop Lane Tiddly ...</td>\n",
              "      <td>flipkartcom offering lollipop lane tiddly wink...</td>\n",
              "    </tr>\n",
              "    <tr>\n",
              "      <th>746</th>\n",
              "      <td>Home Furnishing</td>\n",
              "      <td>Buy eCraftIndia Floral Cushions Cover at Rs. 4...</td>\n",
              "      <td>buy ecraftindia floral cushion cover r 404 fli...</td>\n",
              "    </tr>\n",
              "  </tbody>\n",
              "</table>\n",
              "</div>"
            ],
            "text/plain": [
              "                       main_cat  ...                                         text_clean\n",
              "583                    Watches   ...  timewel 1100n1944_b analog watch woman buy tim...\n",
              "949            Home Furnishing   ...  buy welhouse geometric double blanket black r ...\n",
              "946   Beauty and Personal Care   ...  flipkartcom buy organistick silver label lipst...\n",
              "860                  Computers   ...  buy dizionario mini perfume fan cooling fancoo...\n",
              "1045                 Baby Care   ...  oren empower extra large self adhesive sticker...\n",
              "470   Beauty and Personal Care   ...  specification ogx sunkissed blonde lemon highl...\n",
              "1021                 Computers   ...  key feature print shape roronoa zora laptop sk...\n",
              "847                  Computers   ...  buy rock rocket desktop charger 6950290687051 ...\n",
              "114                  Baby Care   ...  flipkartcom offering lollipop lane tiddly wink...\n",
              "746            Home Furnishing   ...  buy ecraftindia floral cushion cover r 404 fli...\n",
              "\n",
              "[10 rows x 3 columns]"
            ]
          },
          "metadata": {},
          "execution_count": 200
        }
      ]
    },
    {
      "cell_type": "markdown",
      "metadata": {
        "id": "e20EDcOu7Hy2"
      },
      "source": [
        "## Division de jeu de données"
      ]
    },
    {
      "cell_type": "markdown",
      "metadata": {
        "id": "zh1utjSk7Hy2"
      },
      "source": [
        "Nous allons diviser le jeu de données en deux parties(train et test) pour entraîner les modèles machine learning supervisés"
      ]
    },
    {
      "cell_type": "code",
      "metadata": {
        "id": "1XglemQ57Hy3"
      },
      "source": [
        "from sklearn import feature_extraction, model_selection, naive_bayes, pipeline, manifold, preprocessing\n",
        "from sklearn.model_selection import train_test_split\n",
        "\n",
        "## split dataset\n",
        "dtf_train, dtf_test = model_selection.train_test_split(dataMini, test_size=0.2)\n",
        "\n",
        "# X_train, X_test, y_train, y_test = train_test_split(dataMini['description'],dataMini['main_cat_num'], test_size=0.2)\n",
        "\n",
        "# get target\n",
        "y_train = dtf_train[\"main_cat\"].values\n",
        "y_test = dtf_test[\"main_cat\"].values"
      ],
      "execution_count": null,
      "outputs": []
    },
    {
      "cell_type": "markdown",
      "metadata": {
        "id": "jci41Zt77Hy3"
      },
      "source": [
        "# N-gram"
      ]
    },
    {
      "cell_type": "markdown",
      "metadata": {
        "id": "Q-yg21sf7Hy3"
      },
      "source": [
        "N-gramme est une sous-séquence de n éléments construite à partir d'une séquence donnée. L'idée est que, à partir d'une séquence de mots donnée. il est possible d'obtenir la fonction de vraisemblance de l'apparition de mot suivant."
      ]
    },
    {
      "cell_type": "code",
      "metadata": {
        "id": "CWV4Np4e7Hy3"
      },
      "source": [
        "# generate unigrams bigrams trigrams\n",
        "\n",
        "unigram=[]\n",
        "bigram=[]\n",
        "trigram=[]\n",
        "tokenized_text=[]\n",
        "\n",
        "for sentence in dataMini['text_clean']:\n",
        "    unigram.extend(unigram)\n",
        "    bigram.extend(bigrams(sentence.split(' ')))\n",
        "    trigram.extend(trigrams(sentence.split(' ')))"
      ],
      "execution_count": null,
      "outputs": []
    },
    {
      "cell_type": "code",
      "metadata": {
        "colab": {
          "base_uri": "https://localhost:8080/"
        },
        "id": "kwyWGDoT7Hy4",
        "outputId": "f5eb18bf-4f15-424d-ca79-481e3d6b812d"
      },
      "source": [
        "bigramFreq = collections.Counter(bigram)\n",
        "bigramFreq"
      ],
      "execution_count": null,
      "outputs": [
        {
          "output_type": "execute_result",
          "data": {
            "text/plain": [
              "Counter({('key', 'feature'): 207,\n",
              "         ('feature', 'elegance'): 1,\n",
              "         ('elegance', 'polyester'): 2,\n",
              "         ('polyester', 'multicolor'): 4,\n",
              "         ('multicolor', 'abstract'): 3,\n",
              "         ('abstract', 'eyelet'): 4,\n",
              "         ('eyelet', 'door'): 14,\n",
              "         ('door', 'curtain'): 26,\n",
              "         ('curtain', 'floral'): 1,\n",
              "         ('floral', 'curtainelegance'): 1,\n",
              "         ('curtainelegance', 'polyester'): 1,\n",
              "         ('curtain', '213'): 4,\n",
              "         ('213', 'cm'): 9,\n",
              "         ('cm', 'height'): 22,\n",
              "         ('height', 'pack'): 12,\n",
              "         ('pack', '2'): 61,\n",
              "         ('2', 'price'): 15,\n",
              "         ('price', 'r'): 342,\n",
              "         ('r', '899'): 5,\n",
              "         ('899', 'curtain'): 1,\n",
              "         ('curtain', 'enhances'): 1,\n",
              "         ('enhances', 'look'): 1,\n",
              "         ('look', 'interiorsthis'): 1,\n",
              "         ('interiorsthis', 'curtain'): 1,\n",
              "         ('curtain', 'made'): 1,\n",
              "         ('made', '100'): 8,\n",
              "         ('100', 'high'): 2,\n",
              "         ('high', 'quality'): 69,\n",
              "         ('quality', 'polyester'): 3,\n",
              "         ('polyester', 'fabricit'): 1,\n",
              "         ('fabricit', 'feature'): 1,\n",
              "         ('feature', 'eyelet'): 1,\n",
              "         ('eyelet', 'style'): 3,\n",
              "         ('style', 'stitch'): 1,\n",
              "         ('stitch', 'metal'): 1,\n",
              "         ('metal', 'ringit'): 1,\n",
              "         ('ringit', 'make'): 1,\n",
              "         ('make', 'room'): 1,\n",
              "         ('room', 'environment'): 1,\n",
              "         ('environment', 'romantic'): 1,\n",
              "         ('romantic', 'lovingthis'): 1,\n",
              "         ('lovingthis', 'curtain'): 1,\n",
              "         ('curtain', 'ant'): 1,\n",
              "         ('ant', 'wrinkle'): 1,\n",
              "         ('wrinkle', 'anti'): 1,\n",
              "         ('anti', 'shrinkage'): 1,\n",
              "         ('shrinkage', 'elegant'): 1,\n",
              "         ('elegant', 'apparancegive'): 1,\n",
              "         ('apparancegive', 'home'): 1,\n",
              "         ('home', 'bright'): 1,\n",
              "         ('bright', 'modernistic'): 1,\n",
              "         ('modernistic', 'appeal'): 1,\n",
              "         ('appeal', 'design'): 1,\n",
              "         ('design', 'surreal'): 1,\n",
              "         ('surreal', 'attention'): 1,\n",
              "         ('attention', 'sure'): 1,\n",
              "         ('sure', 'steal'): 1,\n",
              "         ('steal', 'heart'): 1,\n",
              "         ('heart', 'contemporary'): 1,\n",
              "         ('contemporary', 'eyelet'): 1,\n",
              "         ('eyelet', 'valance'): 1,\n",
              "         ('valance', 'curtain'): 1,\n",
              "         ('curtain', 'slide'): 1,\n",
              "         ('slide', 'smoothly'): 1,\n",
              "         ('smoothly', 'draw'): 1,\n",
              "         ('draw', 'apart'): 1,\n",
              "         ('apart', 'first'): 1,\n",
              "         ('first', 'thing'): 2,\n",
              "         ('thing', 'morning'): 1,\n",
              "         ('morning', 'welcome'): 1,\n",
              "         ('welcome', 'bright'): 1,\n",
              "         ('bright', 'sun'): 1,\n",
              "         ('sun', 'ray'): 1,\n",
              "         ('ray', 'want'): 1,\n",
              "         ('want', 'wish'): 1,\n",
              "         ('wish', 'good'): 1,\n",
              "         ('good', 'morning'): 1,\n",
              "         ('morning', 'whole'): 1,\n",
              "         ('whole', 'world'): 1,\n",
              "         ('world', 'draw'): 1,\n",
              "         ('draw', 'close'): 1,\n",
              "         ('close', 'evening'): 1,\n",
              "         ('evening', 'create'): 1,\n",
              "         ('create', 'special'): 1,\n",
              "         ('special', 'moment'): 1,\n",
              "         ('moment', 'joyous'): 1,\n",
              "         ('joyous', 'beauty'): 1,\n",
              "         ('beauty', 'given'): 1,\n",
              "         ('given', 'soothing'): 1,\n",
              "         ('soothing', 'print'): 1,\n",
              "         ('print', 'bring'): 1,\n",
              "         ('bring', 'home'): 7,\n",
              "         ('home', 'elegant'): 1,\n",
              "         ('elegant', 'curtain'): 1,\n",
              "         ('curtain', 'softly'): 1,\n",
              "         ('softly', 'filter'): 1,\n",
              "         ('filter', 'light'): 1,\n",
              "         ('light', 'room'): 1,\n",
              "         ('room', 'get'): 1,\n",
              "         ('get', 'right'): 1,\n",
              "         ('right', 'amount'): 1,\n",
              "         ('amount', 'sunlightspecifications'): 1,\n",
              "         ('sunlightspecifications', 'elegance'): 1,\n",
              "         ('2', 'general'): 13,\n",
              "         ('general', 'brand'): 132,\n",
              "         ('brand', 'elegance'): 1,\n",
              "         ('elegance', 'designed'): 1,\n",
              "         ('designed', 'door'): 4,\n",
              "         ('door', 'type'): 7,\n",
              "         ('type', 'eyelet'): 10,\n",
              "         ('eyelet', 'model'): 10,\n",
              "         ('model', 'name'): 92,\n",
              "         ('name', 'abstract'): 1,\n",
              "         ('abstract', 'polyester'): 1,\n",
              "         ('polyester', 'door'): 1,\n",
              "         ('curtain', 'set'): 1,\n",
              "         ('set', '2'): 19,\n",
              "         ('2', 'model'): 2,\n",
              "         ('model', 'id'): 54,\n",
              "         ('id', 'duster25'): 1,\n",
              "         ('duster25', 'color'): 1,\n",
              "         ('color', 'multicolor'): 46,\n",
              "         ('multicolor', 'dimension'): 14,\n",
              "         ('dimension', 'length'): 42,\n",
              "         ('length', '213'): 3,\n",
              "         ('cm', 'box'): 36,\n",
              "         ('box', 'number'): 76,\n",
              "         ('number', 'content'): 140,\n",
              "         ('content', 'sale'): 134,\n",
              "         ('sale', 'package'): 261,\n",
              "         ('package', 'pack'): 111,\n",
              "         ('2', 'sale'): 7,\n",
              "         ('package', '2'): 10,\n",
              "         ('2', 'curtain'): 1,\n",
              "         ('curtain', 'body'): 1,\n",
              "         ('body', 'design'): 26,\n",
              "         ('design', 'material'): 10,\n",
              "         ('material', 'polyester'): 18,\n",
              "         ('specification', 'sathiyas'): 1,\n",
              "         ('sathiyas', 'cotton'): 2,\n",
              "         ('cotton', 'bath'): 16,\n",
              "         ('bath', 'towel'): 36,\n",
              "         ('towel', '3'): 2,\n",
              "         ('3', 'bath'): 2,\n",
              "         ('towel', 'red'): 3,\n",
              "         ('red', 'yellow'): 4,\n",
              "         ('yellow', 'blue'): 2,\n",
              "         ('blue', 'bath'): 1,\n",
              "         ('towel', 'feature'): 3,\n",
              "         ('feature', 'machine'): 2,\n",
              "         ('machine', 'washable'): 20,\n",
              "         ('washable', 'yes'): 15,\n",
              "         ('yes', 'material'): 6,\n",
              "         ('material', 'cotton'): 25,\n",
              "         ('cotton', 'design'): 2,\n",
              "         ('design', 'self'): 1,\n",
              "         ('self', 'design'): 17,\n",
              "         ('design', 'general'): 1,\n",
              "         ('brand', 'sathiyas'): 1,\n",
              "         ('sathiyas', 'type'): 1,\n",
              "         ('type', 'bath'): 1,\n",
              "         ('towel', 'gsm'): 2,\n",
              "         ('gsm', '500'): 1,\n",
              "         ('500', 'model'): 1,\n",
              "         ('name', 'sathiyas'): 1,\n",
              "         ('towel', 'ideal'): 1,\n",
              "         ('ideal', 'men'): 13,\n",
              "         ('men', 'woman'): 17,\n",
              "         ('woman', 'boy'): 4,\n",
              "         ('boy', 'girl'): 31,\n",
              "         ('girl', 'model'): 10,\n",
              "         ('id', 'asvtwl322'): 1,\n",
              "         ('asvtwl322', 'color'): 1,\n",
              "         ('color', 'red'): 8,\n",
              "         ('blue', 'size'): 4,\n",
              "         ('size', 'mediam'): 1,\n",
              "         ('mediam', 'dimension'): 1,\n",
              "         ('length', '30'): 1,\n",
              "         ('30', 'inch'): 2,\n",
              "         ('inch', 'width'): 17,\n",
              "         ('width', '60'): 3,\n",
              "         ('60', 'inch'): 3,\n",
              "         ('inch', 'box'): 6,\n",
              "         ('package', '3'): 4,\n",
              "         ('3', 'sale'): 2,\n",
              "         ('feature', 'eurospa'): 1,\n",
              "         ('eurospa', 'cotton'): 2,\n",
              "         ('cotton', 'terry'): 4,\n",
              "         ('terry', 'face'): 3,\n",
              "         ('face', 'towel'): 15,\n",
              "         ('towel', 'set'): 12,\n",
              "         ('set', 'size'): 1,\n",
              "         ('size', 'small'): 6,\n",
              "         ('small', 'height'): 1,\n",
              "         ('height', '9'): 1,\n",
              "         ('9', 'inch'): 5,\n",
              "         ('inch', 'gsm'): 2,\n",
              "         ('gsm', '360eurospa'): 1,\n",
              "         ('360eurospa', 'cotton'): 1,\n",
              "         ('set', '20'): 2,\n",
              "         ('20', 'piece'): 3,\n",
              "         ('piece', 'face'): 3,\n",
              "         ('set', 'assorted'): 2,\n",
              "         ('assorted', 'price'): 1,\n",
              "         ('r', '299'): 25,\n",
              "         ('299', 'eurospa'): 1,\n",
              "         ('eurospa', 'brings'): 1,\n",
              "         ('brings', 'exclusively'): 1,\n",
              "         ('exclusively', 'designed'): 1,\n",
              "         ('designed', '100'): 1,\n",
              "         ('100', 'soft'): 1,\n",
              "         ('soft', 'cotton'): 9,\n",
              "         ('cotton', 'towel'): 3,\n",
              "         ('towel', 'export'): 1,\n",
              "         ('export', 'quality'): 1,\n",
              "         ('quality', 'product'): 17,\n",
              "         ('product', 'soft'): 1,\n",
              "         ('soft', 'texture'): 1,\n",
              "         ('texture', 'take'): 1,\n",
              "         ('take', 'care'): 4,\n",
              "         ('care', 'skin'): 3,\n",
              "         ('skin', 'give'): 1,\n",
              "         ('give', 'enriched'): 1,\n",
              "         ('enriched', 'feeling'): 1,\n",
              "         ('feeling', 'deserve'): 1,\n",
              "         ('deserve', 'eurospa'): 1,\n",
              "         ('eurospa', 'exporting'): 1,\n",
              "         ('exporting', 'bath'): 1,\n",
              "         ('towel', 'lot'): 1,\n",
              "         ('lot', 'renowned'): 1,\n",
              "         ('renowned', 'brand'): 1,\n",
              "         ('brand', 'last'): 1,\n",
              "         ('last', '10'): 1,\n",
              "         ('10', 'year'): 1,\n",
              "         ('year', 'famous'): 1,\n",
              "         ('famous', 'fine'): 1,\n",
              "         ('fine', 'print'): 1,\n",
              "         ('print', 'absorbency'): 1,\n",
              "         ('absorbency', 'softness'): 1,\n",
              "         ('softness', 'durability'): 1,\n",
              "         ('durability', 'note'): 1,\n",
              "         ('note', 'product'): 1,\n",
              "         ('product', '100'): 1,\n",
              "         ('100', 'cotton'): 38,\n",
              "         ('cotton', 'susceptible'): 1,\n",
              "         ('susceptible', 'shrinkage'): 1,\n",
              "         ('shrinkage', 'product'): 1,\n",
              "         ('product', 'color'): 7,\n",
              "         ('color', 'may'): 6,\n",
              "         ('may', 'vary'): 34,\n",
              "         ('vary', 'picture'): 1,\n",
              "         ('picture', 'size'): 1,\n",
              "         ('size', 'may'): 5,\n",
              "         ('vary', '3'): 1,\n",
              "         ('3', 'wash'): 1,\n",
              "         ('wash', 'care'): 14,\n",
              "         ('care', 'wash'): 20,\n",
              "         ('wash', 'cold'): 8,\n",
              "         ('cold', 'water'): 6,\n",
              "         ('water', 'iron'): 1,\n",
              "         ('iron', 'bleach'): 1,\n",
              "         ('bleach', 'flat'): 1,\n",
              "         ('flat', 'dry'): 1,\n",
              "         ('dry', 'wash'): 3,\n",
              "         ('wash', 'first'): 3,\n",
              "         ('first', 'use'): 3,\n",
              "         ('use', 'size'): 1,\n",
              "         ('size', 'face'): 1,\n",
              "         ('towel', '23'): 1,\n",
              "         ('23', 'cm'): 5,\n",
              "         ('cm', 'x'): 18,\n",
              "         ('x', '23'): 3,\n",
              "         ('23', 'cmsspecifications'): 1,\n",
              "         ('cmsspecifications', 'eurospa'): 1,\n",
              "         ('assorted', 'bath'): 1,\n",
              "         ('feature', 'material'): 8,\n",
              "         ('terry', 'design'): 1,\n",
              "         ('design', 'shuvam'): 1,\n",
              "         ('shuvam', 'general'): 1,\n",
              "         ('brand', 'eurospa'): 1,\n",
              "         ('eurospa', 'gsm'): 1,\n",
              "         ('gsm', '360'): 1,\n",
              "         ('360', 'type'): 1,\n",
              "         ('type', 'face'): 1,\n",
              "         ('set', 'model'): 3,\n",
              "         ('name', 'shuvam20pcftsetassorted'): 1,\n",
              "         ('shuvam20pcftsetassorted', 'ideal'): 1,\n",
              "         ('ideal', 'boy'): 15,\n",
              "         ('girl', 'men'): 1,\n",
              "         ('woman', 'model'): 1,\n",
              "         ('id', 'shuvam20pcftsetassorted'): 1,\n",
              "         ('shuvam20pcftsetassorted', 'size'): 1,\n",
              "         ('small', 'color'): 1,\n",
              "         ('color', 'assorted'): 1,\n",
              "         ('assorted', 'dimension'): 1,\n",
              "         ('dimension', 'weight'): 45,\n",
              "         ('weight', '350'): 2,\n",
              "         ('350', 'g'): 8,\n",
              "         ('g', 'length'): 9,\n",
              "         ('length', '9'): 1,\n",
              "         ('width', '9'): 2,\n",
              "         ('package', '20'): 2,\n",
              "         ('20', 'sale'): 1,\n",
              "         ('feature', 'santosh'): 2,\n",
              "         ('santosh', 'royal'): 6,\n",
              "         ('royal', 'fashion'): 7,\n",
              "         ('fashion', 'cotton'): 5,\n",
              "         ('cotton', 'printed'): 5,\n",
              "         ('printed', 'king'): 2,\n",
              "         ('king', 'sized'): 7,\n",
              "         ('sized', 'double'): 7,\n",
              "         ('double', 'bedsheet'): 27,\n",
              "         ('bedsheet', 'royal'): 1,\n",
              "         ('royal', 'bedsheet'): 1,\n",
              "         ('bedsheet', 'perfact'): 1,\n",
              "         ('perfact', 'wedding'): 1,\n",
              "         ('wedding', 'giftingspecifications'): 1,\n",
              "         ('giftingspecifications', 'santosh'): 1,\n",
              "         ('bedsheet', '1'): 11,\n",
              "         ('1', 'bedsheet2'): 2,\n",
              "         ('bedsheet2', 'pillow'): 2,\n",
              "         ('pillow', 'cover'): 36,\n",
              "         ('cover', 'multicolor'): 12,\n",
              "         ('multicolor', 'general'): 31,\n",
              "         ('brand', 'santosh'): 2,\n",
              "         ('fashion', 'machine'): 1,\n",
              "         ('yes', 'type'): 11,\n",
              "         ('type', 'flat'): 8,\n",
              "         ('flat', 'material'): 5,\n",
              "         ('cotton', 'model'): 8,\n",
              "         ('name', 'gold'): 2,\n",
              "         ('gold', 'design'): 1,\n",
              "         ('design', 'royal'): 1,\n",
              "         ('royal', 'cotton'): 1,\n",
              "         ('printed', 'wedding'): 1,\n",
              "         ('wedding', 'gifted'): 1,\n",
              "         ('gifted', 'double'): 1,\n",
              "         ('bedsheet', '2'): 6,\n",
              "         ('2', 'pillow'): 10,\n",
              "         ('cover', 'model'): 3,\n",
              "         ('id', 'goldbedi38'): 1,\n",
              "         ('goldbedi38', 'color'): 1,\n",
              "         ('multicolor', 'size'): 5,\n",
              "         ('size', 'king'): 3,\n",
              "         ('king', 'fabric'): 1,\n",
              "         ('fabric', 'care'): 62,\n",
              "         ('care', 'machine'): 17,\n",
              "         ('machine', 'wash'): 22,\n",
              "         ('wash', 'bleach'): 14,\n",
              "         ('bleach', 'dimension'): 2,\n",
              "         ('dimension', 'flat'): 6,\n",
              "         ('flat', 'sheet'): 19,\n",
              "         ('sheet', 'width'): 16,\n",
              "         ('width', '90'): 2,\n",
              "         ('90', 'inch'): 4,\n",
              "         ('inch', '230'): 2,\n",
              "         ('230', 'cm'): 4,\n",
              "         ('cm', 'fitted'): 17,\n",
              "         ('fitted', 'sheet'): 21,\n",
              "         ('width', '228'): 1,\n",
              "         ('228', 'cm'): 7,\n",
              "         ('cm', 'pillow'): 10,\n",
              "         ('cover', 'width'): 8,\n",
              "         ('width', '16'): 2,\n",
              "         ('16', 'inch'): 9,\n",
              "         ('inch', '43'): 1,\n",
              "         ('43', 'cm'): 2,\n",
              "         ('cover', 'length'): 12,\n",
              "         ('length', '28'): 1,\n",
              "         ('28', 'inch'): 1,\n",
              "         ('inch', '72'): 1,\n",
              "         ('72', 'cm'): 2,\n",
              "         ('sheet', 'depth'): 14,\n",
              "         ('depth', '280'): 1,\n",
              "         ('280', 'cm'): 2,\n",
              "         ('sheet', 'length'): 16,\n",
              "         ('length', '278'): 1,\n",
              "         ('278', 'cm'): 1,\n",
              "         ('cm', 'flat'): 13,\n",
              "         ('depth', '282'): 1,\n",
              "         ('282', 'cm'): 1,\n",
              "         ('length', '110'): 1,\n",
              "         ('110', 'inch'): 1,\n",
              "         ('inch', '280'): 1,\n",
              "         ('package', '1'): 102,\n",
              "         ('1', 'sale'): 23,\n",
              "         ('feature', 'jaipur'): 2,\n",
              "         ('jaipur', 'print'): 6,\n",
              "         ('print', 'cotton'): 6,\n",
              "         ('cotton', 'floral'): 9,\n",
              "         ('floral', 'king'): 4,\n",
              "         ('bedsheet', '100'): 1,\n",
              "         ('100', 'cottonjaipur'): 1,\n",
              "         ('cottonjaipur', 'print'): 1,\n",
              "         ('1', 'bed'): 4,\n",
              "         ('bed', 'sheet'): 7,\n",
              "         ('sheet', '2'): 3,\n",
              "         ('cover', 'white'): 4,\n",
              "         ('white', 'price'): 11,\n",
              "         ('r', '998'): 1,\n",
              "         ('998', 'nice'): 1,\n",
              "         ('nice', 'bed'): 1,\n",
              "         ('sheet', 'made'): 1,\n",
              "         ('cotton', 'give'): 1,\n",
              "         ('give', 'comfort'): 1,\n",
              "         ('comfort', 'bed'): 1,\n",
              "         ('sheet', 'hand'): 1,\n",
              "         ('hand', 'printed'): 2,\n",
              "         ('printed', 'bedsheet'): 2,\n",
              "         ('bedsheet', 'give'): 1,\n",
              "         ('give', 'nice'): 1,\n",
              "         ('nice', 'look'): 1,\n",
              "         ('look', 'room'): 1,\n",
              "         ('room', 'fast'): 1,\n",
              "         ('fast', 'colour'): 2,\n",
              "         ('colour', 'good'): 1,\n",
              "         ('good', 'quality'): 13,\n",
              "         ('quality', 'give'): 1,\n",
              "         ('give', 'bedsheet'): 3,\n",
              "         ('bedsheet', 'long'): 1,\n",
              "         ('long', 'lifespecifications'): 1,\n",
              "         ('lifespecifications', 'jaipur'): 1,\n",
              "         ('white', 'general'): 5,\n",
              "         ('general', 'machine'): 1,\n",
              "         ('yes', 'brand'): 3,\n",
              "         ('brand', 'jaipur'): 2,\n",
              "         ('print', 'type'): 1,\n",
              "         ('flat', 'model'): 2,\n",
              "         ('name', 'jaipur117'): 1,\n",
              "         ('jaipur117', 'material'): 1,\n",
              "         ('cotton', 'thread'): 1,\n",
              "         ('thread', 'count'): 4,\n",
              "         ('count', '140'): 2,\n",
              "         ('140', 'model'): 1,\n",
              "         ('id', 'jaipur117'): 1,\n",
              "         ('jaipur117', 'fabric'): 1,\n",
              "         ('care', 'machinewash'): 2,\n",
              "         ('machinewash', 'bleach'): 1,\n",
              "         ('bleach', 'size'): 2,\n",
              "         ('king', 'color'): 2,\n",
              "         ('color', 'white'): 12,\n",
              "         ('white', 'warranty'): 2,\n",
              "         ('warranty', 'waranty'): 1,\n",
              "         ('waranty', 'product'): 1,\n",
              "         ('product', 'manufacturing'): 1,\n",
              "         ('manufacturing', 'defect'): 24,\n",
              "         ('defect', 'product'): 3,\n",
              "         ('product', 'exchange'): 1,\n",
              "         ('exchange', 'onle'): 1,\n",
              "         ('onle', 'used'): 1,\n",
              "         ('used', 'returne'): 2,\n",
              "         ('returne', 'origional'): 2,\n",
              "         ('origional', 'packing'): 2,\n",
              "         ('packing', 'dimension'): 2,\n",
              "         ('width', '86'): 1,\n",
              "         ('86', 'inch'): 3,\n",
              "         ('inch', '220'): 3,\n",
              "         ('220', 'cm'): 3,\n",
              "         ('width', '0'): 3,\n",
              "         ('0', 'cm'): 9,\n",
              "         ('width', '17'): 4,\n",
              "         ('17', 'inch'): 5,\n",
              "         ('inch', '45'): 5,\n",
              "         ('45', 'cm'): 9,\n",
              "         ('length', '29'): 2,\n",
              "         ('29', 'inch'): 2,\n",
              "         ('inch', '75'): 1,\n",
              "         ('75', 'cm'): 5,\n",
              "         ('cm', 'weight'): 13,\n",
              "         ('weight', '900'): 3,\n",
              "         ('900', 'g'): 3,\n",
              "         ('g', 'fitted'): 3,\n",
              "         ('depth', '0'): 3,\n",
              "         ('length', '0'): 3,\n",
              "         ('depth', '02'): 1,\n",
              "         ('02', 'cm'): 1,\n",
              "         ('length', '104'): 1,\n",
              "         ('104', 'inch'): 1,\n",
              "         ('inch', '265'): 1,\n",
              "         ('265', 'cm'): 1,\n",
              "         ('maserati', 'time'): 2,\n",
              "         ('time', 'r8851116001'): 2,\n",
              "         ('r8851116001', 'analog'): 2,\n",
              "         ('analog', 'watch'): 237,\n",
              "         ('watch', 'boy'): 43,\n",
              "         ('boy', 'buy'): 14,\n",
              "         ('buy', 'maserati'): 1,\n",
              "         ('boy', 'r8851116001'): 1,\n",
              "         ('r8851116001', 'online'): 1,\n",
              "         ('online', 'rs24400'): 1,\n",
              "         ('rs24400', 'india'): 1,\n",
              "         ('india', 'flipkartcom'): 134,\n",
              "         ('flipkartcom', 'great'): 68,\n",
              "         ('great', 'discount'): 134,\n",
              "         ('discount', 'genuine'): 134,\n",
              "         ('genuine', 'product'): 564,\n",
              "         ('product', '30'): 469,\n",
              "         ('30', 'day'): 469,\n",
              "         ('day', 'replacement'): 471,\n",
              "         ('replacement', 'guarantee'): 469,\n",
              "         ('guarantee', 'free'): 286,\n",
              "         ('free', 'shipping'): 564,\n",
              "         ('shipping', 'cash'): 564,\n",
              "         ('cash', 'delivery'): 564,\n",
              "         ('camerii', 'wm64'): 2,\n",
              "         ('wm64', 'elegance'): 2,\n",
              "         ('elegance', 'analog'): 2,\n",
              "         ('watch', 'men'): 135,\n",
              "         ('men', 'boy'): 21,\n",
              "         ('buy', 'camerii'): 1,\n",
              "         ('boy', 'wm64'): 1,\n",
              "         ('wm64', 'online'): 1,\n",
              "         ('online', 'rs449'): 1,\n",
              "         ('rs449', 'india'): 1,\n",
              "         ('star', 'ufttsw005bkbr'): 1,\n",
              "         ('ufttsw005bkbr', 'analog'): 1,\n",
              "         ('boy', 'price'): 3,\n",
              "         ('r', '399'): 25,\n",
              "         ('399', 'whether'): 1,\n",
              "         ('whether', 'way'): 2,\n",
              "         ('way', 'work'): 2,\n",
              "         ('work', 'travelling'): 2,\n",
              "         ('travelling', 'abroad'): 2,\n",
              "         ('abroad', 'family'): 2,\n",
              "         ('family', 'lifestyle'): 2,\n",
              "         ('lifestyle', 'accessory'): 2,\n",
              "         ('accessory', 'like'): 2,\n",
              "         ('like', 'watch'): 2,\n",
              "         ('watch', 'wallet'): 2,\n",
              "         ('wallet', 'belt'): 2,\n",
              "         ('belt', 'help'): 2,\n",
              "         ('help', 'add'): 2,\n",
              "         ('add', 'touch'): 4,\n",
              "         ('touch', 'sophistication'): 2,\n",
              "         ('sophistication', 'class'): 2,\n",
              "         ('class', 'otherwise'): 2,\n",
              "         ('otherwise', 'mundane'): 2,\n",
              "         ('mundane', 'regular'): 2,\n",
              "         ('regular', 'daily'): 2,\n",
              "         ('daily', 'wear'): 2,\n",
              "         ('wear', 'come'): 2,\n",
              "         ('come', 'suave'): 2,\n",
              "         ('suave', 'leather'): 2,\n",
              "         ('leather', 'belt'): 2,\n",
              "         ('belt', 'intricately'): 2,\n",
              "         ('intricately', 'designed'): 2,\n",
              "         ('designed', 'finished'): 2,\n",
              "         ('finished', 'timepiece'): 2,\n",
              "         ('timepiece', 'separate'): 2,\n",
              "         ('separate', 'rest'): 2,\n",
              "         ('rest', 'whether'): 1,\n",
              "         ('alfajr', 'wy16b'): 2,\n",
              "         ('wy16b', 'youth'): 2,\n",
              "         ('youth', 'digital'): 2,\n",
              "         ('digital', 'watch'): 31,\n",
              "         ('buy', 'alfajr'): 2,\n",
              "         ('boy', 'wy16b'): 1,\n",
              "         ('wy16b', 'online'): 1,\n",
              "         ('online', 'rs4995'): 1,\n",
              "         ('rs4995', 'india'): 1,\n",
              "         ('flipkartcom', 'azan'): 1,\n",
              "         ('azan', 'time'): 2,\n",
              "         ('time', 'city'): 1,\n",
              "         ('city', 'around'): 1,\n",
              "         ('around', 'world'): 1,\n",
              "         ('world', 'prayer'): 1,\n",
              "         ('prayer', 'reminder'): 1,\n",
              "         ('reminder', 'qibla'): 1,\n",
              "         ('qibla', 'direction'): 1,\n",
              "         ('direction', 'hijri'): 1,\n",
              "         ('hijri', 'gregorian'): 1,\n",
              "         ('gregorian', 'calnedars'): 1,\n",
              "         ('calnedars', 'quran'): 1,\n",
              "         ('quran', 'bookmark'): 1,\n",
              "         ('bookmark', 'daily'): 1,\n",
              "         ('daily', 'alrams'): 1,\n",
              "         ('alrams', 'great'): 1,\n",
              "         ('tag', 'heuer'): 2,\n",
              "         ('heuer', 'cau1116ba0858'): 2,\n",
              "         ('cau1116ba0858', 'formula'): 2,\n",
              "         ('formula', '1'): 2,\n",
              "         ('1', 'analog'): 2,\n",
              "         ('boy', 'men'): 17,\n",
              "         ('men', 'buy'): 57,\n",
              "         ('buy', 'tag'): 1,\n",
              "         ('men', 'cau1116ba0858'): 1,\n",
              "         ('cau1116ba0858', 'online'): 1,\n",
              "         ('online', 'rs107750'): 1,\n",
              "         ('rs107750', 'india'): 1,\n",
              "         ('flipkartcom', 'swissmade'): 1,\n",
              "         ('swissmade', 'quartz'): 1,\n",
              "         ('quartz', 'movement'): 1,\n",
              "         ('movement', 'scratch'): 1,\n",
              "         ('scratch', 'resistant'): 16,\n",
              "         ('resistant', 'sapphire'): 1,\n",
              "         ('sapphire', 'crystal'): 1,\n",
              "         ('crystal', 'glass'): 1,\n",
              "         ('glass', 'water'): 2,\n",
              "         ('water', 'resistant'): 55,\n",
              "         ('resistant', '200'): 1,\n",
              "         ('200', 'metre'): 1,\n",
              "         ('metre', 'feature'): 1,\n",
              "         ('feature', 'chronograph'): 1,\n",
              "         ('chronograph', 'great'): 1,\n",
              "         ('calibro', 'sw125'): 1,\n",
              "         ('sw125', 'analogdigital'): 1,\n",
              "         ('analogdigital', 'watch'): 7,\n",
              "         ('r', '699'): 11,\n",
              "         ('699', 'calibro'): 1,\n",
              "         ('calibro', 'present'): 2,\n",
              "         ('present', 'mtg'): 2,\n",
              "         ('mtg', 'black'): 2,\n",
              "         ('black', 'dial'): 4,\n",
              "         ('dial', 'round'): 2,\n",
              "         ('round', 'watch'): 2,\n",
              "         ('watch', 'fashionable'): 2,\n",
              "         ('fashionable', 'watch'): 2,\n",
              "         ('watch', 'mtg'): 2,\n",
              "         ('mtg', 'add'): 2,\n",
              "         ('add', 'style'): 2,\n",
              "         ('style', 'statement'): 2,\n",
              "         ('statement', 'brand'): 2,\n",
              "         ('brand', 'known'): 2,\n",
              "         ('known', 'usage'): 2,\n",
              "         ('usage', 'quality'): 2,\n",
              "         ('quality', 'material'): 8,\n",
              "         ('material', 'making'): 2,\n",
              "         ('making', 'appealing'): 2,\n",
              "         ('appealing', 'watch'): 2,\n",
              "         ('watch', 'understands'): 2,\n",
              "         ('understands', 'need'): 2,\n",
              "         ('need', 'youth'): 2,\n",
              "         ('youth', 'well'): 2,\n",
              "         ('well', 'able'): 2,\n",
              "         ('able', 'present'): 2,\n",
              "         ('present', 'wide'): 2,\n",
              "         ('wide', 'range'): 12,\n",
              "         ('range', 'watch'): 2,\n",
              "         ('watch', 'customer'): 2,\n",
              "         ('customer', 'variety'): 2,\n",
              "         ('variety', 'design'): 2,\n",
              "         ('design', 'style'): 2,\n",
              "         ('style', 'youthful'): 2,\n",
              "         ('youthful', 'approach'): 2,\n",
              "         ('approach', 'well'): 2,\n",
              "         ('well', 'executed'): 2,\n",
              "         ('executed', 'brand'): 2,\n",
              "         ('brand', 'get'): 2,\n",
              "         ('get', 'one'): 2,\n",
              "         ('one', 'see'): 2,\n",
              "         ('see', 'brilliantly'): 2,\n",
              "         ('brilliantly', 'lead'): 2,\n",
              "         ('lead', 'brand'): 2,\n",
              "         ('brand', 'style'): 2,\n",
              "         ('style', 'finish'): 2,\n",
              "         ('finish', 'everything'): 2,\n",
              "         ('everything', 'else'): 2,\n",
              "         ('else', 'matter'): 2,\n",
              "         ('matter', 'calibro'): 1,\n",
              "         ('cartier', 'w6701005'): 2,\n",
              "         ('w6701005', 'analog'): 2,\n",
              "         ('buy', 'cartier'): 1,\n",
              "         ('men', 'w6701005'): 1,\n",
              "         ('w6701005', 'online'): 1,\n",
              "         ('online', 'rs201000'): 1,\n",
              "         ('rs201000', 'india'): 1,\n",
              "         ('lois', 'caron'): 2,\n",
              "         ('caron', 'lcs4032'): 2,\n",
              "         ('lcs4032', 'analog'): 2,\n",
              "         ('buy', 'lois'): 1,\n",
              "         ('men', 'lcs4032'): 1,\n",
              "         ('lcs4032', 'online'): 1,\n",
              "         ('online', 'rs399'): 1,\n",
              "         ('rs399', 'india'): 1,\n",
              "         ('titan', '1639sl03'): 2,\n",
              "         ('1639sl03', 'analog'): 2,\n",
              "         ('buy', 'titan'): 1,\n",
              "         ('men', '1639sl03'): 1,\n",
              "         ('1639sl03', 'online'): 1,\n",
              "         ('online', 'rs1695'): 1,\n",
              "         ('rs1695', 'india'): 1,\n",
              "         ('srushti', 'art'): 2,\n",
              "         ('art', 'jewelry'): 2,\n",
              "         ('jewelry', 'megnet_led_sport_blackred1'): 2,\n",
              "         ('megnet_led_sport_blackred1', 'digital'): 2,\n",
              "         ('girl', 'buy'): 11,\n",
              "         ('buy', 'srushti'): 1,\n",
              "         ('girl', 'megnet_led_sport_blackred1'): 1,\n",
              "         ('megnet_led_sport_blackred1', 'online'): 1,\n",
              "         ('online', 'rs200'): 1,\n",
              "         ('rs200', 'india'): 1,\n",
              "         ('flipkartcom', 'led'): 1,\n",
              "         ('led', 'watch'): 1,\n",
              "         ('watch', 'sport'): 1,\n",
              "         ('sport', 'led'): 1,\n",
              "         ('led', 'megnet'): 1,\n",
              "         ('megnet', 'watch'): 1,\n",
              "         ('watch', 'fresh'): 1,\n",
              "         ('fresh', 'arrival'): 1,\n",
              "         ('arrival', 'latest'): 1,\n",
              "         ('latest', 'fancy'): 1,\n",
              "         ('fancy', 'srushti'): 1,\n",
              "         ('srushti', 'girlswatch'): 1,\n",
              "         ('girlswatch', 'men'): 1,\n",
              "         ('boy', 'wrist'): 1,\n",
              "         ('wrist', 'watch'): 2,\n",
              "         ('watch', 'great'): 6,\n",
              "         ('escort', 'e1700906_blk'): 1,\n",
              "         ('e1700906_blk', 'analog'): 1,\n",
              "         ('r', '1829'): 1,\n",
              "         ('1829', 'flaunt'): 1,\n",
              "         ('flaunt', 'mantra'): 2,\n",
              "         ('mantra', 'hit'): 2,\n",
              "         ('hit', 'street'): 2,\n",
              "         ('street', 'style'): 2,\n",
              "         ('style', 'wearing'): 2,\n",
              "         ('wearing', 'black'): 2,\n",
              "         ('black', 'coloured'): 4,\n",
              "         ('coloured', 'analog'): 2,\n",
              "         ('men', 'house'): 4,\n",
              "         ('house', 'escort'): 2,\n",
              "         ('escort', 'casing'): 2,\n",
              "         ('casing', 'add'): 2,\n",
              "         ('add', 'appeal'): 2,\n",
              "         ('appeal', 'timepiece'): 2,\n",
              "         ('timepiece', 'worn'): 2,\n",
              "         ('worn', 'rainy'): 2,\n",
              "         ('rainy', 'day'): 2,\n",
              "         ('day', 'thanks'): 2,\n",
              "         ('thanks', 'water'): 2,\n",
              "         ('water', 'resistance'): 2,\n",
              "         ('resistance', 'upto'): 2,\n",
              "         ('upto', '10'): 2,\n",
              "         ('10', 'atm'): 2,\n",
              "         ('atm', 'flaunt'): 1,\n",
              "         ('jack', 'klein'): 2,\n",
              "         ('klein', 'blackled'): 2,\n",
              "         ('blackled', 'digital'): 2,\n",
              "         ('buy', 'jack'): 1,\n",
              "         ('boy', 'blackled'): 1,\n",
              "         ('blackled', 'online'): 1,\n",
              "         ('online', 'rs150'): 2,\n",
              "         ('rs150', 'india'): 2,\n",
              "         ('north', 'moon'): 2,\n",
              "         ('moon', 'iw005fk'): 2,\n",
              "         ('iw005fk', 'silicone'): 2,\n",
              "         ('silicone', 'ion'): 2,\n",
              "         ('ion', 'digital'): 2,\n",
              "         ('girl', 'woman'): 12,\n",
              "         ('woman', 'buy'): 44,\n",
              "         ('buy', 'north'): 1,\n",
              "         ('woman', 'iw005fk'): 1,\n",
              "         ('iw005fk', 'online'): 1,\n",
              "         ('franck', 'bella'): 4,\n",
              "         ('bella', 'fb74c'): 2,\n",
              "         ('fb74c', 'analog'): 2,\n",
              "         ('buy', 'franck'): 2,\n",
              "         ('men', 'fb74c'): 1,\n",
              "         ('fb74c', 'online'): 1,\n",
              "         ('online', 'rs780'): 2,\n",
              "         ('rs780', 'india'): 2,\n",
              "         ('ridas', 'apl_led_black'): 2,\n",
              "         ('apl_led_black', 'apple'): 2,\n",
              "         ('apple', 'shape'): 2,\n",
              "         ('shape', 'digital'): 2,\n",
              "         ('buy', 'ridas'): 1,\n",
              "         ('boy', 'apl_led_black'): 1,\n",
              "         ('apl_led_black', 'online'): 1,\n",
              "         ('online', 'rs249'): 1,\n",
              "         ('rs249', 'india'): 1,\n",
              "         ('skmei', 'ad1057darkorange'): 2,\n",
              "         ('ad1057darkorange', 'sport'): 2,\n",
              "         ('sport', 'analogdigital'): 2,\n",
              "         ('buy', 'skmei'): 2,\n",
              "         ('boy', 'ad1057darkorange'): 1,\n",
              "         ('ad1057darkorange', 'online'): 1,\n",
              "         ('online', 'rs1199'): 1,\n",
              "         ('rs1199', 'india'): 1,\n",
              "         ('flipkartcom', 'digital'): 3,\n",
              "         ('digital', 'chronograph'): 2,\n",
              "         ('chronograph', 'alarm'): 2,\n",
              "         ('alarm', 'watch'): 2,\n",
              "         ('watch', 'light'): 2,\n",
              "         ('light', 'function'): 2,\n",
              "         ('function', 'date'): 2,\n",
              "         ('date', 'month'): 2,\n",
              "         ('month', 'display'): 2,\n",
              "         ('display', 'great'): 2,\n",
              "         ('spethnic', 'analog'): 2,\n",
              "         ('buy', 'spethnic'): 1,\n",
              "         ('boy', 'spethnic'): 1,\n",
              "         ('spethnic', 'online'): 1,\n",
              "         ('online', 'rs600'): 1,\n",
              "         ('rs600', 'india'): 1,\n",
              "         ('bella', 'fb127a'): 2,\n",
              "         ('fb127a', 'analog'): 2,\n",
              "         ('men', 'fb127a'): 1,\n",
              "         ('fb127a', 'online'): 1,\n",
              "         ('online', 'rs999'): 15,\n",
              "         ('rs999', 'india'): 15,\n",
              "         ('skmei', 'dg0939red'): 2,\n",
              "         ('dg0939red', 'sport'): 2,\n",
              "         ('sport', 'digital'): 2,\n",
              "         ('boy', 'dg0939red'): 1,\n",
              "         ('dg0939red', 'online'): 1,\n",
              "         ('fastrack', '38015pl01'): 2,\n",
              "         ('38015pl01', 'analog'): 2,\n",
              "         ('buy', 'fastrack'): 3,\n",
              "         ('boy', '38015pl01'): 1,\n",
              "         ('38015pl01', 'online'): 1,\n",
              "         ('online', 'rs2495'): 1,\n",
              "         ('rs2495', 'india'): 1,\n",
              "         ('flipkartcom', 'stainless'): 4,\n",
              "         ('stainless', 'steel'): 58,\n",
              "         ('steel', 'back'): 16,\n",
              "         ('back', 'cover'): 3,\n",
              "         ('cover', 'hybrid'): 1,\n",
              "         ('hybrid', 'case'): 1,\n",
              "         ('case', 'construction'): 1,\n",
              "         ('construction', 'sportier'): 1,\n",
              "         ('sportier', 'rugged'): 1,\n",
              "         ('rugged', 'look'): 1,\n",
              "         ('look', 'increased'): 1,\n",
              "         ('increased', 'shock'): 1,\n",
              "         ('shock', 'resistance'): 2,\n",
              "         ('resistance', 'high'): 1,\n",
              "         ('high', 'precision'): 1,\n",
              "         ('precision', 'quartz'): 1,\n",
              "         ('quartz', 'analogue'): 1,\n",
              "         ('analogue', 'movement'): 1,\n",
              "         ('movement', 'great'): 1,\n",
              "         ('alfajr', 'wq18'): 2,\n",
              "         ('wq18', 'qibla'): 2,\n",
              "         ('qibla', 'compass'): 3,\n",
              "         ('compass', 'digital'): 2,\n",
              "         ('girl', 'wq18'): 1,\n",
              "         ('wq18', 'online'): 1,\n",
              "         ('online', 'rs7495'): 1,\n",
              "         ('rs7495', 'india'): 1,\n",
              "         ('flipkartcom', 'qibla'): 1,\n",
              "         ('compass', 'light'): 1,\n",
              "         ('light', 'azan'): 1,\n",
              "         ('time', 'calculation'): 1,\n",
              "         ('calculation', 'great'): 1,\n",
              "         ('disney', '98189'): 2,\n",
              "         ('98189', 'analog'): 2,\n",
              "         ('buy', 'disney'): 2,\n",
              "         ('girl', '98189'): 1,\n",
              "         ('98189', 'online'): 1,\n",
              "         ('online', 'rs900'): 1,\n",
              "         ('rs900', 'india'): 1,\n",
              "         ('disney', 'dw100405'): 2,\n",
              "         ('dw100405', 'digital'): 2,\n",
              "         ('boy', 'dw100405'): 1,\n",
              "         ('dw100405', 'online'): 1,\n",
              "         ('online', 'rs1345'): 1,\n",
              "         ('rs1345', 'india'): 1,\n",
              "         ('vizion', '85027purple'): 1,\n",
              "         ('85027purple', 'sport'): 1,\n",
              "         ('sport', 'series'): 1,\n",
              "         ('series', 'digital'): 1,\n",
              "         ('girl', 'price'): 2,\n",
              "         ('r', '595'): 1,\n",
              "         ('595', 'brand'): 1,\n",
              "         ('brand', 'vizionsports'): 2,\n",
              "         ('vizionsports', 'series'): 2,\n",
              "         ('series', 'watch'): 2,\n",
              "         ('watch', 'kids1'): 2,\n",
              "         ('kids1', 'year'): 2,\n",
              "         ('year', 'manufacturer'): 3,\n",
              "         ('manufacturer', 'warrantydigital'): 2,\n",
              "         ('warrantydigital', 'displayautomatic'): 2,\n",
              "         ('displayautomatic', 'movementmetal'): 2,\n",
              "         ('movementmetal', 'case'): 2,\n",
              "         ('case', 'solid'): 2,\n",
              "         ('solid', 'body'): 2,\n",
              "         ('body', 'dial'): 2,\n",
              "         ('dial', 'shaperounddial'): 2,\n",
              "         ('shaperounddial', 'dimension22mm'): 2,\n",
              "         ('dimension22mm', 'strap'): 2,\n",
              "         ('strap', 'materialsilicone'): 2,\n",
              "         ('materialsilicone', 'strap'): 2,\n",
              "         ('strap', 'width20mmwater'): 2,\n",
              "         ('width20mmwater', 'resistantnight'): 2,\n",
              "         ('resistantnight', 'display'): 2,\n",
              "         ('display', 'cold'): 2,\n",
              "         ('cold', 'backlight'): 2,\n",
              "         ('backlight', 'daily'): 2,\n",
              "         ('daily', 'alarmhour'): 2,\n",
              "         ('alarmhour', 'minute'): 2,\n",
              "         ('minute', 'second'): 2,\n",
              "         ('second', 'date'): 2,\n",
              "         ('date', 'week'): 2,\n",
              "         ('week', 'display'): 2,\n",
              "         ('display', '1224'): 2,\n",
              "         ('1224', 'hour'): 2,\n",
              "         ('hour', 'formatattractive'): 2,\n",
              "         ('formatattractive', 'brand'): 2,\n",
              "         ('brand', 'packaging'): 2,\n",
              "         ('packaging', 'tuff'): 2,\n",
              "         ('tuff', 'plastic'): 2,\n",
              "         ('plastic', 'boxnote'): 2,\n",
              "         ('boxnote', 'case'): 2,\n",
              "         ('case', 'nonreceipt'): 2,\n",
              "         ('nonreceipt', 'warranty'): 2,\n",
              "         ('warranty', 'card'): 4,\n",
              "         ('card', 'please'): 2,\n",
              "         ('please', 'intimate'): 2,\n",
              "         ('intimate', 'u'): 2,\n",
              "         ('u', 'within'): 2,\n",
              "         ('within', '48'): 2,\n",
              "         ('48', 'hoursdisclaimer'): 2,\n",
              "         ('hoursdisclaimer', 'product'): 2,\n",
              "         ('may', 'slightly'): 8,\n",
              "         ('slightly', 'vary'): 4,\n",
              "         ('vary', 'due'): 6,\n",
              "         ('due', 'photographic'): 4,\n",
              "         ('photographic', 'lighting'): 4,\n",
              "         ('lighting', 'source'): 4,\n",
              "         ('source', 'monitor'): 4,\n",
              "         ('monitor', 'setting'): 2,\n",
              "         ('setting', 'image'): 2,\n",
              "         ('image', 'enlarged'): 2,\n",
              "         ('enlarged', 'better'): 2,\n",
              "         ('better', 'viewing'): 2,\n",
              "         ('viewing', 'brand'): 1,\n",
              "         ('elantra', '10'): 2,\n",
              "         ('10', 'analog'): 2,\n",
              "         ('buy', 'elantra'): 1,\n",
              "         ('men', '10'): 1,\n",
              "         ('10', 'online'): 1,\n",
              "         ('online', 'rs950'): 3,\n",
              "         ('rs950', 'india'): 3,\n",
              "         ('marvel', 'dw100243'): 2,\n",
              "         ('dw100243', 'digital'): 2,\n",
              "         ('buy', 'marvel'): 2,\n",
              "         ('girl', 'dw100243'): 1,\n",
              "         ('dw100243', 'online'): 1,\n",
              "         ('online', 'rs299'): 1,\n",
              "         ('rs299', 'india'): 1,\n",
              "         ('flipkartcom', 'buckle'): 3,\n",
              "         ('buckle', 'clasp'): 24,\n",
              "         ('clasp', 'multicolor'): 1,\n",
              "         ('multicolor', 'strap'): 2,\n",
              "         ('strap', 'contemporary'): 1,\n",
              "         ('contemporary', 'dial'): 6,\n",
              "         ('dial', 'great'): 7,\n",
              "         ('lenco', 'bdblue'): 2,\n",
              "         ('bdblue', 'tango'): 2,\n",
              "         ('tango', 'analog'): 2,\n",
              "         ('buy', 'lenco'): 1,\n",
              "         ('boy', 'bdblue'): 1,\n",
              "         ('bdblue', 'online'): 1,\n",
              "         ('online', 'rs599'): 5,\n",
              "         ('rs599', 'india'): 5,\n",
              "         ('flipkartcom', 'sport'): 1,\n",
              "         ('sport', 'watch'): 1,\n",
              "         ('watch', 'casual'): 1,\n",
              "         ('casual', 'watch'): 1,\n",
              "         ('watch', 'big'): 1,\n",
              "         ('big', 'size'): 1,\n",
              "         ('size', 'dial'): 1,\n",
              "         ('dial', 'colourful'): 1,\n",
              "         ('colourful', 'strap'): 1,\n",
              "         ('strap', 'great'): 16,\n",
              "         ('dsigner', '681gm_wht'): 2,\n",
              "         ('681gm_wht', 'analog'): 2,\n",
              "         ('buy', 'dsigner'): 1,\n",
              "         ('boy', '681gm_wht'): 1,\n",
              "         ('681gm_wht', 'online'): 1,\n",
              "         ('online', 'rs6645'): 1,\n",
              "         ('rs6645', 'india'): 1,\n",
              "         ('cotton', 'embroidered'): 3,\n",
              "         ('embroidered', 'diwan'): 3,\n",
              "         ('diwan', 'set'): 8,\n",
              "         ('set', 'color'): 4,\n",
              "         ('multicolor', 'content'): 1,\n",
              "         ('content', '8'): 1,\n",
              "         ('8', 'diwan'): 1,\n",
              "         ('diwan', 'sheet'): 5,\n",
              "         ('sheet', 'length225'): 1,\n",
              "         ('length225', 'cm'): 1,\n",
              "         ('cm', 'cushion'): 4,\n",
              "         ('cushion', 'cover'): 46,\n",
              "         ('cover', 'length40'): 1,\n",
              "         ('length40', 'cmsantosh'): 1,\n",
              "         ('cmsantosh', 'royal'): 1,\n",
              "         ('set', 'price'): 8,\n",
              "         ('r', '979'): 1,\n",
              "         ('979', 'add'): 1,\n",
              "         ('add', 'oodles'): 1,\n",
              "         ('oodles', 'style'): 1,\n",
              "         ('style', 'home'): 7,\n",
              "         ('home', 'exciting'): 1,\n",
              "         ('exciting', 'range'): 1,\n",
              "         ('range', 'designer'): 1,\n",
              "         ('designer', 'furniture'): 1,\n",
              "         ('furniture', 'furnishing'): 1,\n",
              "         ('furnishing', 'decor'): 1,\n",
              "         ('decor', 'item'): 1,\n",
              "         ...})"
            ]
          },
          "metadata": {},
          "execution_count": 203
        }
      ]
    },
    {
      "cell_type": "code",
      "metadata": {
        "colab": {
          "base_uri": "https://localhost:8080/"
        },
        "id": "mA0fOBRV7Hy4",
        "outputId": "30f1e565-e786-4719-a439-31e99fd14ba8"
      },
      "source": [
        "trigramFreq = collections.Counter(trigram)\n",
        "trigramFreq"
      ],
      "execution_count": null,
      "outputs": [
        {
          "output_type": "execute_result",
          "data": {
            "text/plain": [
              "Counter({('key', 'feature', 'elegance'): 1,\n",
              "         ('feature', 'elegance', 'polyester'): 1,\n",
              "         ('elegance', 'polyester', 'multicolor'): 2,\n",
              "         ('polyester', 'multicolor', 'abstract'): 3,\n",
              "         ('multicolor', 'abstract', 'eyelet'): 3,\n",
              "         ('abstract', 'eyelet', 'door'): 3,\n",
              "         ('eyelet', 'door', 'curtain'): 14,\n",
              "         ('door', 'curtain', 'floral'): 1,\n",
              "         ('curtain', 'floral', 'curtainelegance'): 1,\n",
              "         ('floral', 'curtainelegance', 'polyester'): 1,\n",
              "         ('curtainelegance', 'polyester', 'multicolor'): 1,\n",
              "         ('door', 'curtain', '213'): 4,\n",
              "         ('curtain', '213', 'cm'): 4,\n",
              "         ('213', 'cm', 'height'): 4,\n",
              "         ('cm', 'height', 'pack'): 12,\n",
              "         ('height', 'pack', '2'): 7,\n",
              "         ('pack', '2', 'price'): 11,\n",
              "         ('2', 'price', 'r'): 15,\n",
              "         ('price', 'r', '899'): 5,\n",
              "         ('r', '899', 'curtain'): 1,\n",
              "         ('899', 'curtain', 'enhances'): 1,\n",
              "         ('curtain', 'enhances', 'look'): 1,\n",
              "         ('enhances', 'look', 'interiorsthis'): 1,\n",
              "         ('look', 'interiorsthis', 'curtain'): 1,\n",
              "         ('interiorsthis', 'curtain', 'made'): 1,\n",
              "         ('curtain', 'made', '100'): 1,\n",
              "         ('made', '100', 'high'): 1,\n",
              "         ('100', 'high', 'quality'): 2,\n",
              "         ('high', 'quality', 'polyester'): 3,\n",
              "         ('quality', 'polyester', 'fabricit'): 1,\n",
              "         ('polyester', 'fabricit', 'feature'): 1,\n",
              "         ('fabricit', 'feature', 'eyelet'): 1,\n",
              "         ('feature', 'eyelet', 'style'): 1,\n",
              "         ('eyelet', 'style', 'stitch'): 1,\n",
              "         ('style', 'stitch', 'metal'): 1,\n",
              "         ('stitch', 'metal', 'ringit'): 1,\n",
              "         ('metal', 'ringit', 'make'): 1,\n",
              "         ('ringit', 'make', 'room'): 1,\n",
              "         ('make', 'room', 'environment'): 1,\n",
              "         ('room', 'environment', 'romantic'): 1,\n",
              "         ('environment', 'romantic', 'lovingthis'): 1,\n",
              "         ('romantic', 'lovingthis', 'curtain'): 1,\n",
              "         ('lovingthis', 'curtain', 'ant'): 1,\n",
              "         ('curtain', 'ant', 'wrinkle'): 1,\n",
              "         ('ant', 'wrinkle', 'anti'): 1,\n",
              "         ('wrinkle', 'anti', 'shrinkage'): 1,\n",
              "         ('anti', 'shrinkage', 'elegant'): 1,\n",
              "         ('shrinkage', 'elegant', 'apparancegive'): 1,\n",
              "         ('elegant', 'apparancegive', 'home'): 1,\n",
              "         ('apparancegive', 'home', 'bright'): 1,\n",
              "         ('home', 'bright', 'modernistic'): 1,\n",
              "         ('bright', 'modernistic', 'appeal'): 1,\n",
              "         ('modernistic', 'appeal', 'design'): 1,\n",
              "         ('appeal', 'design', 'surreal'): 1,\n",
              "         ('design', 'surreal', 'attention'): 1,\n",
              "         ('surreal', 'attention', 'sure'): 1,\n",
              "         ('attention', 'sure', 'steal'): 1,\n",
              "         ('sure', 'steal', 'heart'): 1,\n",
              "         ('steal', 'heart', 'contemporary'): 1,\n",
              "         ('heart', 'contemporary', 'eyelet'): 1,\n",
              "         ('contemporary', 'eyelet', 'valance'): 1,\n",
              "         ('eyelet', 'valance', 'curtain'): 1,\n",
              "         ('valance', 'curtain', 'slide'): 1,\n",
              "         ('curtain', 'slide', 'smoothly'): 1,\n",
              "         ('slide', 'smoothly', 'draw'): 1,\n",
              "         ('smoothly', 'draw', 'apart'): 1,\n",
              "         ('draw', 'apart', 'first'): 1,\n",
              "         ('apart', 'first', 'thing'): 1,\n",
              "         ('first', 'thing', 'morning'): 1,\n",
              "         ('thing', 'morning', 'welcome'): 1,\n",
              "         ('morning', 'welcome', 'bright'): 1,\n",
              "         ('welcome', 'bright', 'sun'): 1,\n",
              "         ('bright', 'sun', 'ray'): 1,\n",
              "         ('sun', 'ray', 'want'): 1,\n",
              "         ('ray', 'want', 'wish'): 1,\n",
              "         ('want', 'wish', 'good'): 1,\n",
              "         ('wish', 'good', 'morning'): 1,\n",
              "         ('good', 'morning', 'whole'): 1,\n",
              "         ('morning', 'whole', 'world'): 1,\n",
              "         ('whole', 'world', 'draw'): 1,\n",
              "         ('world', 'draw', 'close'): 1,\n",
              "         ('draw', 'close', 'evening'): 1,\n",
              "         ('close', 'evening', 'create'): 1,\n",
              "         ('evening', 'create', 'special'): 1,\n",
              "         ('create', 'special', 'moment'): 1,\n",
              "         ('special', 'moment', 'joyous'): 1,\n",
              "         ('moment', 'joyous', 'beauty'): 1,\n",
              "         ('joyous', 'beauty', 'given'): 1,\n",
              "         ('beauty', 'given', 'soothing'): 1,\n",
              "         ('given', 'soothing', 'print'): 1,\n",
              "         ('soothing', 'print', 'bring'): 1,\n",
              "         ('print', 'bring', 'home'): 1,\n",
              "         ('bring', 'home', 'elegant'): 1,\n",
              "         ('home', 'elegant', 'curtain'): 1,\n",
              "         ('elegant', 'curtain', 'softly'): 1,\n",
              "         ('curtain', 'softly', 'filter'): 1,\n",
              "         ('softly', 'filter', 'light'): 1,\n",
              "         ('filter', 'light', 'room'): 1,\n",
              "         ('light', 'room', 'get'): 1,\n",
              "         ('room', 'get', 'right'): 1,\n",
              "         ('get', 'right', 'amount'): 1,\n",
              "         ('right', 'amount', 'sunlightspecifications'): 1,\n",
              "         ('amount', 'sunlightspecifications', 'elegance'): 1,\n",
              "         ('sunlightspecifications', 'elegance', 'polyester'): 1,\n",
              "         ('pack', '2', 'general'): 11,\n",
              "         ('2', 'general', 'brand'): 12,\n",
              "         ('general', 'brand', 'elegance'): 1,\n",
              "         ('brand', 'elegance', 'designed'): 1,\n",
              "         ('elegance', 'designed', 'door'): 1,\n",
              "         ('designed', 'door', 'type'): 4,\n",
              "         ('door', 'type', 'eyelet'): 7,\n",
              "         ('type', 'eyelet', 'model'): 10,\n",
              "         ('eyelet', 'model', 'name'): 10,\n",
              "         ('model', 'name', 'abstract'): 1,\n",
              "         ('name', 'abstract', 'polyester'): 1,\n",
              "         ('abstract', 'polyester', 'door'): 1,\n",
              "         ('polyester', 'door', 'curtain'): 1,\n",
              "         ('door', 'curtain', 'set'): 1,\n",
              "         ('curtain', 'set', '2'): 1,\n",
              "         ('set', '2', 'model'): 1,\n",
              "         ('2', 'model', 'id'): 1,\n",
              "         ('model', 'id', 'duster25'): 1,\n",
              "         ('id', 'duster25', 'color'): 1,\n",
              "         ('duster25', 'color', 'multicolor'): 1,\n",
              "         ('color', 'multicolor', 'dimension'): 14,\n",
              "         ('multicolor', 'dimension', 'length'): 1,\n",
              "         ('dimension', 'length', '213'): 3,\n",
              "         ('length', '213', 'cm'): 3,\n",
              "         ('213', 'cm', 'box'): 3,\n",
              "         ('cm', 'box', 'number'): 22,\n",
              "         ('box', 'number', 'content'): 76,\n",
              "         ('number', 'content', 'sale'): 134,\n",
              "         ('content', 'sale', 'package'): 134,\n",
              "         ('sale', 'package', 'pack'): 111,\n",
              "         ('package', 'pack', '2'): 29,\n",
              "         ('pack', '2', 'sale'): 6,\n",
              "         ('2', 'sale', 'package'): 7,\n",
              "         ('sale', 'package', '2'): 10,\n",
              "         ('package', '2', 'curtain'): 1,\n",
              "         ('2', 'curtain', 'body'): 1,\n",
              "         ('curtain', 'body', 'design'): 1,\n",
              "         ('body', 'design', 'material'): 10,\n",
              "         ('design', 'material', 'polyester'): 9,\n",
              "         ('specification', 'sathiyas', 'cotton'): 1,\n",
              "         ('sathiyas', 'cotton', 'bath'): 2,\n",
              "         ('cotton', 'bath', 'towel'): 16,\n",
              "         ('bath', 'towel', '3'): 1,\n",
              "         ('towel', '3', 'bath'): 1,\n",
              "         ('3', 'bath', 'towel'): 2,\n",
              "         ('bath', 'towel', 'red'): 2,\n",
              "         ('towel', 'red', 'yellow'): 1,\n",
              "         ('red', 'yellow', 'blue'): 2,\n",
              "         ('yellow', 'blue', 'bath'): 1,\n",
              "         ('blue', 'bath', 'towel'): 1,\n",
              "         ('bath', 'towel', 'feature'): 3,\n",
              "         ('towel', 'feature', 'machine'): 2,\n",
              "         ('feature', 'machine', 'washable'): 2,\n",
              "         ('machine', 'washable', 'yes'): 10,\n",
              "         ('washable', 'yes', 'material'): 2,\n",
              "         ('yes', 'material', 'cotton'): 2,\n",
              "         ('material', 'cotton', 'design'): 2,\n",
              "         ('cotton', 'design', 'self'): 1,\n",
              "         ('design', 'self', 'design'): 1,\n",
              "         ('self', 'design', 'general'): 1,\n",
              "         ('design', 'general', 'brand'): 1,\n",
              "         ('general', 'brand', 'sathiyas'): 1,\n",
              "         ('brand', 'sathiyas', 'type'): 1,\n",
              "         ('sathiyas', 'type', 'bath'): 1,\n",
              "         ('type', 'bath', 'towel'): 1,\n",
              "         ('bath', 'towel', 'gsm'): 1,\n",
              "         ('towel', 'gsm', '500'): 1,\n",
              "         ('gsm', '500', 'model'): 1,\n",
              "         ('500', 'model', 'name'): 1,\n",
              "         ('model', 'name', 'sathiyas'): 1,\n",
              "         ('name', 'sathiyas', 'cotton'): 1,\n",
              "         ('bath', 'towel', 'ideal'): 1,\n",
              "         ('towel', 'ideal', 'men'): 1,\n",
              "         ('ideal', 'men', 'woman'): 9,\n",
              "         ('men', 'woman', 'boy'): 4,\n",
              "         ('woman', 'boy', 'girl'): 3,\n",
              "         ('boy', 'girl', 'model'): 6,\n",
              "         ('girl', 'model', 'id'): 10,\n",
              "         ('model', 'id', 'asvtwl322'): 1,\n",
              "         ('id', 'asvtwl322', 'color'): 1,\n",
              "         ('asvtwl322', 'color', 'red'): 1,\n",
              "         ('color', 'red', 'yellow'): 1,\n",
              "         ('yellow', 'blue', 'size'): 1,\n",
              "         ('blue', 'size', 'mediam'): 1,\n",
              "         ('size', 'mediam', 'dimension'): 1,\n",
              "         ('mediam', 'dimension', 'length'): 1,\n",
              "         ('dimension', 'length', '30'): 1,\n",
              "         ('length', '30', 'inch'): 1,\n",
              "         ('30', 'inch', 'width'): 1,\n",
              "         ('inch', 'width', '60'): 1,\n",
              "         ('width', '60', 'inch'): 2,\n",
              "         ('60', 'inch', 'box'): 1,\n",
              "         ('inch', 'box', 'number'): 2,\n",
              "         ('sale', 'package', '3'): 4,\n",
              "         ('package', '3', 'sale'): 1,\n",
              "         ('3', 'sale', 'package'): 2,\n",
              "         ('package', '3', 'bath'): 1,\n",
              "         ('key', 'feature', 'eurospa'): 1,\n",
              "         ('feature', 'eurospa', 'cotton'): 1,\n",
              "         ('eurospa', 'cotton', 'terry'): 2,\n",
              "         ('cotton', 'terry', 'face'): 3,\n",
              "         ('terry', 'face', 'towel'): 3,\n",
              "         ('face', 'towel', 'set'): 12,\n",
              "         ('towel', 'set', 'size'): 1,\n",
              "         ('set', 'size', 'small'): 1,\n",
              "         ('size', 'small', 'height'): 1,\n",
              "         ('small', 'height', '9'): 1,\n",
              "         ('height', '9', 'inch'): 1,\n",
              "         ('9', 'inch', 'gsm'): 1,\n",
              "         ('inch', 'gsm', '360eurospa'): 1,\n",
              "         ('gsm', '360eurospa', 'cotton'): 1,\n",
              "         ('360eurospa', 'cotton', 'terry'): 1,\n",
              "         ('towel', 'set', '20'): 2,\n",
              "         ('set', '20', 'piece'): 2,\n",
              "         ('20', 'piece', 'face'): 3,\n",
              "         ('piece', 'face', 'towel'): 3,\n",
              "         ('towel', 'set', 'assorted'): 2,\n",
              "         ('set', 'assorted', 'price'): 1,\n",
              "         ('assorted', 'price', 'r'): 1,\n",
              "         ('price', 'r', '299'): 23,\n",
              "         ('r', '299', 'eurospa'): 1,\n",
              "         ('299', 'eurospa', 'brings'): 1,\n",
              "         ('eurospa', 'brings', 'exclusively'): 1,\n",
              "         ('brings', 'exclusively', 'designed'): 1,\n",
              "         ('exclusively', 'designed', '100'): 1,\n",
              "         ('designed', '100', 'soft'): 1,\n",
              "         ('100', 'soft', 'cotton'): 1,\n",
              "         ('soft', 'cotton', 'towel'): 1,\n",
              "         ('cotton', 'towel', 'export'): 1,\n",
              "         ('towel', 'export', 'quality'): 1,\n",
              "         ('export', 'quality', 'product'): 1,\n",
              "         ('quality', 'product', 'soft'): 1,\n",
              "         ('product', 'soft', 'texture'): 1,\n",
              "         ('soft', 'texture', 'take'): 1,\n",
              "         ('texture', 'take', 'care'): 1,\n",
              "         ('take', 'care', 'skin'): 1,\n",
              "         ('care', 'skin', 'give'): 1,\n",
              "         ('skin', 'give', 'enriched'): 1,\n",
              "         ('give', 'enriched', 'feeling'): 1,\n",
              "         ('enriched', 'feeling', 'deserve'): 1,\n",
              "         ('feeling', 'deserve', 'eurospa'): 1,\n",
              "         ('deserve', 'eurospa', 'exporting'): 1,\n",
              "         ('eurospa', 'exporting', 'bath'): 1,\n",
              "         ('exporting', 'bath', 'towel'): 1,\n",
              "         ('bath', 'towel', 'lot'): 1,\n",
              "         ('towel', 'lot', 'renowned'): 1,\n",
              "         ('lot', 'renowned', 'brand'): 1,\n",
              "         ('renowned', 'brand', 'last'): 1,\n",
              "         ('brand', 'last', '10'): 1,\n",
              "         ('last', '10', 'year'): 1,\n",
              "         ('10', 'year', 'famous'): 1,\n",
              "         ('year', 'famous', 'fine'): 1,\n",
              "         ('famous', 'fine', 'print'): 1,\n",
              "         ('fine', 'print', 'absorbency'): 1,\n",
              "         ('print', 'absorbency', 'softness'): 1,\n",
              "         ('absorbency', 'softness', 'durability'): 1,\n",
              "         ('softness', 'durability', 'note'): 1,\n",
              "         ('durability', 'note', 'product'): 1,\n",
              "         ('note', 'product', '100'): 1,\n",
              "         ('product', '100', 'cotton'): 1,\n",
              "         ('100', 'cotton', 'susceptible'): 1,\n",
              "         ('cotton', 'susceptible', 'shrinkage'): 1,\n",
              "         ('susceptible', 'shrinkage', 'product'): 1,\n",
              "         ('shrinkage', 'product', 'color'): 1,\n",
              "         ('product', 'color', 'may'): 6,\n",
              "         ('color', 'may', 'vary'): 3,\n",
              "         ('may', 'vary', 'picture'): 1,\n",
              "         ('vary', 'picture', 'size'): 1,\n",
              "         ('picture', 'size', 'may'): 1,\n",
              "         ('size', 'may', 'vary'): 1,\n",
              "         ('may', 'vary', '3'): 1,\n",
              "         ('vary', '3', 'wash'): 1,\n",
              "         ('3', 'wash', 'care'): 1,\n",
              "         ('wash', 'care', 'wash'): 2,\n",
              "         ('care', 'wash', 'cold'): 2,\n",
              "         ('wash', 'cold', 'water'): 6,\n",
              "         ('cold', 'water', 'iron'): 1,\n",
              "         ('water', 'iron', 'bleach'): 1,\n",
              "         ('iron', 'bleach', 'flat'): 1,\n",
              "         ('bleach', 'flat', 'dry'): 1,\n",
              "         ('flat', 'dry', 'wash'): 1,\n",
              "         ('dry', 'wash', 'first'): 1,\n",
              "         ('wash', 'first', 'use'): 3,\n",
              "         ('first', 'use', 'size'): 1,\n",
              "         ('use', 'size', 'face'): 1,\n",
              "         ('size', 'face', 'towel'): 1,\n",
              "         ('face', 'towel', '23'): 1,\n",
              "         ('towel', '23', 'cm'): 1,\n",
              "         ('23', 'cm', 'x'): 1,\n",
              "         ('cm', 'x', '23'): 1,\n",
              "         ('x', '23', 'cmsspecifications'): 1,\n",
              "         ('23', 'cmsspecifications', 'eurospa'): 1,\n",
              "         ('cmsspecifications', 'eurospa', 'cotton'): 1,\n",
              "         ('set', 'assorted', 'bath'): 1,\n",
              "         ('assorted', 'bath', 'towel'): 1,\n",
              "         ('towel', 'feature', 'material'): 1,\n",
              "         ('feature', 'material', 'cotton'): 2,\n",
              "         ('material', 'cotton', 'terry'): 1,\n",
              "         ('cotton', 'terry', 'design'): 1,\n",
              "         ('terry', 'design', 'shuvam'): 1,\n",
              "         ('design', 'shuvam', 'general'): 1,\n",
              "         ('shuvam', 'general', 'brand'): 1,\n",
              "         ('general', 'brand', 'eurospa'): 1,\n",
              "         ('brand', 'eurospa', 'gsm'): 1,\n",
              "         ('eurospa', 'gsm', '360'): 1,\n",
              "         ('gsm', '360', 'type'): 1,\n",
              "         ('360', 'type', 'face'): 1,\n",
              "         ('type', 'face', 'towel'): 1,\n",
              "         ('towel', 'set', 'model'): 1,\n",
              "         ('set', 'model', 'name'): 3,\n",
              "         ('model', 'name', 'shuvam20pcftsetassorted'): 1,\n",
              "         ('name', 'shuvam20pcftsetassorted', 'ideal'): 1,\n",
              "         ('shuvam20pcftsetassorted', 'ideal', 'boy'): 1,\n",
              "         ('ideal', 'boy', 'girl'): 15,\n",
              "         ('boy', 'girl', 'men'): 1,\n",
              "         ('girl', 'men', 'woman'): 1,\n",
              "         ('men', 'woman', 'model'): 1,\n",
              "         ('woman', 'model', 'id'): 1,\n",
              "         ('model', 'id', 'shuvam20pcftsetassorted'): 1,\n",
              "         ('id', 'shuvam20pcftsetassorted', 'size'): 1,\n",
              "         ('shuvam20pcftsetassorted', 'size', 'small'): 1,\n",
              "         ('size', 'small', 'color'): 1,\n",
              "         ('small', 'color', 'assorted'): 1,\n",
              "         ('color', 'assorted', 'dimension'): 1,\n",
              "         ('assorted', 'dimension', 'weight'): 1,\n",
              "         ('dimension', 'weight', '350'): 2,\n",
              "         ('weight', '350', 'g'): 2,\n",
              "         ('350', 'g', 'length'): 1,\n",
              "         ('g', 'length', '9'): 1,\n",
              "         ('length', '9', 'inch'): 1,\n",
              "         ('9', 'inch', 'width'): 1,\n",
              "         ('inch', 'width', '9'): 2,\n",
              "         ('width', '9', 'inch'): 2,\n",
              "         ('9', 'inch', 'box'): 1,\n",
              "         ('sale', 'package', '20'): 2,\n",
              "         ('package', '20', 'sale'): 1,\n",
              "         ('20', 'sale', 'package'): 1,\n",
              "         ('package', '20', 'piece'): 1,\n",
              "         ('key', 'feature', 'santosh'): 2,\n",
              "         ('feature', 'santosh', 'royal'): 2,\n",
              "         ('santosh', 'royal', 'fashion'): 6,\n",
              "         ('royal', 'fashion', 'cotton'): 5,\n",
              "         ('fashion', 'cotton', 'printed'): 2,\n",
              "         ('cotton', 'printed', 'king'): 2,\n",
              "         ('printed', 'king', 'sized'): 2,\n",
              "         ('king', 'sized', 'double'): 7,\n",
              "         ('sized', 'double', 'bedsheet'): 7,\n",
              "         ('double', 'bedsheet', 'royal'): 1,\n",
              "         ('bedsheet', 'royal', 'bedsheet'): 1,\n",
              "         ('royal', 'bedsheet', 'perfact'): 1,\n",
              "         ('bedsheet', 'perfact', 'wedding'): 1,\n",
              "         ('perfact', 'wedding', 'giftingspecifications'): 1,\n",
              "         ('wedding', 'giftingspecifications', 'santosh'): 1,\n",
              "         ('giftingspecifications', 'santosh', 'royal'): 1,\n",
              "         ('double', 'bedsheet', '1'): 5,\n",
              "         ('bedsheet', '1', 'bedsheet2'): 1,\n",
              "         ('1', 'bedsheet2', 'pillow'): 2,\n",
              "         ('bedsheet2', 'pillow', 'cover'): 2,\n",
              "         ('pillow', 'cover', 'multicolor'): 6,\n",
              "         ('cover', 'multicolor', 'general'): 4,\n",
              "         ('multicolor', 'general', 'brand'): 27,\n",
              "         ('general', 'brand', 'santosh'): 2,\n",
              "         ('brand', 'santosh', 'royal'): 2,\n",
              "         ('royal', 'fashion', 'machine'): 1,\n",
              "         ('fashion', 'machine', 'washable'): 1,\n",
              "         ('washable', 'yes', 'type'): 5,\n",
              "         ('yes', 'type', 'flat'): 5,\n",
              "         ('type', 'flat', 'material'): 5,\n",
              "         ('flat', 'material', 'cotton'): 5,\n",
              "         ('material', 'cotton', 'model'): 8,\n",
              "         ('cotton', 'model', 'name'): 7,\n",
              "         ('model', 'name', 'gold'): 2,\n",
              "         ('name', 'gold', 'design'): 1,\n",
              "         ('gold', 'design', 'royal'): 1,\n",
              "         ('design', 'royal', 'cotton'): 1,\n",
              "         ('royal', 'cotton', 'printed'): 1,\n",
              "         ('cotton', 'printed', 'wedding'): 1,\n",
              "         ('printed', 'wedding', 'gifted'): 1,\n",
              "         ('wedding', 'gifted', 'double'): 1,\n",
              "         ('gifted', 'double', 'bedsheet'): 1,\n",
              "         ('double', 'bedsheet', '2'): 3,\n",
              "         ('bedsheet', '2', 'pillow'): 6,\n",
              "         ('2', 'pillow', 'cover'): 7,\n",
              "         ('pillow', 'cover', 'model'): 1,\n",
              "         ('cover', 'model', 'id'): 1,\n",
              "         ('model', 'id', 'goldbedi38'): 1,\n",
              "         ('id', 'goldbedi38', 'color'): 1,\n",
              "         ('goldbedi38', 'color', 'multicolor'): 1,\n",
              "         ('color', 'multicolor', 'size'): 5,\n",
              "         ('multicolor', 'size', 'king'): 1,\n",
              "         ('size', 'king', 'fabric'): 1,\n",
              "         ('king', 'fabric', 'care'): 1,\n",
              "         ('fabric', 'care', 'machine'): 16,\n",
              "         ('care', 'machine', 'wash'): 11,\n",
              "         ('machine', 'wash', 'bleach'): 4,\n",
              "         ('wash', 'bleach', 'dimension'): 2,\n",
              "         ('bleach', 'dimension', 'flat'): 2,\n",
              "         ('dimension', 'flat', 'sheet'): 6,\n",
              "         ('flat', 'sheet', 'width'): 6,\n",
              "         ('sheet', 'width', '90'): 1,\n",
              "         ('width', '90', 'inch'): 2,\n",
              "         ('90', 'inch', '230'): 2,\n",
              "         ('inch', '230', 'cm'): 2,\n",
              "         ('230', 'cm', 'fitted'): 1,\n",
              "         ('cm', 'fitted', 'sheet'): 17,\n",
              "         ('fitted', 'sheet', 'width'): 7,\n",
              "         ('sheet', 'width', '228'): 1,\n",
              "         ('width', '228', 'cm'): 1,\n",
              "         ('228', 'cm', 'pillow'): 1,\n",
              "         ('cm', 'pillow', 'cover'): 10,\n",
              "         ('pillow', 'cover', 'width'): 5,\n",
              "         ('cover', 'width', '16'): 1,\n",
              "         ('width', '16', 'inch'): 1,\n",
              "         ('16', 'inch', '43'): 1,\n",
              "         ('inch', '43', 'cm'): 1,\n",
              "         ('43', 'cm', 'pillow'): 1,\n",
              "         ('pillow', 'cover', 'length'): 5,\n",
              "         ('cover', 'length', '28'): 1,\n",
              "         ('length', '28', 'inch'): 1,\n",
              "         ('28', 'inch', '72'): 1,\n",
              "         ('inch', '72', 'cm'): 1,\n",
              "         ('72', 'cm', 'fitted'): 1,\n",
              "         ('fitted', 'sheet', 'depth'): 7,\n",
              "         ('sheet', 'depth', '280'): 1,\n",
              "         ('depth', '280', 'cm'): 1,\n",
              "         ('280', 'cm', 'fitted'): 1,\n",
              "         ('fitted', 'sheet', 'length'): 7,\n",
              "         ('sheet', 'length', '278'): 1,\n",
              "         ('length', '278', 'cm'): 1,\n",
              "         ('278', 'cm', 'flat'): 1,\n",
              "         ('cm', 'flat', 'sheet'): 13,\n",
              "         ('flat', 'sheet', 'depth'): 7,\n",
              "         ('sheet', 'depth', '282'): 1,\n",
              "         ('depth', '282', 'cm'): 1,\n",
              "         ('282', 'cm', 'flat'): 1,\n",
              "         ('flat', 'sheet', 'length'): 6,\n",
              "         ('sheet', 'length', '110'): 1,\n",
              "         ('length', '110', 'inch'): 1,\n",
              "         ('110', 'inch', '280'): 1,\n",
              "         ('inch', '280', 'cm'): 1,\n",
              "         ('280', 'cm', 'box'): 1,\n",
              "         ('sale', 'package', '1'): 102,\n",
              "         ('package', '1', 'sale'): 16,\n",
              "         ('1', 'sale', 'package'): 23,\n",
              "         ('package', '1', 'bedsheet2'): 1,\n",
              "         ('key', 'feature', 'jaipur'): 2,\n",
              "         ('feature', 'jaipur', 'print'): 2,\n",
              "         ('jaipur', 'print', 'cotton'): 4,\n",
              "         ('print', 'cotton', 'floral'): 6,\n",
              "         ('cotton', 'floral', 'king'): 3,\n",
              "         ('floral', 'king', 'sized'): 3,\n",
              "         ('double', 'bedsheet', '100'): 1,\n",
              "         ('bedsheet', '100', 'cottonjaipur'): 1,\n",
              "         ('100', 'cottonjaipur', 'print'): 1,\n",
              "         ('cottonjaipur', 'print', 'cotton'): 1,\n",
              "         ('bedsheet', '1', 'bed'): 2,\n",
              "         ('1', 'bed', 'sheet'): 4,\n",
              "         ('bed', 'sheet', '2'): 3,\n",
              "         ('sheet', '2', 'pillow'): 3,\n",
              "         ('pillow', 'cover', 'white'): 2,\n",
              "         ('cover', 'white', 'price'): 1,\n",
              "         ('white', 'price', 'r'): 11,\n",
              "         ('price', 'r', '998'): 1,\n",
              "         ('r', '998', 'nice'): 1,\n",
              "         ('998', 'nice', 'bed'): 1,\n",
              "         ('nice', 'bed', 'sheet'): 1,\n",
              "         ('bed', 'sheet', 'made'): 1,\n",
              "         ('sheet', 'made', '100'): 1,\n",
              "         ('made', '100', 'cotton'): 5,\n",
              "         ('100', 'cotton', 'give'): 1,\n",
              "         ('cotton', 'give', 'comfort'): 1,\n",
              "         ('give', 'comfort', 'bed'): 1,\n",
              "         ('comfort', 'bed', 'sheet'): 1,\n",
              "         ('bed', 'sheet', 'hand'): 1,\n",
              "         ('sheet', 'hand', 'printed'): 1,\n",
              "         ('hand', 'printed', 'bedsheet'): 1,\n",
              "         ('printed', 'bedsheet', 'give'): 1,\n",
              "         ('bedsheet', 'give', 'nice'): 1,\n",
              "         ('give', 'nice', 'look'): 1,\n",
              "         ('nice', 'look', 'room'): 1,\n",
              "         ('look', 'room', 'fast'): 1,\n",
              "         ('room', 'fast', 'colour'): 1,\n",
              "         ('fast', 'colour', 'good'): 1,\n",
              "         ('colour', 'good', 'quality'): 1,\n",
              "         ('good', 'quality', 'give'): 1,\n",
              "         ('quality', 'give', 'bedsheet'): 1,\n",
              "         ('give', 'bedsheet', 'long'): 1,\n",
              "         ('bedsheet', 'long', 'lifespecifications'): 1,\n",
              "         ('long', 'lifespecifications', 'jaipur'): 1,\n",
              "         ('lifespecifications', 'jaipur', 'print'): 1,\n",
              "         ('cover', 'white', 'general'): 1,\n",
              "         ('white', 'general', 'machine'): 1,\n",
              "         ('general', 'machine', 'washable'): 1,\n",
              "         ('washable', 'yes', 'brand'): 1,\n",
              "         ('yes', 'brand', 'jaipur'): 1,\n",
              "         ('brand', 'jaipur', 'print'): 2,\n",
              "         ('jaipur', 'print', 'type'): 1,\n",
              "         ('print', 'type', 'flat'): 1,\n",
              "         ('type', 'flat', 'model'): 1,\n",
              "         ('flat', 'model', 'name'): 2,\n",
              "         ('model', 'name', 'jaipur117'): 1,\n",
              "         ('name', 'jaipur117', 'material'): 1,\n",
              "         ('jaipur117', 'material', 'cotton'): 1,\n",
              "         ('material', 'cotton', 'thread'): 1,\n",
              "         ('cotton', 'thread', 'count'): 1,\n",
              "         ('thread', 'count', '140'): 2,\n",
              "         ('count', '140', 'model'): 1,\n",
              "         ('140', 'model', 'id'): 1,\n",
              "         ('model', 'id', 'jaipur117'): 1,\n",
              "         ('id', 'jaipur117', 'fabric'): 1,\n",
              "         ('jaipur117', 'fabric', 'care'): 1,\n",
              "         ('fabric', 'care', 'machinewash'): 2,\n",
              "         ('care', 'machinewash', 'bleach'): 1,\n",
              "         ('machinewash', 'bleach', 'size'): 1,\n",
              "         ('bleach', 'size', 'king'): 1,\n",
              "         ('size', 'king', 'color'): 1,\n",
              "         ('king', 'color', 'white'): 2,\n",
              "         ('color', 'white', 'warranty'): 2,\n",
              "         ('white', 'warranty', 'waranty'): 1,\n",
              "         ('warranty', 'waranty', 'product'): 1,\n",
              "         ('waranty', 'product', 'manufacturing'): 1,\n",
              "         ('product', 'manufacturing', 'defect'): 1,\n",
              "         ('manufacturing', 'defect', 'product'): 3,\n",
              "         ('defect', 'product', 'exchange'): 1,\n",
              "         ('product', 'exchange', 'onle'): 1,\n",
              "         ('exchange', 'onle', 'used'): 1,\n",
              "         ('onle', 'used', 'returne'): 1,\n",
              "         ('used', 'returne', 'origional'): 2,\n",
              "         ('returne', 'origional', 'packing'): 2,\n",
              "         ('origional', 'packing', 'dimension'): 2,\n",
              "         ('packing', 'dimension', 'flat'): 1,\n",
              "         ('sheet', 'width', '86'): 1,\n",
              "         ('width', '86', 'inch'): 1,\n",
              "         ('86', 'inch', '220'): 3,\n",
              "         ('inch', '220', 'cm'): 3,\n",
              "         ('220', 'cm', 'fitted'): 1,\n",
              "         ('sheet', 'width', '0'): 3,\n",
              "         ('width', '0', 'cm'): 3,\n",
              "         ('0', 'cm', 'pillow'): 3,\n",
              "         ('cover', 'width', '17'): 3,\n",
              "         ('width', '17', 'inch'): 4,\n",
              "         ('17', 'inch', '45'): 5,\n",
              "         ('inch', '45', 'cm'): 5,\n",
              "         ('45', 'cm', 'pillow'): 3,\n",
              "         ('cover', 'length', '29'): 2,\n",
              "         ('length', '29', 'inch'): 2,\n",
              "         ('29', 'inch', '75'): 1,\n",
              "         ('inch', '75', 'cm'): 1,\n",
              "         ('75', 'cm', 'weight'): 1,\n",
              "         ('cm', 'weight', '900'): 2,\n",
              "         ('weight', '900', 'g'): 3,\n",
              "         ('900', 'g', 'fitted'): 1,\n",
              "         ('g', 'fitted', 'sheet'): 3,\n",
              "         ('sheet', 'depth', '0'): 3,\n",
              "         ('depth', '0', 'cm'): 3,\n",
              "         ('0', 'cm', 'fitted'): 3,\n",
              "         ('sheet', 'length', '0'): 3,\n",
              "         ('length', '0', 'cm'): 3,\n",
              "         ('0', 'cm', 'flat'): 3,\n",
              "         ('sheet', 'depth', '02'): 1,\n",
              "         ('depth', '02', 'cm'): 1,\n",
              "         ('02', 'cm', 'flat'): 1,\n",
              "         ('sheet', 'length', '104'): 1,\n",
              "         ('length', '104', 'inch'): 1,\n",
              "         ('104', 'inch', '265'): 1,\n",
              "         ('inch', '265', 'cm'): 1,\n",
              "         ('265', 'cm', 'box'): 1,\n",
              "         ('package', '1', 'bed'): 1,\n",
              "         ('maserati', 'time', 'r8851116001'): 2,\n",
              "         ('time', 'r8851116001', 'analog'): 2,\n",
              "         ('r8851116001', 'analog', 'watch'): 2,\n",
              "         ('analog', 'watch', 'boy'): 28,\n",
              "         ('watch', 'boy', 'buy'): 7,\n",
              "         ('boy', 'buy', 'maserati'): 1,\n",
              "         ('buy', 'maserati', 'time'): 1,\n",
              "         ('watch', 'boy', 'r8851116001'): 1,\n",
              "         ('boy', 'r8851116001', 'online'): 1,\n",
              "         ('r8851116001', 'online', 'rs24400'): 1,\n",
              "         ('online', 'rs24400', 'india'): 1,\n",
              "         ('rs24400', 'india', 'flipkartcom'): 1,\n",
              "         ('india', 'flipkartcom', 'great'): 68,\n",
              "         ('flipkartcom', 'great', 'discount'): 68,\n",
              "         ('great', 'discount', 'genuine'): 134,\n",
              "         ('discount', 'genuine', 'product'): 134,\n",
              "         ('genuine', 'product', '30'): 469,\n",
              "         ('product', '30', 'day'): 469,\n",
              "         ('30', 'day', 'replacement'): 469,\n",
              "         ('day', 'replacement', 'guarantee'): 469,\n",
              "         ('replacement', 'guarantee', 'free'): 286,\n",
              "         ('guarantee', 'free', 'shipping'): 286,\n",
              "         ('free', 'shipping', 'cash'): 564,\n",
              "         ('shipping', 'cash', 'delivery'): 564,\n",
              "         ('camerii', 'wm64', 'elegance'): 2,\n",
              "         ('wm64', 'elegance', 'analog'): 2,\n",
              "         ('elegance', 'analog', 'watch'): 2,\n",
              "         ('analog', 'watch', 'men'): 109,\n",
              "         ('watch', 'men', 'boy'): 20,\n",
              "         ('men', 'boy', 'buy'): 7,\n",
              "         ('boy', 'buy', 'camerii'): 1,\n",
              "         ('buy', 'camerii', 'wm64'): 1,\n",
              "         ('men', 'boy', 'wm64'): 1,\n",
              "         ('boy', 'wm64', 'online'): 1,\n",
              "         ('wm64', 'online', 'rs449'): 1,\n",
              "         ('online', 'rs449', 'india'): 1,\n",
              "         ('rs449', 'india', 'flipkartcom'): 1,\n",
              "         ('star', 'ufttsw005bkbr', 'analog'): 1,\n",
              "         ('ufttsw005bkbr', 'analog', 'watch'): 1,\n",
              "         ('watch', 'boy', 'price'): 1,\n",
              "         ('boy', 'price', 'r'): 3,\n",
              "         ('price', 'r', '399'): 14,\n",
              "         ('r', '399', 'whether'): 1,\n",
              "         ('399', 'whether', 'way'): 1,\n",
              "         ('whether', 'way', 'work'): 2,\n",
              "         ('way', 'work', 'travelling'): 2,\n",
              "         ('work', 'travelling', 'abroad'): 2,\n",
              "         ('travelling', 'abroad', 'family'): 2,\n",
              "         ('abroad', 'family', 'lifestyle'): 2,\n",
              "         ('family', 'lifestyle', 'accessory'): 2,\n",
              "         ('lifestyle', 'accessory', 'like'): 2,\n",
              "         ('accessory', 'like', 'watch'): 2,\n",
              "         ('like', 'watch', 'wallet'): 2,\n",
              "         ('watch', 'wallet', 'belt'): 2,\n",
              "         ('wallet', 'belt', 'help'): 2,\n",
              "         ('belt', 'help', 'add'): 2,\n",
              "         ('help', 'add', 'touch'): 2,\n",
              "         ('add', 'touch', 'sophistication'): 2,\n",
              "         ('touch', 'sophistication', 'class'): 2,\n",
              "         ('sophistication', 'class', 'otherwise'): 2,\n",
              "         ('class', 'otherwise', 'mundane'): 2,\n",
              "         ('otherwise', 'mundane', 'regular'): 2,\n",
              "         ('mundane', 'regular', 'daily'): 2,\n",
              "         ('regular', 'daily', 'wear'): 2,\n",
              "         ('daily', 'wear', 'come'): 2,\n",
              "         ('wear', 'come', 'suave'): 2,\n",
              "         ('come', 'suave', 'leather'): 2,\n",
              "         ('suave', 'leather', 'belt'): 2,\n",
              "         ('leather', 'belt', 'intricately'): 2,\n",
              "         ('belt', 'intricately', 'designed'): 2,\n",
              "         ('intricately', 'designed', 'finished'): 2,\n",
              "         ('designed', 'finished', 'timepiece'): 2,\n",
              "         ('finished', 'timepiece', 'separate'): 2,\n",
              "         ('timepiece', 'separate', 'rest'): 2,\n",
              "         ('separate', 'rest', 'whether'): 1,\n",
              "         ('rest', 'whether', 'way'): 1,\n",
              "         ('alfajr', 'wy16b', 'youth'): 2,\n",
              "         ('wy16b', 'youth', 'digital'): 2,\n",
              "         ('youth', 'digital', 'watch'): 2,\n",
              "         ('digital', 'watch', 'men'): 14,\n",
              "         ('boy', 'buy', 'alfajr'): 1,\n",
              "         ('buy', 'alfajr', 'wy16b'): 1,\n",
              "         ('men', 'boy', 'wy16b'): 1,\n",
              "         ('boy', 'wy16b', 'online'): 1,\n",
              "         ('wy16b', 'online', 'rs4995'): 1,\n",
              "         ('online', 'rs4995', 'india'): 1,\n",
              "         ('rs4995', 'india', 'flipkartcom'): 1,\n",
              "         ('india', 'flipkartcom', 'azan'): 1,\n",
              "         ('flipkartcom', 'azan', 'time'): 1,\n",
              "         ('azan', 'time', 'city'): 1,\n",
              "         ('time', 'city', 'around'): 1,\n",
              "         ('city', 'around', 'world'): 1,\n",
              "         ('around', 'world', 'prayer'): 1,\n",
              "         ('world', 'prayer', 'reminder'): 1,\n",
              "         ('prayer', 'reminder', 'qibla'): 1,\n",
              "         ('reminder', 'qibla', 'direction'): 1,\n",
              "         ('qibla', 'direction', 'hijri'): 1,\n",
              "         ('direction', 'hijri', 'gregorian'): 1,\n",
              "         ('hijri', 'gregorian', 'calnedars'): 1,\n",
              "         ('gregorian', 'calnedars', 'quran'): 1,\n",
              "         ('calnedars', 'quran', 'bookmark'): 1,\n",
              "         ('quran', 'bookmark', 'daily'): 1,\n",
              "         ('bookmark', 'daily', 'alrams'): 1,\n",
              "         ('daily', 'alrams', 'great'): 1,\n",
              "         ('alrams', 'great', 'discount'): 1,\n",
              "         ('tag', 'heuer', 'cau1116ba0858'): 2,\n",
              "         ('heuer', 'cau1116ba0858', 'formula'): 2,\n",
              "         ('cau1116ba0858', 'formula', '1'): 2,\n",
              "         ('formula', '1', 'analog'): 2,\n",
              "         ('1', 'analog', 'watch'): 2,\n",
              "         ('watch', 'boy', 'men'): 17,\n",
              "         ('boy', 'men', 'buy'): 7,\n",
              "         ('men', 'buy', 'tag'): 1,\n",
              "         ('buy', 'tag', 'heuer'): 1,\n",
              "         ('boy', 'men', 'cau1116ba0858'): 1,\n",
              "         ('men', 'cau1116ba0858', 'online'): 1,\n",
              "         ('cau1116ba0858', 'online', 'rs107750'): 1,\n",
              "         ('online', 'rs107750', 'india'): 1,\n",
              "         ('rs107750', 'india', 'flipkartcom'): 1,\n",
              "         ('india', 'flipkartcom', 'swissmade'): 1,\n",
              "         ('flipkartcom', 'swissmade', 'quartz'): 1,\n",
              "         ('swissmade', 'quartz', 'movement'): 1,\n",
              "         ('quartz', 'movement', 'scratch'): 1,\n",
              "         ('movement', 'scratch', 'resistant'): 1,\n",
              "         ('scratch', 'resistant', 'sapphire'): 1,\n",
              "         ('resistant', 'sapphire', 'crystal'): 1,\n",
              "         ('sapphire', 'crystal', 'glass'): 1,\n",
              "         ('crystal', 'glass', 'water'): 1,\n",
              "         ('glass', 'water', 'resistant'): 1,\n",
              "         ('water', 'resistant', '200'): 1,\n",
              "         ('resistant', '200', 'metre'): 1,\n",
              "         ('200', 'metre', 'feature'): 1,\n",
              "         ('metre', 'feature', 'chronograph'): 1,\n",
              "         ('feature', 'chronograph', 'great'): 1,\n",
              "         ('chronograph', 'great', 'discount'): 1,\n",
              "         ('calibro', 'sw125', 'analogdigital'): 1,\n",
              "         ('sw125', 'analogdigital', 'watch'): 1,\n",
              "         ('analogdigital', 'watch', 'men'): 5,\n",
              "         ('men', 'boy', 'price'): 2,\n",
              "         ('price', 'r', '699'): 7,\n",
              "         ('r', '699', 'calibro'): 1,\n",
              "         ('699', 'calibro', 'present'): 1,\n",
              "         ('calibro', 'present', 'mtg'): 2,\n",
              "         ('present', 'mtg', 'black'): 2,\n",
              "         ('mtg', 'black', 'dial'): 2,\n",
              "         ('black', 'dial', 'round'): 2,\n",
              "         ('dial', 'round', 'watch'): 2,\n",
              "         ('round', 'watch', 'fashionable'): 2,\n",
              "         ('watch', 'fashionable', 'watch'): 2,\n",
              "         ('fashionable', 'watch', 'mtg'): 2,\n",
              "         ('watch', 'mtg', 'add'): 2,\n",
              "         ('mtg', 'add', 'style'): 2,\n",
              "         ('add', 'style', 'statement'): 2,\n",
              "         ('style', 'statement', 'brand'): 2,\n",
              "         ('statement', 'brand', 'known'): 2,\n",
              "         ('brand', 'known', 'usage'): 2,\n",
              "         ('known', 'usage', 'quality'): 2,\n",
              "         ('usage', 'quality', 'material'): 2,\n",
              "         ('quality', 'material', 'making'): 2,\n",
              "         ('material', 'making', 'appealing'): 2,\n",
              "         ('making', 'appealing', 'watch'): 2,\n",
              "         ('appealing', 'watch', 'understands'): 2,\n",
              "         ('watch', 'understands', 'need'): 2,\n",
              "         ('understands', 'need', 'youth'): 2,\n",
              "         ('need', 'youth', 'well'): 2,\n",
              "         ('youth', 'well', 'able'): 2,\n",
              "         ('well', 'able', 'present'): 2,\n",
              "         ('able', 'present', 'wide'): 2,\n",
              "         ('present', 'wide', 'range'): 2,\n",
              "         ('wide', 'range', 'watch'): 2,\n",
              "         ('range', 'watch', 'customer'): 2,\n",
              "         ('watch', 'customer', 'variety'): 2,\n",
              "         ('customer', 'variety', 'design'): 2,\n",
              "         ('variety', 'design', 'style'): 2,\n",
              "         ('design', 'style', 'youthful'): 2,\n",
              "         ('style', 'youthful', 'approach'): 2,\n",
              "         ('youthful', 'approach', 'well'): 2,\n",
              "         ('approach', 'well', 'executed'): 2,\n",
              "         ('well', 'executed', 'brand'): 2,\n",
              "         ('executed', 'brand', 'get'): 2,\n",
              "         ('brand', 'get', 'one'): 2,\n",
              "         ('get', 'one', 'see'): 2,\n",
              "         ('one', 'see', 'brilliantly'): 2,\n",
              "         ('see', 'brilliantly', 'lead'): 2,\n",
              "         ('brilliantly', 'lead', 'brand'): 2,\n",
              "         ('lead', 'brand', 'style'): 2,\n",
              "         ('brand', 'style', 'finish'): 2,\n",
              "         ('style', 'finish', 'everything'): 2,\n",
              "         ('finish', 'everything', 'else'): 2,\n",
              "         ('everything', 'else', 'matter'): 2,\n",
              "         ('else', 'matter', 'calibro'): 1,\n",
              "         ('matter', 'calibro', 'present'): 1,\n",
              "         ('cartier', 'w6701005', 'analog'): 2,\n",
              "         ('w6701005', 'analog', 'watch'): 2,\n",
              "         ('men', 'buy', 'cartier'): 1,\n",
              "         ('buy', 'cartier', 'w6701005'): 1,\n",
              "         ('boy', 'men', 'w6701005'): 1,\n",
              "         ('men', 'w6701005', 'online'): 1,\n",
              "         ('w6701005', 'online', 'rs201000'): 1,\n",
              "         ('online', 'rs201000', 'india'): 1,\n",
              "         ('rs201000', 'india', 'flipkartcom'): 1,\n",
              "         ('lois', 'caron', 'lcs4032'): 2,\n",
              "         ('caron', 'lcs4032', 'analog'): 2,\n",
              "         ('lcs4032', 'analog', 'watch'): 2,\n",
              "         ('men', 'buy', 'lois'): 1,\n",
              "         ('buy', 'lois', 'caron'): 1,\n",
              "         ('boy', 'men', 'lcs4032'): 1,\n",
              "         ('men', 'lcs4032', 'online'): 1,\n",
              "         ('lcs4032', 'online', 'rs399'): 1,\n",
              "         ('online', 'rs399', 'india'): 1,\n",
              "         ('rs399', 'india', 'flipkartcom'): 1,\n",
              "         ('titan', '1639sl03', 'analog'): 2,\n",
              "         ('1639sl03', 'analog', 'watch'): 2,\n",
              "         ('men', 'buy', 'titan'): 1,\n",
              "         ('buy', 'titan', '1639sl03'): 1,\n",
              "         ('boy', 'men', '1639sl03'): 1,\n",
              "         ('men', '1639sl03', 'online'): 1,\n",
              "         ('1639sl03', 'online', 'rs1695'): 1,\n",
              "         ('online', 'rs1695', 'india'): 1,\n",
              "         ('rs1695', 'india', 'flipkartcom'): 1,\n",
              "         ('srushti', 'art', 'jewelry'): 2,\n",
              "         ('art', 'jewelry', 'megnet_led_sport_blackred1'): 2,\n",
              "         ('jewelry', 'megnet_led_sport_blackred1', 'digital'): 2,\n",
              "         ('megnet_led_sport_blackred1', 'digital', 'watch'): 2,\n",
              "         ('watch', 'men', 'woman'): 6,\n",
              "         ('boy', 'girl', 'buy'): 6,\n",
              "         ('girl', 'buy', 'srushti'): 1,\n",
              "         ('buy', 'srushti', 'art'): 1,\n",
              "         ('boy', 'girl', 'megnet_led_sport_blackred1'): 1,\n",
              "         ('girl', 'megnet_led_sport_blackred1', 'online'): 1,\n",
              "         ('megnet_led_sport_blackred1', 'online', 'rs200'): 1,\n",
              "         ('online', 'rs200', 'india'): 1,\n",
              "         ('rs200', 'india', 'flipkartcom'): 1,\n",
              "         ('india', 'flipkartcom', 'led'): 1,\n",
              "         ('flipkartcom', 'led', 'watch'): 1,\n",
              "         ('led', 'watch', 'sport'): 1,\n",
              "         ('watch', 'sport', 'led'): 1,\n",
              "         ('sport', 'led', 'megnet'): 1,\n",
              "         ('led', 'megnet', 'watch'): 1,\n",
              "         ('megnet', 'watch', 'fresh'): 1,\n",
              "         ('watch', 'fresh', 'arrival'): 1,\n",
              "         ('fresh', 'arrival', 'latest'): 1,\n",
              "         ('arrival', 'latest', 'fancy'): 1,\n",
              "         ('latest', 'fancy', 'srushti'): 1,\n",
              "         ('fancy', 'srushti', 'girlswatch'): 1,\n",
              "         ('srushti', 'girlswatch', 'men'): 1,\n",
              "         ('girlswatch', 'men', 'woman'): 1,\n",
              "         ('woman', 'boy', 'wrist'): 1,\n",
              "         ('boy', 'wrist', 'watch'): 1,\n",
              "         ('wrist', 'watch', 'great'): 1,\n",
              "         ('watch', 'great', 'discount'): 6,\n",
              "         ('escort', 'e1700906_blk', 'analog'): 1,\n",
              "         ('e1700906_blk', 'analog', 'watch'): 1,\n",
              "         ('price', 'r', '1829'): 1,\n",
              "         ('r', '1829', 'flaunt'): 1,\n",
              "         ('1829', 'flaunt', 'mantra'): 1,\n",
              "         ('flaunt', 'mantra', 'hit'): 2,\n",
              "         ('mantra', 'hit', 'street'): 2,\n",
              "         ('hit', 'street', 'style'): 2,\n",
              "         ('street', 'style', 'wearing'): 2,\n",
              "         ('style', 'wearing', 'black'): 2,\n",
              "         ('wearing', 'black', 'coloured'): 2,\n",
              "         ('black', 'coloured', 'analog'): 2,\n",
              "         ('coloured', 'analog', 'watch'): 2,\n",
              "         ('watch', 'men', 'house'): 4,\n",
              "         ('men', 'house', 'escort'): 2,\n",
              "         ('house', 'escort', 'casing'): 2,\n",
              "         ('escort', 'casing', 'add'): 2,\n",
              "         ('casing', 'add', 'appeal'): 2,\n",
              "         ('add', 'appeal', 'timepiece'): 2,\n",
              "         ('appeal', 'timepiece', 'worn'): 2,\n",
              "         ('timepiece', 'worn', 'rainy'): 2,\n",
              "         ('worn', 'rainy', 'day'): 2,\n",
              "         ('rainy', 'day', 'thanks'): 2,\n",
              "         ('day', 'thanks', 'water'): 2,\n",
              "         ('thanks', 'water', 'resistance'): 2,\n",
              "         ('water', 'resistance', 'upto'): 2,\n",
              "         ('resistance', 'upto', '10'): 2,\n",
              "         ('upto', '10', 'atm'): 2,\n",
              "         ('10', 'atm', 'flaunt'): 1,\n",
              "         ('atm', 'flaunt', 'mantra'): 1,\n",
              "         ('jack', 'klein', 'blackled'): 2,\n",
              "         ('klein', 'blackled', 'digital'): 2,\n",
              "         ('blackled', 'digital', 'watch'): 2,\n",
              "         ('digital', 'watch', 'boy'): 15,\n",
              "         ('boy', 'buy', 'jack'): 1,\n",
              "         ('buy', 'jack', 'klein'): 1,\n",
              "         ('watch', 'boy', 'blackled'): 1,\n",
              "         ('boy', 'blackled', 'online'): 1,\n",
              "         ('blackled', 'online', 'rs150'): 1,\n",
              "         ('online', 'rs150', 'india'): 2,\n",
              "         ('rs150', 'india', 'flipkartcom'): 2,\n",
              "         ('north', 'moon', 'iw005fk'): 2,\n",
              "         ('moon', 'iw005fk', 'silicone'): 2,\n",
              "         ('iw005fk', 'silicone', 'ion'): 2,\n",
              "         ('silicone', 'ion', 'digital'): 2,\n",
              "         ('ion', 'digital', 'watch'): 2,\n",
              "         ('watch', 'boy', 'girl'): 11,\n",
              "         ('boy', 'girl', 'woman'): 2,\n",
              "         ('girl', 'woman', 'buy'): 2,\n",
              "         ('woman', 'buy', 'north'): 1,\n",
              "         ('buy', 'north', 'moon'): 1,\n",
              "         ('girl', 'woman', 'iw005fk'): 1,\n",
              "         ('woman', 'iw005fk', 'online'): 1,\n",
              "         ('iw005fk', 'online', 'rs150'): 1,\n",
              "         ('franck', 'bella', 'fb74c'): 2,\n",
              "         ('bella', 'fb74c', 'analog'): 2,\n",
              "         ('fb74c', 'analog', 'watch'): 2,\n",
              "         ('men', 'buy', 'franck'): 2,\n",
              "         ('buy', 'franck', 'bella'): 2,\n",
              "         ('boy', 'men', 'fb74c'): 1,\n",
              "         ('men', 'fb74c', 'online'): 1,\n",
              "         ('fb74c', 'online', 'rs780'): 1,\n",
              "         ('online', 'rs780', 'india'): 2,\n",
              "         ('rs780', 'india', 'flipkartcom'): 2,\n",
              "         ('ridas', 'apl_led_black', 'apple'): 2,\n",
              "         ('apl_led_black', 'apple', 'shape'): 2,\n",
              "         ('apple', 'shape', 'digital'): 2,\n",
              "         ('shape', 'digital', 'watch'): 2,\n",
              "         ('boy', 'buy', 'ridas'): 1,\n",
              "         ('buy', 'ridas', 'apl_led_black'): 1,\n",
              "         ('watch', 'boy', 'apl_led_black'): 1,\n",
              "         ('boy', 'apl_led_black', 'online'): 1,\n",
              "         ('apl_led_black', 'online', 'rs249'): 1,\n",
              "         ('online', 'rs249', 'india'): 1,\n",
              "         ('rs249', 'india', 'flipkartcom'): 1,\n",
              "         ('skmei', 'ad1057darkorange', 'sport'): 2,\n",
              "         ('ad1057darkorange', 'sport', 'analogdigital'): 2,\n",
              "         ('sport', 'analogdigital', 'watch'): 2,\n",
              "         ('boy', 'buy', 'skmei'): 2,\n",
              "         ('buy', 'skmei', 'ad1057darkorange'): 1,\n",
              "         ('men', 'boy', 'ad1057darkorange'): 1,\n",
              "         ('boy', 'ad1057darkorange', 'online'): 1,\n",
              "         ('ad1057darkorange', 'online', 'rs1199'): 1,\n",
              "         ('online', 'rs1199', 'india'): 1,\n",
              "         ('rs1199', 'india', 'flipkartcom'): 1,\n",
              "         ('india', 'flipkartcom', 'digital'): 3,\n",
              "         ('flipkartcom', 'digital', 'chronograph'): 2,\n",
              "         ('digital', 'chronograph', 'alarm'): 2,\n",
              "         ('chronograph', 'alarm', 'watch'): 2,\n",
              "         ('alarm', 'watch', 'light'): 2,\n",
              "         ('watch', 'light', 'function'): 2,\n",
              "         ('light', 'function', 'date'): 2,\n",
              "         ('function', 'date', 'month'): 2,\n",
              "         ('date', 'month', 'display'): 2,\n",
              "         ('month', 'display', 'great'): 2,\n",
              "         ('display', 'great', 'discount'): 2,\n",
              "         ('spethnic', 'analog', 'watch'): 2,\n",
              "         ('boy', 'buy', 'spethnic'): 1,\n",
              "         ('buy', 'spethnic', 'analog'): 1,\n",
              "         ('watch', 'boy', 'spethnic'): 1,\n",
              "         ('boy', 'spethnic', 'online'): 1,\n",
              "         ('spethnic', 'online', 'rs600'): 1,\n",
              "         ('online', 'rs600', 'india'): 1,\n",
              "         ('rs600', 'india', 'flipkartcom'): 1,\n",
              "         ('franck', 'bella', 'fb127a'): 2,\n",
              "         ('bella', 'fb127a', 'analog'): 2,\n",
              "         ('fb127a', 'analog', 'watch'): 2,\n",
              "         ('boy', 'men', 'fb127a'): 1,\n",
              "         ('men', 'fb127a', 'online'): 1,\n",
              "         ('fb127a', 'online', 'rs999'): 1,\n",
              "         ('online', 'rs999', 'india'): 15,\n",
              "         ('rs999', 'india', 'flipkartcom'): 15,\n",
              "         ('skmei', 'dg0939red', 'sport'): 2,\n",
              "         ('dg0939red', 'sport', 'digital'): 2,\n",
              "         ('sport', 'digital', 'watch'): 2,\n",
              "         ('buy', 'skmei', 'dg0939red'): 1,\n",
              "         ('men', 'boy', 'dg0939red'): 1,\n",
              "         ('boy', 'dg0939red', 'online'): 1,\n",
              "         ('dg0939red', 'online', 'rs999'): 1,\n",
              "         ('fastrack', '38015pl01', 'analog'): 2,\n",
              "         ('38015pl01', 'analog', 'watch'): 2,\n",
              "         ('boy', 'buy', 'fastrack'): 1,\n",
              "         ('buy', 'fastrack', '38015pl01'): 1,\n",
              "         ('men', 'boy', '38015pl01'): 1,\n",
              "         ('boy', '38015pl01', 'online'): 1,\n",
              "         ('38015pl01', 'online', 'rs2495'): 1,\n",
              "         ('online', 'rs2495', 'india'): 1,\n",
              "         ('rs2495', 'india', 'flipkartcom'): 1,\n",
              "         ('india', 'flipkartcom', 'stainless'): 4,\n",
              "         ('flipkartcom', 'stainless', 'steel'): 4,\n",
              "         ('stainless', 'steel', 'back'): 16,\n",
              "         ('steel', 'back', 'cover'): 1,\n",
              "         ('back', 'cover', 'hybrid'): 1,\n",
              "         ('cover', 'hybrid', 'case'): 1,\n",
              "         ('hybrid', 'case', 'construction'): 1,\n",
              "         ('case', 'construction', 'sportier'): 1,\n",
              "         ('construction', 'sportier', 'rugged'): 1,\n",
              "         ('sportier', 'rugged', 'look'): 1,\n",
              "         ('rugged', 'look', 'increased'): 1,\n",
              "         ('look', 'increased', 'shock'): 1,\n",
              "         ('increased', 'shock', 'resistance'): 1,\n",
              "         ('shock', 'resistance', 'high'): 1,\n",
              "         ('resistance', 'high', 'precision'): 1,\n",
              "         ('high', 'precision', 'quartz'): 1,\n",
              "         ('precision', 'quartz', 'analogue'): 1,\n",
              "         ('quartz', 'analogue', 'movement'): 1,\n",
              "         ('analogue', 'movement', 'great'): 1,\n",
              "         ('movement', 'great', 'discount'): 1,\n",
              "         ('alfajr', 'wq18', 'qibla'): 2,\n",
              "         ('wq18', 'qibla', 'compass'): 2,\n",
              "         ('qibla', 'compass', 'digital'): 2,\n",
              "         ('compass', 'digital', 'watch'): 2,\n",
              "         ('men', 'boy', 'girl'): 2,\n",
              "         ('girl', 'buy', 'alfajr'): 1,\n",
              "         ('buy', 'alfajr', 'wq18'): 1,\n",
              "         ('boy', 'girl', 'wq18'): 1,\n",
              "         ('girl', 'wq18', 'online'): 1,\n",
              "         ('wq18', 'online', 'rs7495'): 1,\n",
              "         ('online', 'rs7495', 'india'): 1,\n",
              "         ('rs7495', 'india', 'flipkartcom'): 1,\n",
              "         ('india', 'flipkartcom', 'qibla'): 1,\n",
              "         ('flipkartcom', 'qibla', 'compass'): 1,\n",
              "         ('qibla', 'compass', 'light'): 1,\n",
              "         ('compass', 'light', 'azan'): 1,\n",
              "         ('light', 'azan', 'time'): 1,\n",
              "         ('azan', 'time', 'calculation'): 1,\n",
              "         ('time', 'calculation', 'great'): 1,\n",
              "         ('calculation', 'great', 'discount'): 1,\n",
              "         ('disney', '98189', 'analog'): 2,\n",
              "         ('98189', 'analog', 'watch'): 2,\n",
              "         ('girl', 'buy', 'disney'): 1,\n",
              "         ('buy', 'disney', '98189'): 1,\n",
              "         ('boy', 'girl', '98189'): 1,\n",
              "         ('girl', '98189', 'online'): 1,\n",
              "         ('98189', 'online', 'rs900'): 1,\n",
              "         ('online', 'rs900', 'india'): 1,\n",
              "         ('rs900', 'india', 'flipkartcom'): 1,\n",
              "         ...})"
            ]
          },
          "metadata": {},
          "execution_count": 204
        }
      ]
    },
    {
      "cell_type": "markdown",
      "metadata": {
        "id": "qjlAFemA7Hy4"
      },
      "source": [
        "# Features extraction"
      ]
    },
    {
      "cell_type": "markdown",
      "metadata": {
        "id": "cJGDzAkK7Hy4"
      },
      "source": [
        "Les données texte ne sont pas calculables et doivent donc être transformées en données numériques comme matrices ou des vecteurs pour que les modèles machine learning pussient les utilisent."
      ]
    },
    {
      "cell_type": "markdown",
      "metadata": {
        "id": "6fgNUs5l7Hy5"
      },
      "source": [
        "## TF-IDF"
      ]
    },
    {
      "cell_type": "markdown",
      "metadata": {
        "id": "vCniOQLd7Hy5"
      },
      "source": [
        "TF-IDF(Term Frequency/Inverse Document Frequency) est l'une des techniques  les plus populaires pour analyser l'importance d'un mot dans un document."
      ]
    },
    {
      "cell_type": "code",
      "metadata": {
        "id": "EknN4rZC7Hy5"
      },
      "source": [
        "tf_vectorizer = feature_extraction.text.TfidfVectorizer(max_features=10000, ngram_range=(1,3))"
      ],
      "execution_count": null,
      "outputs": []
    },
    {
      "cell_type": "markdown",
      "metadata": {
        "id": "xedtTVOo7Hy5"
      },
      "source": [
        "## bag of words"
      ]
    },
    {
      "cell_type": "markdown",
      "metadata": {
        "id": "w-sIP3lD7Hy5"
      },
      "source": [
        "Le sac de mots est un modèle de représentation des données textuels, qui compte simplement combien de fois un mot apparaît dans un document."
      ]
    },
    {
      "cell_type": "code",
      "metadata": {
        "id": "V31_IK6k7Hy5"
      },
      "source": [
        "## Count (classic BoW)\n",
        "bow_vectorizer = feature_extraction.text.CountVectorizer(max_features=10000, ngram_range=(1,3))"
      ],
      "execution_count": null,
      "outputs": []
    },
    {
      "cell_type": "markdown",
      "metadata": {
        "id": "VXatisD5Ksbo"
      },
      "source": [
        "## Universal sentenance encoder\n"
      ]
    },
    {
      "cell_type": "code",
      "metadata": {
        "id": "hk4sHLxMKoxf"
      },
      "source": [
        "module_url = 'https://tfhub.dev/google/universal-sentence-encoder-large/4'\n",
        "USE_embed = hub.KerasLayer(module_url, trainable=False, name='USE_embedding')"
      ],
      "execution_count": null,
      "outputs": []
    },
    {
      "cell_type": "code",
      "metadata": {
        "colab": {
          "base_uri": "https://localhost:8080/",
          "height": 719
        },
        "id": "wKXDsZTVw7ai",
        "outputId": "a5ff0880-5d1f-4215-e925-11eb0a3801d3"
      },
      "source": [
        "# train_embeddings = USE_embed(dataMini.description)['outputs'].numpy()\n",
        "train_embeddings = USE_embed(dataMini.text_clean)['outputs'].numpy()\n",
        "\n",
        "\n",
        "kmeans = KMeans(n_clusters=7, random_state=42).fit(train_embeddings)\n",
        "dataMini.loc[:,'use_cluster'] = None\n",
        "dataMini.loc[:,'use_cluster'] = kmeans.labels_\n",
        "\n",
        "display(dataMini.sort_values(by = 'main_cat'))"
      ],
      "execution_count": null,
      "outputs": [
        {
          "output_type": "stream",
          "text": [
            "/usr/local/lib/python3.7/dist-packages/pandas/core/indexing.py:1596: SettingWithCopyWarning: \n",
            "A value is trying to be set on a copy of a slice from a DataFrame.\n",
            "Try using .loc[row_indexer,col_indexer] = value instead\n",
            "\n",
            "See the caveats in the documentation: https://pandas.pydata.org/pandas-docs/stable/user_guide/indexing.html#returning-a-view-versus-a-copy\n",
            "  self.obj[key] = _infer_fill_value(value)\n",
            "/usr/local/lib/python3.7/dist-packages/pandas/core/indexing.py:1763: SettingWithCopyWarning: \n",
            "A value is trying to be set on a copy of a slice from a DataFrame.\n",
            "Try using .loc[row_indexer,col_indexer] = value instead\n",
            "\n",
            "See the caveats in the documentation: https://pandas.pydata.org/pandas-docs/stable/user_guide/indexing.html#returning-a-view-versus-a-copy\n",
            "  isetter(loc, value)\n",
            "/usr/local/lib/python3.7/dist-packages/pandas/core/indexing.py:1781: SettingWithCopyWarning: \n",
            "A value is trying to be set on a copy of a slice from a DataFrame.\n",
            "Try using .loc[row_indexer,col_indexer] = value instead\n",
            "\n",
            "See the caveats in the documentation: https://pandas.pydata.org/pandas-docs/stable/user_guide/indexing.html#returning-a-view-versus-a-copy\n",
            "  self.obj[item_labels[indexer[info_axis]]] = value\n"
          ],
          "name": "stderr"
        },
        {
          "output_type": "display_data",
          "data": {
            "text/html": [
              "<div>\n",
              "<style scoped>\n",
              "    .dataframe tbody tr th:only-of-type {\n",
              "        vertical-align: middle;\n",
              "    }\n",
              "\n",
              "    .dataframe tbody tr th {\n",
              "        vertical-align: top;\n",
              "    }\n",
              "\n",
              "    .dataframe thead th {\n",
              "        text-align: right;\n",
              "    }\n",
              "</style>\n",
              "<table border=\"1\" class=\"dataframe\">\n",
              "  <thead>\n",
              "    <tr style=\"text-align: right;\">\n",
              "      <th></th>\n",
              "      <th>main_cat</th>\n",
              "      <th>description</th>\n",
              "      <th>text_clean</th>\n",
              "      <th>use_cluster</th>\n",
              "    </tr>\n",
              "  </thead>\n",
              "  <tbody>\n",
              "    <tr>\n",
              "      <th>1049</th>\n",
              "      <td>Baby Care</td>\n",
              "      <td>Buy Uberlyfe Large Vinyl Sticker for Rs.595 on...</td>\n",
              "      <td>buy uberlyfe large vinyl sticker rs595 online ...</td>\n",
              "      <td>1</td>\n",
              "    </tr>\n",
              "    <tr>\n",
              "      <th>613</th>\n",
              "      <td>Baby Care</td>\n",
              "      <td>Specifications of Piyo Piyo Four Stage Waterpr...</td>\n",
              "      <td>specification piyo piyo four stage waterproof ...</td>\n",
              "      <td>5</td>\n",
              "    </tr>\n",
              "    <tr>\n",
              "      <th>612</th>\n",
              "      <td>Baby Care</td>\n",
              "      <td>Specifications of Cheeky Chompers The Neckerch...</td>\n",
              "      <td>specification cheeky chompers neckerchew simpl...</td>\n",
              "      <td>5</td>\n",
              "    </tr>\n",
              "    <tr>\n",
              "      <th>977</th>\n",
              "      <td>Baby Care</td>\n",
              "      <td>Key Features of FS Mini Klub Baby Girl's Bodys...</td>\n",
              "      <td>key feature f mini klub baby girl bodysuit fab...</td>\n",
              "      <td>5</td>\n",
              "    </tr>\n",
              "    <tr>\n",
              "      <th>975</th>\n",
              "      <td>Baby Care</td>\n",
              "      <td>Key Features of Jacadi paris Baby Boy's Stripe...</td>\n",
              "      <td>key feature jacadi paris baby boy striped casu...</td>\n",
              "      <td>5</td>\n",
              "    </tr>\n",
              "    <tr>\n",
              "      <th>...</th>\n",
              "      <td>...</td>\n",
              "      <td>...</td>\n",
              "      <td>...</td>\n",
              "      <td>...</td>\n",
              "    </tr>\n",
              "    <tr>\n",
              "      <th>523</th>\n",
              "      <td>Watches</td>\n",
              "      <td>Maxima 09321CMGY Gold Analog Watch  - For Men ...</td>\n",
              "      <td>maximum 09321cmgy gold analog watch men buy ma...</td>\n",
              "      <td>2</td>\n",
              "    </tr>\n",
              "    <tr>\n",
              "      <th>522</th>\n",
              "      <td>Watches</td>\n",
              "      <td>Maxima 24742LMGY Gold Analog Watch  - For Men ...</td>\n",
              "      <td>maximum 24742lmgy gold analog watch men buy ma...</td>\n",
              "      <td>2</td>\n",
              "    </tr>\n",
              "    <tr>\n",
              "      <th>521</th>\n",
              "      <td>Watches</td>\n",
              "      <td>Maxima 20981LMGI Attivo Analog Watch  - For Me...</td>\n",
              "      <td>maximum 20981lmgi attivo analog watch men buy ...</td>\n",
              "      <td>2</td>\n",
              "    </tr>\n",
              "    <tr>\n",
              "      <th>548</th>\n",
              "      <td>Watches</td>\n",
              "      <td>Timewel 1100-N145 Analog Watch  - For Men - Bu...</td>\n",
              "      <td>timewel 1100n145 analog watch men buy timewel ...</td>\n",
              "      <td>2</td>\n",
              "    </tr>\n",
              "    <tr>\n",
              "      <th>524</th>\n",
              "      <td>Watches</td>\n",
              "      <td>Noise NOSWW001 Analog Watch  - For Men, Women ...</td>\n",
              "      <td>noise nosww001 analog watch men woman buy nois...</td>\n",
              "      <td>2</td>\n",
              "    </tr>\n",
              "  </tbody>\n",
              "</table>\n",
              "<p>1050 rows × 4 columns</p>\n",
              "</div>"
            ],
            "text/plain": [
              "        main_cat  ... use_cluster\n",
              "1049  Baby Care   ...           1\n",
              "613   Baby Care   ...           5\n",
              "612   Baby Care   ...           5\n",
              "977   Baby Care   ...           5\n",
              "975   Baby Care   ...           5\n",
              "...          ...  ...         ...\n",
              "523     Watches   ...           2\n",
              "522     Watches   ...           2\n",
              "521     Watches   ...           2\n",
              "548     Watches   ...           2\n",
              "524     Watches   ...           2\n",
              "\n",
              "[1050 rows x 4 columns]"
            ]
          },
          "metadata": {}
        }
      ]
    },
    {
      "cell_type": "markdown",
      "metadata": {
        "id": "SHYd2lkhmLnd"
      },
      "source": [
        "## Doc2vect"
      ]
    },
    {
      "cell_type": "code",
      "metadata": {
        "colab": {
          "base_uri": "https://localhost:8080/"
        },
        "id": "xzPg6aDGmGvP",
        "outputId": "79369cdd-886f-48b8-bb0b-bb81f8723f87"
      },
      "source": [
        "tokenized_sent = []\n",
        "for s in dataMini['text_clean']:\n",
        "    tokenized_sent.append(word_tokenize(s.lower()))\n",
        "\n",
        "\n",
        "from gensim.models.doc2vec import Doc2Vec, TaggedDocument\n",
        "tagged_data = [TaggedDocument(d, [i]) for i, d in enumerate(tokenized_sent)]\n",
        "\n",
        "\n",
        "model = Doc2Vec(tagged_data, vector_size = 20, window = 2, min_count = 1, epochs = 100)\n",
        "\n",
        "'''\n",
        "vector_size = Dimensionality of the feature vectors.\n",
        "window = The maximum distance between the current and predicted word within a sentence.\n",
        "min_count = Ignores all words with total frequency lower than this.\n",
        "alpha = The initial learning rate.\n",
        "'''\n",
        "\n",
        "## Print model vocabulary\n",
        "words = list(model.wv.index_to_key)\n",
        "\n",
        "\n",
        "\n",
        "test_doc = word_tokenize(\"I had pizza and pasta\".lower())\n",
        "test_doc_vector = model.infer_vector(test_doc)\n",
        "model.docvecs.most_similar(positive = [test_doc_vector])"
      ],
      "execution_count": null,
      "outputs": [
        {
          "output_type": "stream",
          "text": [
            "/usr/local/lib/python3.7/dist-packages/ipykernel_launcher.py:26: DeprecationWarning: Call to deprecated `docvecs` (The `docvecs` property has been renamed `dv`.).\n"
          ],
          "name": "stderr"
        },
        {
          "output_type": "execute_result",
          "data": {
            "text/plain": [
              "[(235, 0.8002372980117798),\n",
              " (216, 0.7973524928092957),\n",
              " (223, 0.7898675799369812),\n",
              " (218, 0.7765114307403564),\n",
              " (199, 0.7684302926063538),\n",
              " (215, 0.7558861374855042),\n",
              " (1041, 0.7475335001945496),\n",
              " (599, 0.7388255000114441),\n",
              " (657, 0.7360965609550476),\n",
              " (804, 0.7264469861984253)]"
            ]
          },
          "metadata": {},
          "execution_count": 209
        }
      ]
    },
    {
      "cell_type": "markdown",
      "metadata": {
        "id": "VQ7FD0Ls7Hy8"
      },
      "source": [
        "# Create train corpus"
      ]
    },
    {
      "cell_type": "code",
      "metadata": {
        "id": "p6nAb5HR7Hy8"
      },
      "source": [
        "def createInput(vectorizer):\n",
        "    corpus = dtf_train[\"text_clean\"]\n",
        "    vectorizer.fit(corpus)\n",
        "    X_train = vectorizer.transform(corpus)\n",
        "    return X_train"
      ],
      "execution_count": null,
      "outputs": []
    },
    {
      "cell_type": "markdown",
      "metadata": {
        "id": "ufSVTmMP7Hy8"
      },
      "source": [
        "# Classifieurs"
      ]
    },
    {
      "cell_type": "code",
      "metadata": {
        "id": "5ywqANQB7Hy8"
      },
      "source": [
        "navie_bayes_classifier = naive_bayes.MultinomialNB()"
      ],
      "execution_count": null,
      "outputs": []
    },
    {
      "cell_type": "code",
      "metadata": {
        "id": "DLT0ANxB7Hy8"
      },
      "source": [
        "kmeans = KMeans(n_clusters = 7, n_init = 17, n_jobs = -1, tol = 0.01, max_iter = 200)\n",
        "def cluster_kmeans(vect):\n",
        "\n",
        "    kmeans.fit(vect)\n",
        "    #this loop transforms the numbers back into words\n",
        "    common_words = kmeans.cluster_centers_.argsort()[:,-1:-11:-1]\n",
        "#     for num, centroid in enumerate(common_words):\n",
        "#         print(str(num) + ' : ' + ', '.join(words[word] for word in centroid))\n",
        "    # print(enumerate(common_words))\n",
        "    "
      ],
      "execution_count": null,
      "outputs": []
    },
    {
      "cell_type": "markdown",
      "metadata": {
        "id": "q1VN2MMQ7Hy9"
      },
      "source": [
        "# Pipeline"
      ]
    },
    {
      "cell_type": "markdown",
      "metadata": {
        "id": "eesHwck27Hy9"
      },
      "source": [
        "## Modèles supervisés"
      ]
    },
    {
      "cell_type": "code",
      "metadata": {
        "id": "FFXMHsGd7Hy9"
      },
      "source": [
        "def createPipeline(classifier,vectorizer):\n",
        "    ## pipeline\n",
        "    model = pipeline.Pipeline([(\"vectorizer\", vectorizer),  \n",
        "                               (\"classifier\", classifier)])\n",
        "    ## Create X_train \n",
        "    X_train = createInput(vectorizer)\n",
        "    \n",
        "    ## train classifier\n",
        "    model[\"classifier\"].fit(X_train, y_train)\n",
        "    \n",
        "    ## test\n",
        "    X_test = dtf_test[\"text_clean\"].values\n",
        "    predicted = model.predict(X_test)\n",
        "    return predicted"
      ],
      "execution_count": null,
      "outputs": []
    },
    {
      "cell_type": "markdown",
      "metadata": {
        "id": "_KmQ_QjG7Hy9"
      },
      "source": [
        "Nous allons créer des pipeline pour tous les extracteur de features :"
      ]
    },
    {
      "cell_type": "code",
      "metadata": {
        "id": "cCT8YXol7Hy9"
      },
      "source": [
        "tf_predicted = createPipeline(navie_bayes_classifier,tf_vectorizer)"
      ],
      "execution_count": null,
      "outputs": []
    },
    {
      "cell_type": "code",
      "metadata": {
        "id": "DJxfUpfw7Hy9"
      },
      "source": [
        "bow_predicted = createPipeline(navie_bayes_classifier,bow_vectorizer)"
      ],
      "execution_count": null,
      "outputs": []
    },
    {
      "cell_type": "markdown",
      "metadata": {
        "id": "81OEk7hO7Hy9"
      },
      "source": [
        "## Modèles non-supervisés"
      ]
    },
    {
      "cell_type": "code",
      "metadata": {
        "id": "obf6rJRuQe0x"
      },
      "source": [
        "def pipeline_non_supervise(feature_extractor,extractor_name,data):\n",
        "  ''' extractor_name : the given name to the new predicted column values in the dataset \"data\"\n",
        "  return sillhouette score for the evaluation of the model\n",
        "  ''' \n",
        "  extractor = feature_extractor.fit_transform(clean_desc)\n",
        "  cluster_kmeans(extractor)\n",
        "  data[extractor_name] = kmeans.labels_\n"
      ],
      "execution_count": null,
      "outputs": []
    },
    {
      "cell_type": "code",
      "metadata": {
        "id": "zqcmBDiCRWI5",
        "colab": {
          "base_uri": "https://localhost:8080/"
        },
        "outputId": "93b28b0d-5317-4db1-a110-b5e482874f68"
      },
      "source": [
        "pipeline_non_supervise(tf_vectorizer,'cluster_tfidf_kmeans',dataMini)"
      ],
      "execution_count": null,
      "outputs": [
        {
          "output_type": "stream",
          "text": [
            "/usr/local/lib/python3.7/dist-packages/ipykernel_launcher.py:7: SettingWithCopyWarning: \n",
            "A value is trying to be set on a copy of a slice from a DataFrame.\n",
            "Try using .loc[row_indexer,col_indexer] = value instead\n",
            "\n",
            "See the caveats in the documentation: https://pandas.pydata.org/pandas-docs/stable/user_guide/indexing.html#returning-a-view-versus-a-copy\n",
            "  import sys\n"
          ],
          "name": "stderr"
        }
      ]
    },
    {
      "cell_type": "code",
      "metadata": {
        "id": "lvT_RnNEWekF",
        "colab": {
          "base_uri": "https://localhost:8080/"
        },
        "outputId": "c19183a4-363e-471c-d118-79eccf13ffd7"
      },
      "source": [
        "pipeline_non_supervise(bow_vectorizer,'cluster_bow_kmeans',dataMini)"
      ],
      "execution_count": null,
      "outputs": [
        {
          "output_type": "stream",
          "text": [
            "/usr/local/lib/python3.7/dist-packages/ipykernel_launcher.py:7: SettingWithCopyWarning: \n",
            "A value is trying to be set on a copy of a slice from a DataFrame.\n",
            "Try using .loc[row_indexer,col_indexer] = value instead\n",
            "\n",
            "See the caveats in the documentation: https://pandas.pydata.org/pandas-docs/stable/user_guide/indexing.html#returning-a-view-versus-a-copy\n",
            "  import sys\n"
          ],
          "name": "stderr"
        }
      ]
    },
    {
      "cell_type": "markdown",
      "metadata": {
        "id": "kMDUOYyv7Hy_"
      },
      "source": [
        "# Evolution de performance"
      ]
    },
    {
      "cell_type": "markdown",
      "metadata": {
        "id": "o7q1dV3D7Hy_"
      },
      "source": [
        "## Matrice de confusion "
      ]
    },
    {
      "cell_type": "markdown",
      "metadata": {
        "id": "GL4VIaft7Hy_"
      },
      "source": [
        "### Modèles supervisés"
      ]
    },
    {
      "cell_type": "code",
      "metadata": {
        "id": "95k6RXsm7Hy_"
      },
      "source": [
        "def createConfusionMatrix(real,predicted):\n",
        "    classes = np.unique(real)\n",
        "\n",
        "    ## Plot confusion matrix\n",
        "    cm = metrics.confusion_matrix(real, predicted)\n",
        "    fig, ax = plt.subplots()\n",
        "    sns.heatmap(cm, annot=True, fmt='d', ax=ax, cmap=plt.cm.Blues, \n",
        "                cbar=False)\n",
        "    ax.set(xlabel=\"Pred\", ylabel=\"True\", xticklabels=classes, \n",
        "           yticklabels=classes, title=\"Confusion matrix\")\n",
        "    plt.yticks(rotation=0)\n",
        "    plt.xticks(rotation=90)"
      ],
      "execution_count": null,
      "outputs": []
    },
    {
      "cell_type": "code",
      "metadata": {
        "id": "4iW3iKV47Hy_",
        "colab": {
          "base_uri": "https://localhost:8080/",
          "height": 419
        },
        "outputId": "badf46a0-0add-4be0-b3e2-5accc25549d7"
      },
      "source": [
        "createConfusionMatrix(y_test,tf_predicted)"
      ],
      "execution_count": null,
      "outputs": [
        {
          "output_type": "display_data",
          "data": {
            "image/png": "[encoded data removed]",
            "text/plain": [
              "<Figure size 432x288 with 1 Axes>"
            ]
          },
          "metadata": {
            "needs_background": "light"
          }
        }
      ]
    },
    {
      "cell_type": "code",
      "metadata": {
        "id": "KZTqPirn7Hy_",
        "colab": {
          "base_uri": "https://localhost:8080/",
          "height": 419
        },
        "outputId": "e1c51689-d089-4bca-acde-f7d4576447f2"
      },
      "source": [
        "createConfusionMatrix(y_test,bow_predicted)"
      ],
      "execution_count": null,
      "outputs": [
        {
          "output_type": "display_data",
          "data": {
            "image/png": "[encoded data removed]",
            "text/plain": [
              "<Figure size 432x288 with 1 Axes>"
            ]
          },
          "metadata": {
            "needs_background": "light"
          }
        }
      ]
    },
    {
      "cell_type": "markdown",
      "metadata": {
        "id": "ryuLlJWk7HzA"
      },
      "source": [
        "### Modèles non-supervisés"
      ]
    },
    {
      "cell_type": "code",
      "metadata": {
        "id": "S2Qyxm5z7HzA",
        "colab": {
          "base_uri": "https://localhost:8080/",
          "height": 417
        },
        "outputId": "422a6135-d9a5-4205-a2dc-5ff4bbca5af2"
      },
      "source": [
        "dataReduced = dataMini[['main_cat','use_cluster','cluster_tfidf_kmeans','cluster_bow_kmeans']]\n",
        "dataReduced"
      ],
      "execution_count": null,
      "outputs": [
        {
          "output_type": "execute_result",
          "data": {
            "text/html": [
              "<div>\n",
              "<style scoped>\n",
              "    .dataframe tbody tr th:only-of-type {\n",
              "        vertical-align: middle;\n",
              "    }\n",
              "\n",
              "    .dataframe tbody tr th {\n",
              "        vertical-align: top;\n",
              "    }\n",
              "\n",
              "    .dataframe thead th {\n",
              "        text-align: right;\n",
              "    }\n",
              "</style>\n",
              "<table border=\"1\" class=\"dataframe\">\n",
              "  <thead>\n",
              "    <tr style=\"text-align: right;\">\n",
              "      <th></th>\n",
              "      <th>main_cat</th>\n",
              "      <th>use_cluster</th>\n",
              "      <th>cluster_tfidf_kmeans</th>\n",
              "      <th>cluster_bow_kmeans</th>\n",
              "    </tr>\n",
              "  </thead>\n",
              "  <tbody>\n",
              "    <tr>\n",
              "      <th>0</th>\n",
              "      <td>Home Furnishing</td>\n",
              "      <td>5</td>\n",
              "      <td>2</td>\n",
              "      <td>5</td>\n",
              "    </tr>\n",
              "    <tr>\n",
              "      <th>1</th>\n",
              "      <td>Baby Care</td>\n",
              "      <td>5</td>\n",
              "      <td>2</td>\n",
              "      <td>5</td>\n",
              "    </tr>\n",
              "    <tr>\n",
              "      <th>2</th>\n",
              "      <td>Baby Care</td>\n",
              "      <td>0</td>\n",
              "      <td>2</td>\n",
              "      <td>5</td>\n",
              "    </tr>\n",
              "    <tr>\n",
              "      <th>3</th>\n",
              "      <td>Home Furnishing</td>\n",
              "      <td>5</td>\n",
              "      <td>2</td>\n",
              "      <td>6</td>\n",
              "    </tr>\n",
              "    <tr>\n",
              "      <th>4</th>\n",
              "      <td>Home Furnishing</td>\n",
              "      <td>0</td>\n",
              "      <td>2</td>\n",
              "      <td>6</td>\n",
              "    </tr>\n",
              "    <tr>\n",
              "      <th>...</th>\n",
              "      <td>...</td>\n",
              "      <td>...</td>\n",
              "      <td>...</td>\n",
              "      <td>...</td>\n",
              "    </tr>\n",
              "    <tr>\n",
              "      <th>1045</th>\n",
              "      <td>Baby Care</td>\n",
              "      <td>0</td>\n",
              "      <td>2</td>\n",
              "      <td>5</td>\n",
              "    </tr>\n",
              "    <tr>\n",
              "      <th>1046</th>\n",
              "      <td>Baby Care</td>\n",
              "      <td>0</td>\n",
              "      <td>2</td>\n",
              "      <td>5</td>\n",
              "    </tr>\n",
              "    <tr>\n",
              "      <th>1047</th>\n",
              "      <td>Baby Care</td>\n",
              "      <td>1</td>\n",
              "      <td>2</td>\n",
              "      <td>0</td>\n",
              "    </tr>\n",
              "    <tr>\n",
              "      <th>1048</th>\n",
              "      <td>Baby Care</td>\n",
              "      <td>1</td>\n",
              "      <td>2</td>\n",
              "      <td>0</td>\n",
              "    </tr>\n",
              "    <tr>\n",
              "      <th>1049</th>\n",
              "      <td>Baby Care</td>\n",
              "      <td>1</td>\n",
              "      <td>2</td>\n",
              "      <td>0</td>\n",
              "    </tr>\n",
              "  </tbody>\n",
              "</table>\n",
              "<p>1050 rows × 4 columns</p>\n",
              "</div>"
            ],
            "text/plain": [
              "              main_cat  use_cluster  cluster_tfidf_kmeans  cluster_bow_kmeans\n",
              "0     Home Furnishing             5                     2                   5\n",
              "1           Baby Care             5                     2                   5\n",
              "2           Baby Care             0                     2                   5\n",
              "3     Home Furnishing             5                     2                   6\n",
              "4     Home Furnishing             0                     2                   6\n",
              "...                ...          ...                   ...                 ...\n",
              "1045        Baby Care             0                     2                   5\n",
              "1046        Baby Care             0                     2                   5\n",
              "1047        Baby Care             1                     2                   0\n",
              "1048        Baby Care             1                     2                   0\n",
              "1049        Baby Care             1                     2                   0\n",
              "\n",
              "[1050 rows x 4 columns]"
            ]
          },
          "metadata": {},
          "execution_count": 223
        }
      ]
    },
    {
      "cell_type": "code",
      "metadata": {
        "id": "ZF1P_as87HzA"
      },
      "source": [
        "def predict_category(data, features_extrater):\n",
        "    \n",
        "    #Keep only the cluster of the required extrater\n",
        "    tmp_data = dataReduced[[ 'main_cat',features_extrater]]    \n",
        "    \n",
        "    #Handle the categorical features\n",
        "    dummy = pd.get_dummies(tmp_data['main_cat'])\n",
        "    tmp_data = pd.concat([tmp_data,dummy],axis= 1)\n",
        "    tmp_data.drop('main_cat',axis = 1 , inplace = True)\n",
        "    \n",
        "    #count the prediction of each category\n",
        "    confusion_matrix = tmp_data.groupby([features_extrater]).sum()\n",
        "\n",
        "    #indexing\n",
        "    confusion_matrix['cluster_number'] = confusion_matrix.index;\n",
        "\n",
        "    #remove defalut index\n",
        "    confusion_matrix.reset_index(drop=True,inplace = True)\n",
        "    return confusion_matrix"
      ],
      "execution_count": null,
      "outputs": []
    },
    {
      "cell_type": "code",
      "metadata": {
        "colab": {
          "base_uri": "https://localhost:8080/",
          "height": 282
        },
        "id": "PpmyTF3OBmZs",
        "outputId": "1d41d358-c2dc-41ec-c718-c29a970935bb"
      },
      "source": [
        "#Calculate the prediction cluster per cateogry and select the category the most predicted\n",
        "tf_prediction = predict_category(dataReduced,'cluster_tfidf_kmeans')\n",
        "tf_prediction['the_most_predicted_category'] = tf_prediction.idxmax(axis=1)\n",
        "tf_prediction"
      ],
      "execution_count": null,
      "outputs": [
        {
          "output_type": "execute_result",
          "data": {
            "text/html": [
              "<div>\n",
              "<style scoped>\n",
              "    .dataframe tbody tr th:only-of-type {\n",
              "        vertical-align: middle;\n",
              "    }\n",
              "\n",
              "    .dataframe tbody tr th {\n",
              "        vertical-align: top;\n",
              "    }\n",
              "\n",
              "    .dataframe thead th {\n",
              "        text-align: right;\n",
              "    }\n",
              "</style>\n",
              "<table border=\"1\" class=\"dataframe\">\n",
              "  <thead>\n",
              "    <tr style=\"text-align: right;\">\n",
              "      <th></th>\n",
              "      <th>Baby Care</th>\n",
              "      <th>Beauty and Personal Care</th>\n",
              "      <th>Computers</th>\n",
              "      <th>Home Decor &amp; Festive Needs</th>\n",
              "      <th>Home Furnishing</th>\n",
              "      <th>Kitchen &amp; Dining</th>\n",
              "      <th>Watches</th>\n",
              "      <th>cluster_number</th>\n",
              "      <th>the_most_predicted_category</th>\n",
              "    </tr>\n",
              "  </thead>\n",
              "  <tbody>\n",
              "    <tr>\n",
              "      <th>0</th>\n",
              "      <td>0</td>\n",
              "      <td>0</td>\n",
              "      <td>0</td>\n",
              "      <td>0</td>\n",
              "      <td>0</td>\n",
              "      <td>0</td>\n",
              "      <td>136</td>\n",
              "      <td>0</td>\n",
              "      <td>Watches</td>\n",
              "    </tr>\n",
              "    <tr>\n",
              "      <th>1</th>\n",
              "      <td>20</td>\n",
              "      <td>0</td>\n",
              "      <td>0</td>\n",
              "      <td>0</td>\n",
              "      <td>74</td>\n",
              "      <td>1</td>\n",
              "      <td>0</td>\n",
              "      <td>1</td>\n",
              "      <td>Home Furnishing</td>\n",
              "    </tr>\n",
              "    <tr>\n",
              "      <th>2</th>\n",
              "      <td>51</td>\n",
              "      <td>70</td>\n",
              "      <td>82</td>\n",
              "      <td>150</td>\n",
              "      <td>76</td>\n",
              "      <td>103</td>\n",
              "      <td>14</td>\n",
              "      <td>2</td>\n",
              "      <td>Home Decor &amp; Festive Needs</td>\n",
              "    </tr>\n",
              "    <tr>\n",
              "      <th>3</th>\n",
              "      <td>0</td>\n",
              "      <td>0</td>\n",
              "      <td>0</td>\n",
              "      <td>0</td>\n",
              "      <td>0</td>\n",
              "      <td>21</td>\n",
              "      <td>0</td>\n",
              "      <td>3</td>\n",
              "      <td>Kitchen &amp; Dining</td>\n",
              "    </tr>\n",
              "    <tr>\n",
              "      <th>4</th>\n",
              "      <td>0</td>\n",
              "      <td>80</td>\n",
              "      <td>68</td>\n",
              "      <td>0</td>\n",
              "      <td>0</td>\n",
              "      <td>2</td>\n",
              "      <td>0</td>\n",
              "      <td>4</td>\n",
              "      <td>Beauty and Personal Care</td>\n",
              "    </tr>\n",
              "    <tr>\n",
              "      <th>5</th>\n",
              "      <td>79</td>\n",
              "      <td>0</td>\n",
              "      <td>0</td>\n",
              "      <td>0</td>\n",
              "      <td>0</td>\n",
              "      <td>0</td>\n",
              "      <td>0</td>\n",
              "      <td>5</td>\n",
              "      <td>Baby Care</td>\n",
              "    </tr>\n",
              "    <tr>\n",
              "      <th>6</th>\n",
              "      <td>0</td>\n",
              "      <td>0</td>\n",
              "      <td>0</td>\n",
              "      <td>0</td>\n",
              "      <td>0</td>\n",
              "      <td>23</td>\n",
              "      <td>0</td>\n",
              "      <td>6</td>\n",
              "      <td>Kitchen &amp; Dining</td>\n",
              "    </tr>\n",
              "  </tbody>\n",
              "</table>\n",
              "</div>"
            ],
            "text/plain": [
              "   Baby Care   ...  the_most_predicted_category\n",
              "0           0  ...                     Watches \n",
              "1          20  ...             Home Furnishing \n",
              "2          51  ...  Home Decor & Festive Needs \n",
              "3           0  ...            Kitchen & Dining \n",
              "4           0  ...    Beauty and Personal Care \n",
              "5          79  ...                   Baby Care \n",
              "6           0  ...            Kitchen & Dining \n",
              "\n",
              "[7 rows x 9 columns]"
            ]
          },
          "metadata": {},
          "execution_count": 225
        }
      ]
    },
    {
      "cell_type": "code",
      "metadata": {
        "id": "Gosb7lPp7HzA"
      },
      "source": [
        "use_prediction = predict_category(dataReduced,'use_cluster')\n",
        "use_prediction['the_most_predicted_category'] = use_prediction.idxmax(axis=1)"
      ],
      "execution_count": null,
      "outputs": []
    },
    {
      "cell_type": "code",
      "metadata": {
        "id": "eagL9dmJC13H"
      },
      "source": [
        "bow_prediction = predict_category(dataReduced,'cluster_bow_kmeans')\n",
        "bow_prediction['the_most_predicted_category'] = bow_prediction.idxmax(axis=1)"
      ],
      "execution_count": null,
      "outputs": []
    },
    {
      "cell_type": "markdown",
      "metadata": {
        "id": "t9FbQIxcEhPr"
      },
      "source": [
        "Nous allons remplacer le numéro de cluster par le nom de catégorie le plus prédit."
      ]
    },
    {
      "cell_type": "code",
      "metadata": {
        "id": "cP_XMHH1IYO3"
      },
      "source": [
        "def name_predicted_category(source_data,prediction_data,merge_column):\n",
        "    ''' \n",
        "    Replace predicted category number by the name of the most predicted category\n",
        "    prediction_data : the prediction data set\n",
        "    source_data : the origin data set\n",
        "    merge_column : the column on data set on which merge will be done\n",
        "    '''\n",
        "    # merge target data set and source data set\n",
        "    source_data = pd.merge(source_data,prediction_data[['cluster_number','the_most_predicted_category']],\n",
        "                       how='left',left_on = merge_column,right_on = 'cluster_number')\n",
        "    \n",
        "    #Replace predicted category number by the name of the most predicted category\n",
        "    source_data[[merge_column]] = source_data[['the_most_predicted_category']]\n",
        "\n",
        "    #Drop unnecessary merge columns\n",
        "    source_data.drop(columns=['the_most_predicted_category'],inplace = True)\n",
        "    source_data.drop(columns=['cluster_number'],inplace = True)\n",
        "    \n",
        "    return source_data"
      ],
      "execution_count": null,
      "outputs": []
    },
    {
      "cell_type": "code",
      "metadata": {
        "colab": {
          "base_uri": "https://localhost:8080/",
          "height": 417
        },
        "id": "Nl8gLW8RKakz",
        "outputId": "03881413-3677-47c5-bb49-722df548480e"
      },
      "source": [
        "dataReduced = name_predicted_category(dataReduced,tf_prediction,'cluster_tfidf_kmeans')\n",
        "dataReduced = name_predicted_category(dataReduced,use_prediction,'use_cluster')\n",
        "dataReduced = name_predicted_category(dataReduced,bow_prediction,'cluster_bow_kmeans')\n",
        "dataReduced"
      ],
      "execution_count": null,
      "outputs": [
        {
          "output_type": "execute_result",
          "data": {
            "text/html": [
              "<div>\n",
              "<style scoped>\n",
              "    .dataframe tbody tr th:only-of-type {\n",
              "        vertical-align: middle;\n",
              "    }\n",
              "\n",
              "    .dataframe tbody tr th {\n",
              "        vertical-align: top;\n",
              "    }\n",
              "\n",
              "    .dataframe thead th {\n",
              "        text-align: right;\n",
              "    }\n",
              "</style>\n",
              "<table border=\"1\" class=\"dataframe\">\n",
              "  <thead>\n",
              "    <tr style=\"text-align: right;\">\n",
              "      <th></th>\n",
              "      <th>main_cat</th>\n",
              "      <th>use_cluster</th>\n",
              "      <th>cluster_tfidf_kmeans</th>\n",
              "      <th>cluster_bow_kmeans</th>\n",
              "    </tr>\n",
              "  </thead>\n",
              "  <tbody>\n",
              "    <tr>\n",
              "      <th>0</th>\n",
              "      <td>Home Furnishing</td>\n",
              "      <td>Baby Care</td>\n",
              "      <td>Home Decor &amp; Festive Needs</td>\n",
              "      <td>Home Decor &amp; Festive Needs</td>\n",
              "    </tr>\n",
              "    <tr>\n",
              "      <th>1</th>\n",
              "      <td>Baby Care</td>\n",
              "      <td>Baby Care</td>\n",
              "      <td>Home Decor &amp; Festive Needs</td>\n",
              "      <td>Home Decor &amp; Festive Needs</td>\n",
              "    </tr>\n",
              "    <tr>\n",
              "      <th>2</th>\n",
              "      <td>Baby Care</td>\n",
              "      <td>Home Decor &amp; Festive Needs</td>\n",
              "      <td>Home Decor &amp; Festive Needs</td>\n",
              "      <td>Home Decor &amp; Festive Needs</td>\n",
              "    </tr>\n",
              "    <tr>\n",
              "      <th>3</th>\n",
              "      <td>Home Furnishing</td>\n",
              "      <td>Baby Care</td>\n",
              "      <td>Home Decor &amp; Festive Needs</td>\n",
              "      <td>cluster_number</td>\n",
              "    </tr>\n",
              "    <tr>\n",
              "      <th>4</th>\n",
              "      <td>Home Furnishing</td>\n",
              "      <td>Home Decor &amp; Festive Needs</td>\n",
              "      <td>Home Decor &amp; Festive Needs</td>\n",
              "      <td>cluster_number</td>\n",
              "    </tr>\n",
              "    <tr>\n",
              "      <th>...</th>\n",
              "      <td>...</td>\n",
              "      <td>...</td>\n",
              "      <td>...</td>\n",
              "      <td>...</td>\n",
              "    </tr>\n",
              "    <tr>\n",
              "      <th>1045</th>\n",
              "      <td>Baby Care</td>\n",
              "      <td>Home Decor &amp; Festive Needs</td>\n",
              "      <td>Home Decor &amp; Festive Needs</td>\n",
              "      <td>Home Decor &amp; Festive Needs</td>\n",
              "    </tr>\n",
              "    <tr>\n",
              "      <th>1046</th>\n",
              "      <td>Baby Care</td>\n",
              "      <td>Home Decor &amp; Festive Needs</td>\n",
              "      <td>Home Decor &amp; Festive Needs</td>\n",
              "      <td>Home Decor &amp; Festive Needs</td>\n",
              "    </tr>\n",
              "    <tr>\n",
              "      <th>1047</th>\n",
              "      <td>Baby Care</td>\n",
              "      <td>Home Decor &amp; Festive Needs</td>\n",
              "      <td>Home Decor &amp; Festive Needs</td>\n",
              "      <td>Watches</td>\n",
              "    </tr>\n",
              "    <tr>\n",
              "      <th>1048</th>\n",
              "      <td>Baby Care</td>\n",
              "      <td>Home Decor &amp; Festive Needs</td>\n",
              "      <td>Home Decor &amp; Festive Needs</td>\n",
              "      <td>Watches</td>\n",
              "    </tr>\n",
              "    <tr>\n",
              "      <th>1049</th>\n",
              "      <td>Baby Care</td>\n",
              "      <td>Home Decor &amp; Festive Needs</td>\n",
              "      <td>Home Decor &amp; Festive Needs</td>\n",
              "      <td>Watches</td>\n",
              "    </tr>\n",
              "  </tbody>\n",
              "</table>\n",
              "<p>1050 rows × 4 columns</p>\n",
              "</div>"
            ],
            "text/plain": [
              "              main_cat  ...           cluster_bow_kmeans\n",
              "0     Home Furnishing   ...  Home Decor & Festive Needs \n",
              "1           Baby Care   ...  Home Decor & Festive Needs \n",
              "2           Baby Care   ...  Home Decor & Festive Needs \n",
              "3     Home Furnishing   ...               cluster_number\n",
              "4     Home Furnishing   ...               cluster_number\n",
              "...                ...  ...                          ...\n",
              "1045        Baby Care   ...  Home Decor & Festive Needs \n",
              "1046        Baby Care   ...  Home Decor & Festive Needs \n",
              "1047        Baby Care   ...                     Watches \n",
              "1048        Baby Care   ...                     Watches \n",
              "1049        Baby Care   ...                     Watches \n",
              "\n",
              "[1050 rows x 4 columns]"
            ]
          },
          "metadata": {},
          "execution_count": 229
        }
      ]
    },
    {
      "cell_type": "markdown",
      "metadata": {
        "id": "RRwNw9zcM2gD"
      },
      "source": [
        "Matrice de confusion TF-IDF et Kmeans"
      ]
    },
    {
      "cell_type": "code",
      "metadata": {
        "colab": {
          "base_uri": "https://localhost:8080/",
          "height": 419
        },
        "id": "p_2pkA1CM10-",
        "outputId": "bc543f2c-926e-4764-c6b1-68e4de12545f"
      },
      "source": [
        "createConfusionMatrix(dataReduced['main_cat'],dataReduced['cluster_tfidf_kmeans'])"
      ],
      "execution_count": null,
      "outputs": [
        {
          "output_type": "display_data",
          "data": {
            "image/png": "[encoded data removed]",
            "text/plain": [
              "<Figure size 432x288 with 1 Axes>"
            ]
          },
          "metadata": {
            "needs_background": "light"
          }
        }
      ]
    },
    {
      "cell_type": "markdown",
      "metadata": {
        "id": "WeKyPzuoNuk_"
      },
      "source": [
        "Matrice de confusion de bag of words et Kmeans"
      ]
    },
    {
      "cell_type": "code",
      "metadata": {
        "colab": {
          "base_uri": "https://localhost:8080/",
          "height": 419
        },
        "id": "sQ1vZ0ReMygF",
        "outputId": "4bdf4c0a-0a16-4098-9aef-1bf795b7645f"
      },
      "source": [
        "createConfusionMatrix(dataReduced['main_cat'],dataReduced['cluster_bow_kmeans'])"
      ],
      "execution_count": null,
      "outputs": [
        {
          "output_type": "display_data",
          "data": {
            "image/png": "[encoded data removed]",
            "text/plain": [
              "<Figure size 432x288 with 1 Axes>"
            ]
          },
          "metadata": {
            "needs_background": "light"
          }
        }
      ]
    },
    {
      "cell_type": "markdown",
      "metadata": {
        "id": "5y2X9wqmOU5N"
      },
      "source": [
        "Matrice de confusion de USE et Kmeans"
      ]
    },
    {
      "cell_type": "code",
      "metadata": {
        "colab": {
          "base_uri": "https://localhost:8080/",
          "height": 419
        },
        "id": "SakrcvldOZfO",
        "outputId": "cf5193df-bff7-4103-e250-39ae62dc319a"
      },
      "source": [
        "createConfusionMatrix(dataReduced['main_cat'],dataReduced['use_cluster'])"
      ],
      "execution_count": null,
      "outputs": [
        {
          "output_type": "display_data",
          "data": {
            "image/png": "[encoded data removed]",
            "text/plain": [
              "<Figure size 432x288 with 1 Axes>"
            ]
          },
          "metadata": {
            "needs_background": "light"
          }
        }
      ]
    },
    {
      "cell_type": "markdown",
      "metadata": {
        "id": "melot-P2hppB"
      },
      "source": [
        "## Tableau comparatif"
      ]
    },
    {
      "cell_type": "markdown",
      "metadata": {
        "id": "evM-eE5vX3vc"
      },
      "source": [
        "Nous allons créer un tableau comparatif de tous les modèles supervisés et les modèles non-supervisés\n"
      ]
    },
    {
      "cell_type": "code",
      "metadata": {
        "id": "jC_b0ljRYDvs"
      },
      "source": [
        "Columns = ['Features extractor', 'Classifier', 'score ARI']\n",
        "comparatif_table = pd.DataFrame(columns = Columns)"
      ],
      "execution_count": null,
      "outputs": []
    },
    {
      "cell_type": "code",
      "metadata": {
        "id": "sF7nnZlK7HzC"
      },
      "source": [
        "from sklearn.metrics import balanced_accuracy_score\n",
        "from sklearn.metrics.cluster import adjusted_rand_score\n",
        "\n",
        "tf_naive_bayes = pd.DataFrame({\"Features extractor\":[\"TF-IDF\"],\n",
        "                    \"Classifier\":[\"Naive bayes\"],\n",
        "                    \"score ARI\":[adjusted_rand_score(y_test, tf_predicted)],\n",
        "                    \"Accuracy\": [balanced_accuracy_score(y_test,tf_predicted)]})  "
      ],
      "execution_count": null,
      "outputs": []
    },
    {
      "cell_type": "code",
      "metadata": {
        "id": "-9-34n7pcz_q"
      },
      "source": [
        "bow_naive_bayes = pd.DataFrame({\"Features extractor\":[\"Bag of words\"],\n",
        "                    \"Classifier\":[\"Naive bayes\"],\n",
        "                    \"score ARI\":[adjusted_rand_score(y_test, bow_predicted)],\n",
        "                    \"Accuracy\": [balanced_accuracy_score(y_test,bow_predicted)]})  "
      ],
      "execution_count": null,
      "outputs": []
    },
    {
      "cell_type": "code",
      "metadata": {
        "id": "cIaTW_JBd2lR"
      },
      "source": [
        "tf_kmeans = pd.DataFrame({\"Features extractor\":[\"TF-IDF\"],\n",
        "                    \"Classifier\":[\"Kmeans\"],\n",
        "                    \"score ARI\":[adjusted_rand_score(dataReduced['main_cat'],dataReduced['cluster_tfidf_kmeans'])],\n",
        "                    \"Accuracy\": [balanced_accuracy_score(dataReduced['main_cat'],dataReduced['cluster_tfidf_kmeans'])]})"
      ],
      "execution_count": null,
      "outputs": []
    },
    {
      "cell_type": "code",
      "metadata": {
        "id": "8NFUTGvReLcu",
        "colab": {
          "base_uri": "https://localhost:8080/"
        },
        "outputId": "30e3ac77-7a58-4fb0-88e2-7a3dab6330bd"
      },
      "source": [
        "bow_kmeans = pd.DataFrame({\"Features extractor\":[\"Bag of words\"],\n",
        "                    \"Classifier\":[\"Kmeans\"],\n",
        "                    \"score ARI\":[adjusted_rand_score(dataReduced['main_cat'],dataReduced['cluster_bow_kmeans'])],\n",
        "                    \"Accuracy\": [balanced_accuracy_score(dataReduced['main_cat'],dataReduced['cluster_bow_kmeans'])]})"
      ],
      "execution_count": null,
      "outputs": [
        {
          "output_type": "stream",
          "text": [
            "/usr/local/lib/python3.7/dist-packages/sklearn/metrics/_classification.py:1859: UserWarning: y_pred contains classes not in y_true\n",
            "  warnings.warn('y_pred contains classes not in y_true')\n"
          ],
          "name": "stderr"
        }
      ]
    },
    {
      "cell_type": "code",
      "metadata": {
        "id": "jHcRD_C6ehoj"
      },
      "source": [
        "use_kmeans = pd.DataFrame({\"Features extractor\":[\"USE\"],\n",
        "                    \"Classifier\":[\"Kmeans\"],\n",
        "                    \"score ARI\":[adjusted_rand_score(dataReduced['main_cat'],dataReduced['use_cluster'])],\n",
        "                    \"Accuracy\": [balanced_accuracy_score(dataReduced['main_cat'],dataReduced['use_cluster'])]})\n"
      ],
      "execution_count": null,
      "outputs": []
    },
    {
      "cell_type": "code",
      "metadata": {
        "id": "E5NDXmHIgc1p",
        "colab": {
          "base_uri": "https://localhost:8080/",
          "height": 203
        },
        "outputId": "a50351a7-98af-4524-d33e-9d2d7bbcaeb2"
      },
      "source": [
        "result = comparatif_table.append([tf_kmeans, tf_naive_bayes,bow_kmeans,bow_naive_bayes,use_kmeans])\n",
        "result"
      ],
      "execution_count": null,
      "outputs": [
        {
          "output_type": "execute_result",
          "data": {
            "text/html": [
              "<div>\n",
              "<style scoped>\n",
              "    .dataframe tbody tr th:only-of-type {\n",
              "        vertical-align: middle;\n",
              "    }\n",
              "\n",
              "    .dataframe tbody tr th {\n",
              "        vertical-align: top;\n",
              "    }\n",
              "\n",
              "    .dataframe thead th {\n",
              "        text-align: right;\n",
              "    }\n",
              "</style>\n",
              "<table border=\"1\" class=\"dataframe\">\n",
              "  <thead>\n",
              "    <tr style=\"text-align: right;\">\n",
              "      <th></th>\n",
              "      <th>Features extractor</th>\n",
              "      <th>Classifier</th>\n",
              "      <th>score ARI</th>\n",
              "      <th>Accuracy</th>\n",
              "    </tr>\n",
              "  </thead>\n",
              "  <tbody>\n",
              "    <tr>\n",
              "      <th>0</th>\n",
              "      <td>TF-IDF</td>\n",
              "      <td>Kmeans</td>\n",
              "      <td>0.220902</td>\n",
              "      <td>0.536190</td>\n",
              "    </tr>\n",
              "    <tr>\n",
              "      <th>0</th>\n",
              "      <td>TF-IDF</td>\n",
              "      <td>Naive bayes</td>\n",
              "      <td>0.843617</td>\n",
              "      <td>0.922428</td>\n",
              "    </tr>\n",
              "    <tr>\n",
              "      <th>0</th>\n",
              "      <td>Bag of words</td>\n",
              "      <td>Kmeans</td>\n",
              "      <td>0.055434</td>\n",
              "      <td>0.307619</td>\n",
              "    </tr>\n",
              "    <tr>\n",
              "      <th>0</th>\n",
              "      <td>Bag of words</td>\n",
              "      <td>Naive bayes</td>\n",
              "      <td>0.754442</td>\n",
              "      <td>0.870840</td>\n",
              "    </tr>\n",
              "    <tr>\n",
              "      <th>0</th>\n",
              "      <td>USE</td>\n",
              "      <td>Kmeans</td>\n",
              "      <td>0.312676</td>\n",
              "      <td>0.577143</td>\n",
              "    </tr>\n",
              "  </tbody>\n",
              "</table>\n",
              "</div>"
            ],
            "text/plain": [
              "  Features extractor   Classifier  score ARI  Accuracy\n",
              "0             TF-IDF       Kmeans   0.220902  0.536190\n",
              "0             TF-IDF  Naive bayes   0.843617  0.922428\n",
              "0       Bag of words       Kmeans   0.055434  0.307619\n",
              "0       Bag of words  Naive bayes   0.754442  0.870840\n",
              "0                USE       Kmeans   0.312676  0.577143"
            ]
          },
          "metadata": {},
          "execution_count": 241
        }
      ]
    },
    {
      "cell_type": "markdown",
      "metadata": {
        "id": "2LeZiVf77HzF"
      },
      "source": [
        "# Sillhouette Score Analysis"
      ]
    },
    {
      "cell_type": "code",
      "metadata": {
        "id": "AYFA8Y_l7HzF"
      },
      "source": [
        "X= tf_vectorizer.fit_transform(dataMini['text_clean'])\n",
        "X"
      ],
      "execution_count": null,
      "outputs": []
    },
    {
      "cell_type": "code",
      "metadata": {
        "id": "X4gtzj877HzF",
        "scrolled": false
      },
      "source": [
        "from yellowbrick.cluster import SilhouetteVisualizer\n",
        "\n",
        "wcss = []\n",
        "\n",
        "for i in range(2,8):\n",
        "    kmeans = KMeans(n_clusters=i,init='k-means++',max_iter= 300, random_state= 42)\n",
        "    visualizer = SilhouetteVisualizer(kmeans)\n",
        "    visualizer.fit(X)\n",
        "    visualizer.show()\n",
        "    wcss.append(kmeans.inertia_)   "
      ],
      "execution_count": null,
      "outputs": []
    },
    {
      "cell_type": "code",
      "metadata": {
        "id": "xQor-sPN7HzF"
      },
      "source": [
        "from yellowbrick.cluster import KElbowVisualizer\n",
        "\n",
        "visualizer = KElbowVisualizer(kmeans, k=(2,10))\n",
        " \n",
        "visualizer.fit(X)\n",
        "visualizer.show()   "
      ],
      "execution_count": null,
      "outputs": []
    },
    {
      "cell_type": "markdown",
      "metadata": {
        "id": "LPM_kTE97HzG"
      },
      "source": [
        "# T-SNE"
      ]
    },
    {
      "cell_type": "code",
      "metadata": {
        "id": "mIamGwNV7HzG"
      },
      "source": [
        "X = createInput(tf_vectorizer)\n",
        "\n",
        "# Create the visualizer and draw the vectors\n",
        "tsne = TSNEVisualizer()\n",
        "tsne.fit(X, y_test)\n",
        "tsne.show()"
      ],
      "execution_count": null,
      "outputs": []
    },
    {
      "cell_type": "code",
      "metadata": {
        "id": "iN8rxJyX7HzG"
      },
      "source": [
        "X = createInput(bow_vectorizer)\n",
        "\n",
        "# Create the visualizer and draw the vectors\n",
        "tsne = TSNEVisualizer()\n",
        "tsne.fit(X, y_test)\n",
        "tsne.show()"
      ],
      "execution_count": null,
      "outputs": []
    },
    {
      "cell_type": "markdown",
      "metadata": {
        "id": "zGcTZizO7HzG"
      },
      "source": [
        "# Test "
      ]
    },
    {
      "cell_type": "code",
      "metadata": {
        "colab": {
          "base_uri": "https://localhost:8080/",
          "height": 142
        },
        "id": "ez7VYr2V7Pts",
        "outputId": "d5d32eee-d0fe-406f-ae09-7fafd22c9657"
      },
      "source": [
        "df = dataMini[[\"description\",\"main_cat\"]].copy()\n",
        "df.head(3)"
      ],
      "execution_count": null,
      "outputs": [
        {
          "data": {
            "text/html": [
              "<div>\n",
              "<style scoped>\n",
              "    .dataframe tbody tr th:only-of-type {\n",
              "        vertical-align: middle;\n",
              "    }\n",
              "\n",
              "    .dataframe tbody tr th {\n",
              "        vertical-align: top;\n",
              "    }\n",
              "\n",
              "    .dataframe thead th {\n",
              "        text-align: right;\n",
              "    }\n",
              "</style>\n",
              "<table border=\"1\" class=\"dataframe\">\n",
              "  <thead>\n",
              "    <tr style=\"text-align: right;\">\n",
              "      <th></th>\n",
              "      <th>description</th>\n",
              "      <th>main_cat</th>\n",
              "    </tr>\n",
              "  </thead>\n",
              "  <tbody>\n",
              "    <tr>\n",
              "      <th>0</th>\n",
              "      <td>Key Features of Elegance Polyester Multicolor ...</td>\n",
              "      <td>Home Furnishing</td>\n",
              "    </tr>\n",
              "    <tr>\n",
              "      <th>1</th>\n",
              "      <td>Specifications of Sathiyas Cotton Bath Towel (...</td>\n",
              "      <td>Baby Care</td>\n",
              "    </tr>\n",
              "    <tr>\n",
              "      <th>2</th>\n",
              "      <td>Key Features of Eurospa Cotton Terry Face Towe...</td>\n",
              "      <td>Baby Care</td>\n",
              "    </tr>\n",
              "  </tbody>\n",
              "</table>\n",
              "</div>"
            ],
            "text/plain": [
              "                                         description          main_cat\n",
              "0  Key Features of Elegance Polyester Multicolor ...  Home Furnishing \n",
              "1  Specifications of Sathiyas Cotton Bath Towel (...        Baby Care \n",
              "2  Key Features of Eurospa Cotton Terry Face Towe...        Baby Care "
            ]
          },
          "execution_count": 206,
          "metadata": {},
          "output_type": "execute_result"
        }
      ]
    },
    {
      "cell_type": "code",
      "metadata": {
        "id": "0L1xSoYwMj1e"
      },
      "source": [
        "train, validation = train_test_split(df.values, test_size=0.40, random_state=23)\n",
        "train = pd.DataFrame(train, columns = df.columns)\n",
        "validation = pd.DataFrame(validation, columns = df.columns)"
      ],
      "execution_count": null,
      "outputs": []
    },
    {
      "cell_type": "code",
      "metadata": {
        "colab": {
          "base_uri": "https://localhost:8080/",
          "height": 417
        },
        "id": "9hJWqg267Pow",
        "outputId": "49bbd998-a15f-426c-bcb3-f5d0d7e0383d"
      },
      "source": [
        "train_embeddings = USE_embed(train.description)['outputs'].numpy()\n",
        "\n",
        "kmeans = KMeans(n_clusters=7, random_state=42).fit(train_embeddings)\n",
        "train.loc[:,'Clusters'] = None\n",
        "train.loc[:,'Clusters'] = kmeans.labels_\n",
        "\n",
        "display(train.sort_values(by = 'main_cat'))"
      ],
      "execution_count": null,
      "outputs": [
        {
          "data": {
            "text/html": [
              "<div>\n",
              "<style scoped>\n",
              "    .dataframe tbody tr th:only-of-type {\n",
              "        vertical-align: middle;\n",
              "    }\n",
              "\n",
              "    .dataframe tbody tr th {\n",
              "        vertical-align: top;\n",
              "    }\n",
              "\n",
              "    .dataframe thead th {\n",
              "        text-align: right;\n",
              "    }\n",
              "</style>\n",
              "<table border=\"1\" class=\"dataframe\">\n",
              "  <thead>\n",
              "    <tr style=\"text-align: right;\">\n",
              "      <th></th>\n",
              "      <th>description</th>\n",
              "      <th>main_cat</th>\n",
              "      <th>Clusters</th>\n",
              "    </tr>\n",
              "  </thead>\n",
              "  <tbody>\n",
              "    <tr>\n",
              "      <th>141</th>\n",
              "      <td>Buy Uberlyfe Extra Large Pigmented Polyvinyl F...</td>\n",
              "      <td>Baby Care</td>\n",
              "      <td>1</td>\n",
              "    </tr>\n",
              "    <tr>\n",
              "      <th>541</th>\n",
              "      <td>Buy Bestway 1.47m x 1.47m x 1.22m/Play With Su...</td>\n",
              "      <td>Baby Care</td>\n",
              "      <td>1</td>\n",
              "    </tr>\n",
              "    <tr>\n",
              "      <th>543</th>\n",
              "      <td>Key Features of MKB Baby Girl's Shirt Dress Ma...</td>\n",
              "      <td>Baby Care</td>\n",
              "      <td>2</td>\n",
              "    </tr>\n",
              "    <tr>\n",
              "      <th>228</th>\n",
              "      <td>Specifications of Cheeky Chompers The Neckerch...</td>\n",
              "      <td>Baby Care</td>\n",
              "      <td>2</td>\n",
              "    </tr>\n",
              "    <tr>\n",
              "      <th>482</th>\n",
              "      <td>Specifications of Thakkar Baby Girl's Printed ...</td>\n",
              "      <td>Baby Care</td>\n",
              "      <td>2</td>\n",
              "    </tr>\n",
              "    <tr>\n",
              "      <th>...</th>\n",
              "      <td>...</td>\n",
              "      <td>...</td>\n",
              "      <td>...</td>\n",
              "    </tr>\n",
              "    <tr>\n",
              "      <th>106</th>\n",
              "      <td>Maxima 17321CMLY Gold Analog Watch  - For Wome...</td>\n",
              "      <td>Watches</td>\n",
              "      <td>3</td>\n",
              "    </tr>\n",
              "    <tr>\n",
              "      <th>295</th>\n",
              "      <td>Logues LGSWATCHES760SL Analog Watch  - For Wom...</td>\n",
              "      <td>Watches</td>\n",
              "      <td>3</td>\n",
              "    </tr>\n",
              "    <tr>\n",
              "      <th>512</th>\n",
              "      <td>Fogg Fashion Store 3003-PK Modish Analog Watch...</td>\n",
              "      <td>Watches</td>\n",
              "      <td>3</td>\n",
              "    </tr>\n",
              "    <tr>\n",
              "      <th>77</th>\n",
              "      <td>HMT OLSS 01 Analog Watch  - For Women - Buy HM...</td>\n",
              "      <td>Watches</td>\n",
              "      <td>3</td>\n",
              "    </tr>\n",
              "    <tr>\n",
              "      <th>491</th>\n",
              "      <td>Maxima 06362CMGY Gold Analog Watch  - For Men ...</td>\n",
              "      <td>Watches</td>\n",
              "      <td>3</td>\n",
              "    </tr>\n",
              "  </tbody>\n",
              "</table>\n",
              "<p>630 rows × 3 columns</p>\n",
              "</div>"
            ],
            "text/plain": [
              "                                           description    main_cat  Clusters\n",
              "141  Buy Uberlyfe Extra Large Pigmented Polyvinyl F...  Baby Care          1\n",
              "541  Buy Bestway 1.47m x 1.47m x 1.22m/Play With Su...  Baby Care          1\n",
              "543  Key Features of MKB Baby Girl's Shirt Dress Ma...  Baby Care          2\n",
              "228  Specifications of Cheeky Chompers The Neckerch...  Baby Care          2\n",
              "482  Specifications of Thakkar Baby Girl's Printed ...  Baby Care          2\n",
              "..                                                 ...         ...       ...\n",
              "106  Maxima 17321CMLY Gold Analog Watch  - For Wome...    Watches          3\n",
              "295  Logues LGSWATCHES760SL Analog Watch  - For Wom...    Watches          3\n",
              "512  Fogg Fashion Store 3003-PK Modish Analog Watch...    Watches          3\n",
              "77   HMT OLSS 01 Analog Watch  - For Women - Buy HM...    Watches          3\n",
              "491  Maxima 06362CMGY Gold Analog Watch  - For Men ...    Watches          3\n",
              "\n",
              "[630 rows x 3 columns]"
            ]
          },
          "metadata": {},
          "output_type": "display_data"
        }
      ]
    },
    {
      "cell_type": "code",
      "metadata": {
        "colab": {
          "base_uri": "https://localhost:8080/",
          "height": 379
        },
        "id": "bAmh81ca7Pl-",
        "outputId": "7826e199-a4a1-4652-a87f-f34e6fc2f1dd"
      },
      "source": [
        "print(\"Homogeneity: %0.3f\" % metrics.homogeneity_score(train.main_cat, kmeans.labels_))\n",
        "print(\"Completeness: %0.3f\" % metrics.completeness_score(train.main_cat, kmeans.labels_))\n",
        "print(\"V-measure: %0.3f\" % metrics.v_measure_score(train.main_cat, kmeans.labels_))\n",
        "print(\"Adjusted Rand-Index: %.3f\"\n",
        "      % metrics.adjusted_rand_score(train.main_cat, kmeans.labels_))\n",
        "print(\"Silhouette Coefficient: %0.3f\"\n",
        "      % metrics.silhouette_score(train_embeddings, train.main_cat, sample_size=1000))\n",
        "\n",
        "display(pd.crosstab(train['Clusters'], train['main_cat']))"
      ],
      "execution_count": null,
      "outputs": [
        {
          "name": "stdout",
          "output_type": "stream",
          "text": [
            "Homogeneity: 0.502\n",
            "Completeness: 0.539\n",
            "V-measure: 0.520\n",
            "Adjusted Rand-Index: 0.346\n",
            "Silhouette Coefficient: 0.087\n"
          ]
        },
        {
          "data": {
            "text/html": [
              "<div>\n",
              "<style scoped>\n",
              "    .dataframe tbody tr th:only-of-type {\n",
              "        vertical-align: middle;\n",
              "    }\n",
              "\n",
              "    .dataframe tbody tr th {\n",
              "        vertical-align: top;\n",
              "    }\n",
              "\n",
              "    .dataframe thead th {\n",
              "        text-align: right;\n",
              "    }\n",
              "</style>\n",
              "<table border=\"1\" class=\"dataframe\">\n",
              "  <thead>\n",
              "    <tr style=\"text-align: right;\">\n",
              "      <th>main_cat</th>\n",
              "      <th>Baby Care</th>\n",
              "      <th>Beauty and Personal Care</th>\n",
              "      <th>Computers</th>\n",
              "      <th>Home Decor &amp; Festive Needs</th>\n",
              "      <th>Home Furnishing</th>\n",
              "      <th>Kitchen &amp; Dining</th>\n",
              "      <th>Watches</th>\n",
              "    </tr>\n",
              "    <tr>\n",
              "      <th>Clusters</th>\n",
              "      <th></th>\n",
              "      <th></th>\n",
              "      <th></th>\n",
              "      <th></th>\n",
              "      <th></th>\n",
              "      <th></th>\n",
              "      <th></th>\n",
              "    </tr>\n",
              "  </thead>\n",
              "  <tbody>\n",
              "    <tr>\n",
              "      <th>0</th>\n",
              "      <td>2</td>\n",
              "      <td>15</td>\n",
              "      <td>0</td>\n",
              "      <td>28</td>\n",
              "      <td>1</td>\n",
              "      <td>15</td>\n",
              "      <td>0</td>\n",
              "    </tr>\n",
              "    <tr>\n",
              "      <th>1</th>\n",
              "      <td>10</td>\n",
              "      <td>60</td>\n",
              "      <td>57</td>\n",
              "      <td>33</td>\n",
              "      <td>0</td>\n",
              "      <td>19</td>\n",
              "      <td>0</td>\n",
              "    </tr>\n",
              "    <tr>\n",
              "      <th>2</th>\n",
              "      <td>56</td>\n",
              "      <td>0</td>\n",
              "      <td>0</td>\n",
              "      <td>0</td>\n",
              "      <td>0</td>\n",
              "      <td>0</td>\n",
              "      <td>0</td>\n",
              "    </tr>\n",
              "    <tr>\n",
              "      <th>3</th>\n",
              "      <td>0</td>\n",
              "      <td>0</td>\n",
              "      <td>0</td>\n",
              "      <td>0</td>\n",
              "      <td>0</td>\n",
              "      <td>0</td>\n",
              "      <td>92</td>\n",
              "    </tr>\n",
              "    <tr>\n",
              "      <th>4</th>\n",
              "      <td>1</td>\n",
              "      <td>0</td>\n",
              "      <td>0</td>\n",
              "      <td>1</td>\n",
              "      <td>0</td>\n",
              "      <td>36</td>\n",
              "      <td>0</td>\n",
              "    </tr>\n",
              "    <tr>\n",
              "      <th>5</th>\n",
              "      <td>11</td>\n",
              "      <td>0</td>\n",
              "      <td>0</td>\n",
              "      <td>0</td>\n",
              "      <td>48</td>\n",
              "      <td>1</td>\n",
              "      <td>0</td>\n",
              "    </tr>\n",
              "    <tr>\n",
              "      <th>6</th>\n",
              "      <td>14</td>\n",
              "      <td>12</td>\n",
              "      <td>36</td>\n",
              "      <td>21</td>\n",
              "      <td>50</td>\n",
              "      <td>11</td>\n",
              "      <td>0</td>\n",
              "    </tr>\n",
              "  </tbody>\n",
              "</table>\n",
              "</div>"
            ],
            "text/plain": [
              "main_cat  Baby Care   Beauty and Personal Care   ...  Kitchen & Dining   Watches \n",
              "Clusters                                         ...                             \n",
              "0                  2                         15  ...                 15         0\n",
              "1                 10                         60  ...                 19         0\n",
              "2                 56                          0  ...                  0         0\n",
              "3                  0                          0  ...                  0        92\n",
              "4                  1                          0  ...                 36         0\n",
              "5                 11                          0  ...                  1         0\n",
              "6                 14                         12  ...                 11         0\n",
              "\n",
              "[7 rows x 7 columns]"
            ]
          },
          "metadata": {},
          "output_type": "display_data"
        }
      ]
    },
    {
      "cell_type": "code",
      "metadata": {
        "colab": {
          "base_uri": "https://localhost:8080/",
          "height": 295
        },
        "id": "qSDFpezv7Pi7",
        "outputId": "ee77bac1-9ce6-473e-e50d-49c125acb33a"
      },
      "source": [
        "def kmeans_predict(text_input, fitted_kmeans):\n",
        "    tmp_embd = USE_embed([text_input])['outputs'].numpy()\n",
        "    return fitted_kmeans.predict(tmp_embd)[0]\n",
        "\n",
        "validation[\"Clusters\"] = validation.description.apply(lambda t: kmeans_predict(text_input=t,fitted_kmeans=kmeans))\n",
        "display(pd.crosstab(validation['Clusters'], validation['main_cat']))"
      ],
      "execution_count": null,
      "outputs": [
        {
          "data": {
            "text/html": [
              "<div>\n",
              "<style scoped>\n",
              "    .dataframe tbody tr th:only-of-type {\n",
              "        vertical-align: middle;\n",
              "    }\n",
              "\n",
              "    .dataframe tbody tr th {\n",
              "        vertical-align: top;\n",
              "    }\n",
              "\n",
              "    .dataframe thead th {\n",
              "        text-align: right;\n",
              "    }\n",
              "</style>\n",
              "<table border=\"1\" class=\"dataframe\">\n",
              "  <thead>\n",
              "    <tr style=\"text-align: right;\">\n",
              "      <th>main_cat</th>\n",
              "      <th>Baby Care</th>\n",
              "      <th>Beauty and Personal Care</th>\n",
              "      <th>Computers</th>\n",
              "      <th>Home Decor &amp; Festive Needs</th>\n",
              "      <th>Home Furnishing</th>\n",
              "      <th>Kitchen &amp; Dining</th>\n",
              "      <th>Watches</th>\n",
              "    </tr>\n",
              "    <tr>\n",
              "      <th>Clusters</th>\n",
              "      <th></th>\n",
              "      <th></th>\n",
              "      <th></th>\n",
              "      <th></th>\n",
              "      <th></th>\n",
              "      <th></th>\n",
              "      <th></th>\n",
              "    </tr>\n",
              "  </thead>\n",
              "  <tbody>\n",
              "    <tr>\n",
              "      <th>0</th>\n",
              "      <td>1</td>\n",
              "      <td>7</td>\n",
              "      <td>1</td>\n",
              "      <td>18</td>\n",
              "      <td>0</td>\n",
              "      <td>13</td>\n",
              "      <td>0</td>\n",
              "    </tr>\n",
              "    <tr>\n",
              "      <th>1</th>\n",
              "      <td>7</td>\n",
              "      <td>41</td>\n",
              "      <td>37</td>\n",
              "      <td>44</td>\n",
              "      <td>0</td>\n",
              "      <td>15</td>\n",
              "      <td>0</td>\n",
              "    </tr>\n",
              "    <tr>\n",
              "      <th>2</th>\n",
              "      <td>35</td>\n",
              "      <td>0</td>\n",
              "      <td>0</td>\n",
              "      <td>0</td>\n",
              "      <td>0</td>\n",
              "      <td>0</td>\n",
              "      <td>0</td>\n",
              "    </tr>\n",
              "    <tr>\n",
              "      <th>3</th>\n",
              "      <td>0</td>\n",
              "      <td>0</td>\n",
              "      <td>0</td>\n",
              "      <td>0</td>\n",
              "      <td>0</td>\n",
              "      <td>0</td>\n",
              "      <td>57</td>\n",
              "    </tr>\n",
              "    <tr>\n",
              "      <th>4</th>\n",
              "      <td>0</td>\n",
              "      <td>0</td>\n",
              "      <td>0</td>\n",
              "      <td>0</td>\n",
              "      <td>0</td>\n",
              "      <td>33</td>\n",
              "      <td>0</td>\n",
              "    </tr>\n",
              "    <tr>\n",
              "      <th>5</th>\n",
              "      <td>7</td>\n",
              "      <td>0</td>\n",
              "      <td>0</td>\n",
              "      <td>0</td>\n",
              "      <td>26</td>\n",
              "      <td>0</td>\n",
              "      <td>0</td>\n",
              "    </tr>\n",
              "    <tr>\n",
              "      <th>6</th>\n",
              "      <td>6</td>\n",
              "      <td>15</td>\n",
              "      <td>19</td>\n",
              "      <td>5</td>\n",
              "      <td>25</td>\n",
              "      <td>7</td>\n",
              "      <td>1</td>\n",
              "    </tr>\n",
              "  </tbody>\n",
              "</table>\n",
              "</div>"
            ],
            "text/plain": [
              "main_cat  Baby Care   Beauty and Personal Care   ...  Kitchen & Dining   Watches \n",
              "Clusters                                         ...                             \n",
              "0                  1                          7  ...                 13         0\n",
              "1                  7                         41  ...                 15         0\n",
              "2                 35                          0  ...                  0         0\n",
              "3                  0                          0  ...                  0        57\n",
              "4                  0                          0  ...                 33         0\n",
              "5                  7                          0  ...                  0         0\n",
              "6                  6                         15  ...                  7         1\n",
              "\n",
              "[7 rows x 7 columns]"
            ]
          },
          "metadata": {},
          "output_type": "display_data"
        }
      ]
    },
    {
      "cell_type": "code",
      "metadata": {
        "colab": {
          "base_uri": "https://localhost:8080/"
        },
        "id": "gNXGFux9hDpW",
        "outputId": "56aa4509-ee9b-498c-f643-aecaf70d39bc"
      },
      "source": [
        "import tensorflow as tf\n",
        "import tensorflow_hub as hub\n",
        "from keras import backend as K\n",
        "\n",
        "from tensorflow.keras.layers import Dense, Input, BatchNormalization, Dropout, concatenate, GlobalAveragePooling1D\n",
        "from tensorflow.keras.models import Model, Sequential\n",
        "from tensorflow.keras.optimizers import Adam, SGD\n",
        "from tensorflow.keras.utils import to_categorical\n",
        "import itertools\n",
        "\n",
        "import matplotlib.pyplot as plt\n",
        "\n",
        "print(\"Tensorflow Version: \", tf.__version__)"
      ],
      "execution_count": null,
      "outputs": [
        {
          "name": "stdout",
          "output_type": "stream",
          "text": [
            "Tensorflow Version:  2.6.0\n"
          ]
        }
      ]
    },
    {
      "cell_type": "code",
      "metadata": {
        "colab": {
          "base_uri": "https://localhost:8080/"
        },
        "id": "S5UAJCKvhDii",
        "outputId": "a1e32a2a-8ced-496e-a16c-78ece8de5d10"
      },
      "source": [
        "df['labels'] = df['main_cat'].map({\"Home Furnishing \":0,\"Baby Care \":1,\"Watches \":2,\"Home Decor & Festive Needs \":3,\n",
        "                                   \"Kitchen & Dining \":4,\"Beauty and Personal Care \":5,\"Computers \":6})\n",
        "class_names = ['Home Furnishing ', 'Baby Care ', 'Watches ',\n",
        "       'Home Decor & Festive Needs ', 'Kitchen & Dining ',\n",
        "       'Beauty and Personal Care ', 'Computers ']\n",
        "       \n",
        "train_data = df.loc[df.labels.notnull(),:].reset_index().copy()\n",
        "train_data['labels'] = train_data['labels'].astype(int)\n",
        "train_data['description'] = train_data['description'].astype(str)\n",
        "\n",
        "categorical_labels = to_categorical(train_data['labels'].values, num_classes=None)\n",
        "output_size = categorical_labels.shape[1]\n",
        "\n",
        "print('Inpus Shape: {}, Output Shape: {}'.format(train_data['description'].shape, categorical_labels.shape))"
      ],
      "execution_count": null,
      "outputs": [
        {
          "name": "stdout",
          "output_type": "stream",
          "text": [
            "Inpus Shape: (1050,), Output Shape: (1050, 7)\n"
          ]
        }
      ]
    },
    {
      "cell_type": "code",
      "metadata": {
        "id": "2jlAfyvLhDcr"
      },
      "source": [
        "def build_model(embed, output_size=output_size):\n",
        "    \n",
        "    model = Sequential([\n",
        "        Input(shape=[], dtype=tf.string),\n",
        "        embed,\n",
        "        Dense(output_size, activation='softmax')\n",
        "    ])\n",
        "    model.compile(Adam(), loss='categorical_crossentropy', metrics=['accuracy'])\n",
        "    \n",
        "    return model"
      ],
      "execution_count": null,
      "outputs": []
    },
    {
      "cell_type": "code",
      "metadata": {
        "colab": {
          "base_uri": "https://localhost:8080/"
        },
        "id": "Uv7661DWhDYR",
        "outputId": "afea48ce-af5a-44a0-e31c-92628dab4554"
      },
      "source": [
        "model = build_model(USE_embed)\n",
        "model.summary()"
      ],
      "execution_count": null,
      "outputs": [
        {
          "name": "stdout",
          "output_type": "stream",
          "text": [
            "Model: \"sequential_11\"\n",
            "_________________________________________________________________\n",
            "Layer (type)                 Output Shape              Param #   \n",
            "=================================================================\n",
            "USE_embedding (KerasLayer)   {'outputs': (None, 512)}  147354880 \n",
            "_________________________________________________________________\n",
            "dense_11 (Dense)             (None, 7)                 3591      \n",
            "=================================================================\n",
            "Total params: 147,358,471\n",
            "Trainable params: 3,591\n",
            "Non-trainable params: 147,354,880\n",
            "_________________________________________________________________\n"
          ]
        }
      ]
    },
    {
      "cell_type": "code",
      "metadata": {
        "id": "065z-uGrkWZ2"
      },
      "source": [
        "from sklearn.model_selection import KFold\n",
        "\n",
        "oof_preds = np.zeros([train_data.shape[0], output_size])\n",
        "\n",
        "n_splits = 7\n",
        "folds = KFold(n_splits=n_splits, shuffle=True, random_state=42)\n",
        "plot_metrics = ['loss','accuracy']"
      ],
      "execution_count": null,
      "outputs": []
    },
    {
      "cell_type": "code",
      "metadata": {
        "colab": {
          "background_save": true,
          "base_uri": "https://localhost:8080/",
          "height": 1000
        },
        "id": "CW2yoVSkkWVG",
        "outputId": "380f0785-655b-417a-86fa-e98368952417"
      },
      "source": [
        "import time\n",
        "fold_hist = {}\n",
        "for i, (trn_idx, val_idx) in enumerate(folds.split(train_data)):\n",
        "    modelstart = time.time()\n",
        "    model = build_model(USE_embed)\n",
        "    \n",
        "    es = tf.keras.callbacks.EarlyStopping(monitor='val_loss', min_delta=0.0001, patience=4, verbose=1,\n",
        "                                 mode='min', baseline=None, restore_best_weights=True)\n",
        "    \n",
        "    history = model.fit(\n",
        "        train_data.description[trn_idx].values,\n",
        "        categorical_labels[trn_idx],\n",
        "        validation_data=(\n",
        "            train_data.description[val_idx].values,\n",
        "            categorical_labels[val_idx]),\n",
        "        epochs=15,\n",
        "        batch_size=1,\n",
        "        callbacks = [es],\n",
        "        verbose=1)\n",
        "    \n",
        "    best_index = np.argmin(history.history['val_loss'])\n",
        "    fold_hist[i] = history\n",
        "    \n",
        "    oof_preds[val_idx] = model.predict(train_data.description[val_idx].values)\n",
        "    \n",
        "    f, ax = plt.subplots(1,len(plot_metrics),figsize = [12,4])\n",
        "    for p_i,metric in enumerate(plot_metrics):\n",
        "        ax[p_i].plot(history.history[metric], label='Train ' + metric)\n",
        "        ax[p_i].plot(history.history['val_' + metric], label='Val ' + metric)\n",
        "        ax[p_i].set_title(\"{} Fold Loss Curve - {}\\nBest Epoch {}\".format(i, metric, best_index))\n",
        "        ax[p_i].legend()\n",
        "        ax[p_i].axvline(x=best_index, c='black')\n",
        "    plt.show()"
      ],
      "execution_count": null,
      "outputs": [
        {
          "name": "stdout",
          "output_type": "stream",
          "text": [
            "Epoch 1/15\n",
            "900/900 [==============================] - 123s 105ms/step - loss: 1.4940 - accuracy: 0.7622 - val_loss: 1.1718 - val_accuracy: 0.8600\n",
            "Epoch 2/15\n",
            "900/900 [==============================] - 79s 88ms/step - loss: 0.9090 - accuracy: 0.8878 - val_loss: 0.8137 - val_accuracy: 0.8867\n",
            "Epoch 3/15\n",
            "900/900 [==============================] - 80s 89ms/step - loss: 0.6421 - accuracy: 0.9044 - val_loss: 0.6277 - val_accuracy: 0.8867\n",
            "Epoch 4/15\n",
            "900/900 [==============================] - 81s 90ms/step - loss: 0.4960 - accuracy: 0.9122 - val_loss: 0.5177 - val_accuracy: 0.8933\n",
            "Epoch 5/15\n",
            "900/900 [==============================] - 80s 89ms/step - loss: 0.4048 - accuracy: 0.9178 - val_loss: 0.4436 - val_accuracy: 0.9000\n",
            "Epoch 6/15\n",
            "900/900 [==============================] - 80s 89ms/step - loss: 0.3429 - accuracy: 0.9278 - val_loss: 0.3959 - val_accuracy: 0.9000\n",
            "Epoch 7/15\n",
            "900/900 [==============================] - 79s 88ms/step - loss: 0.2978 - accuracy: 0.9389 - val_loss: 0.3597 - val_accuracy: 0.8933\n",
            "Epoch 8/15\n",
            "900/900 [==============================] - 80s 89ms/step - loss: 0.2639 - accuracy: 0.9444 - val_loss: 0.3308 - val_accuracy: 0.9000\n",
            "Epoch 9/15\n",
            "900/900 [==============================] - 87s 96ms/step - loss: 0.2361 - accuracy: 0.9533 - val_loss: 0.3099 - val_accuracy: 0.9067\n",
            "Epoch 10/15\n",
            "900/900 [==============================] - 84s 93ms/step - loss: 0.2138 - accuracy: 0.9556 - val_loss: 0.2944 - val_accuracy: 0.9133\n",
            "Epoch 11/15\n",
            "900/900 [==============================] - 84s 93ms/step - loss: 0.1953 - accuracy: 0.9611 - val_loss: 0.2807 - val_accuracy: 0.9067\n",
            "Epoch 12/15\n",
            "900/900 [==============================] - 84s 93ms/step - loss: 0.1795 - accuracy: 0.9600 - val_loss: 0.2721 - val_accuracy: 0.9200\n",
            "Epoch 13/15\n",
            "900/900 [==============================] - 83s 92ms/step - loss: 0.1662 - accuracy: 0.9678 - val_loss: 0.2605 - val_accuracy: 0.9200\n",
            "Epoch 14/15\n",
            "900/900 [==============================] - 80s 89ms/step - loss: 0.1546 - accuracy: 0.9678 - val_loss: 0.2476 - val_accuracy: 0.9200\n",
            "Epoch 15/15\n",
            "900/900 [==============================] - 81s 90ms/step - loss: 0.1441 - accuracy: 0.9711 - val_loss: 0.2452 - val_accuracy: 0.9200\n"
          ]
        },
        {
          "data": {
            "image/png": "[encoded data removed]",
            "text/plain": [
              "<Figure size 864x288 with 2 Axes>"
            ]
          },
          "metadata": {},
          "output_type": "display_data"
        },
        {
          "name": "stdout",
          "output_type": "stream",
          "text": [
            "Epoch 1/15\n",
            "900/900 [==============================] - 96s 91ms/step - loss: 1.4928 - accuracy: 0.7711 - val_loss: 1.1099 - val_accuracy: 0.8933\n",
            "Epoch 2/15\n",
            "900/900 [==============================] - 75s 83ms/step - loss: 0.9198 - accuracy: 0.8889 - val_loss: 0.7468 - val_accuracy: 0.9000\n",
            "Epoch 3/15\n",
            "900/900 [==============================] - 76s 84ms/step - loss: 0.6529 - accuracy: 0.8978 - val_loss: 0.5638 - val_accuracy: 0.9133\n",
            "Epoch 4/15\n",
            "900/900 [==============================] - 75s 83ms/step - loss: 0.5047 - accuracy: 0.9089 - val_loss: 0.4528 - val_accuracy: 0.9133\n",
            "Epoch 5/15\n",
            "900/900 [==============================] - 75s 84ms/step - loss: 0.4143 - accuracy: 0.9222 - val_loss: 0.3827 - val_accuracy: 0.9400\n",
            "Epoch 6/15\n",
            "900/900 [==============================] - 75s 84ms/step - loss: 0.3520 - accuracy: 0.9300 - val_loss: 0.3330 - val_accuracy: 0.9467\n",
            "Epoch 7/15\n",
            "900/900 [==============================] - 76s 85ms/step - loss: 0.3064 - accuracy: 0.9378 - val_loss: 0.2976 - val_accuracy: 0.9467\n",
            "Epoch 8/15\n",
            "900/900 [==============================] - 74s 82ms/step - loss: 0.2721 - accuracy: 0.9389 - val_loss: 0.2692 - val_accuracy: 0.9533\n",
            "Epoch 9/15\n",
            "900/900 [==============================] - 74s 83ms/step - loss: 0.2447 - accuracy: 0.9433 - val_loss: 0.2473 - val_accuracy: 0.9600\n",
            "Epoch 10/15\n",
            "900/900 [==============================] - 76s 84ms/step - loss: 0.2232 - accuracy: 0.9456 - val_loss: 0.2303 - val_accuracy: 0.9600\n",
            "Epoch 11/15\n",
            "900/900 [==============================] - 75s 83ms/step - loss: 0.2049 - accuracy: 0.9522 - val_loss: 0.2165 - val_accuracy: 0.9600\n",
            "Epoch 12/15\n",
            "900/900 [==============================] - 74s 82ms/step - loss: 0.1895 - accuracy: 0.9567 - val_loss: 0.2045 - val_accuracy: 0.9600\n",
            "Epoch 13/15\n",
            "900/900 [==============================] - 76s 84ms/step - loss: 0.1759 - accuracy: 0.9589 - val_loss: 0.1957 - val_accuracy: 0.9600\n",
            "Epoch 14/15\n",
            "900/900 [==============================] - 76s 84ms/step - loss: 0.1646 - accuracy: 0.9656 - val_loss: 0.1844 - val_accuracy: 0.9667\n",
            "Epoch 15/15\n",
            "900/900 [==============================] - 76s 84ms/step - loss: 0.1539 - accuracy: 0.9678 - val_loss: 0.1765 - val_accuracy: 0.9733\n"
          ]
        },
        {
          "data": {
            "image/png": "[encoded data removed]",
            "text/plain": [
              "<Figure size 864x288 with 2 Axes>"
            ]
          },
          "metadata": {},
          "output_type": "display_data"
        },
        {
          "name": "stdout",
          "output_type": "stream",
          "text": [
            "Epoch 1/15\n",
            "900/900 [==============================] - 103s 97ms/step - loss: 1.5035 - accuracy: 0.7533 - val_loss: 1.0628 - val_accuracy: 0.8800\n",
            "Epoch 2/15\n",
            "900/900 [==============================] - 75s 84ms/step - loss: 0.9325 - accuracy: 0.8867 - val_loss: 0.6938 - val_accuracy: 0.8933\n",
            "Epoch 3/15\n",
            "900/900 [==============================] - 77s 85ms/step - loss: 0.6611 - accuracy: 0.9056 - val_loss: 0.5138 - val_accuracy: 0.9133\n",
            "Epoch 4/15\n",
            "900/900 [==============================] - 75s 84ms/step - loss: 0.5118 - accuracy: 0.9122 - val_loss: 0.4125 - val_accuracy: 0.9200\n",
            "Epoch 5/15\n",
            "900/900 [==============================] - 74s 82ms/step - loss: 0.4180 - accuracy: 0.9144 - val_loss: 0.3494 - val_accuracy: 0.9267\n",
            "Epoch 6/15\n",
            "900/900 [==============================] - 76s 84ms/step - loss: 0.3545 - accuracy: 0.9322 - val_loss: 0.3058 - val_accuracy: 0.9333\n",
            "Epoch 7/15\n",
            "900/900 [==============================] - 77s 86ms/step - loss: 0.3085 - accuracy: 0.9367 - val_loss: 0.2747 - val_accuracy: 0.9333\n",
            "Epoch 8/15\n",
            "900/900 [==============================] - 75s 84ms/step - loss: 0.2729 - accuracy: 0.9422 - val_loss: 0.2517 - val_accuracy: 0.9333\n",
            "Epoch 9/15\n",
            "900/900 [==============================] - 75s 83ms/step - loss: 0.2453 - accuracy: 0.9411 - val_loss: 0.2352 - val_accuracy: 0.9333\n",
            "Epoch 10/15\n",
            "900/900 [==============================] - 76s 84ms/step - loss: 0.2225 - accuracy: 0.9511 - val_loss: 0.2206 - val_accuracy: 0.9333\n",
            "Epoch 11/15\n",
            "900/900 [==============================] - 77s 85ms/step - loss: 0.2035 - accuracy: 0.9544 - val_loss: 0.2092 - val_accuracy: 0.9333\n",
            "Epoch 12/15\n",
            "900/900 [==============================] - 75s 83ms/step - loss: 0.1874 - accuracy: 0.9611 - val_loss: 0.2005 - val_accuracy: 0.9333\n",
            "Epoch 13/15\n",
            "900/900 [==============================] - 75s 83ms/step - loss: 0.1736 - accuracy: 0.9644 - val_loss: 0.1927 - val_accuracy: 0.9333\n",
            "Epoch 14/15\n",
            "900/900 [==============================] - 75s 83ms/step - loss: 0.1619 - accuracy: 0.9678 - val_loss: 0.1865 - val_accuracy: 0.9333\n",
            "Epoch 15/15\n",
            "900/900 [==============================] - 76s 84ms/step - loss: 0.1514 - accuracy: 0.9711 - val_loss: 0.1811 - val_accuracy: 0.9333\n"
          ]
        },
        {
          "data": {
            "image/png": "[encoded data removed]",
            "text/plain": [
              "<Figure size 864x288 with 2 Axes>"
            ]
          },
          "metadata": {},
          "output_type": "display_data"
        },
        {
          "name": "stdout",
          "output_type": "stream",
          "text": [
            "Epoch 1/15\n",
            "900/900 [==============================] - 97s 95ms/step - loss: 1.4934 - accuracy: 0.7500 - val_loss: 1.1497 - val_accuracy: 0.8800\n",
            "Epoch 2/15\n",
            "900/900 [==============================] - 78s 87ms/step - loss: 0.9187 - accuracy: 0.8811 - val_loss: 0.7818 - val_accuracy: 0.8933\n",
            "Epoch 3/15\n",
            "900/900 [==============================] - 77s 86ms/step - loss: 0.6487 - accuracy: 0.8967 - val_loss: 0.6008 - val_accuracy: 0.9067\n",
            "Epoch 4/15\n",
            "900/900 [==============================] - 79s 88ms/step - loss: 0.5009 - accuracy: 0.9122 - val_loss: 0.4938 - val_accuracy: 0.9000\n",
            "Epoch 5/15\n",
            "900/900 [==============================] - 78s 87ms/step - loss: 0.4086 - accuracy: 0.9211 - val_loss: 0.4247 - val_accuracy: 0.9067\n",
            "Epoch 6/15\n",
            "900/900 [==============================] - 79s 88ms/step - loss: 0.3458 - accuracy: 0.9300 - val_loss: 0.3752 - val_accuracy: 0.9133\n",
            "Epoch 7/15\n",
            "900/900 [==============================] - 78s 86ms/step - loss: 0.3001 - accuracy: 0.9378 - val_loss: 0.3434 - val_accuracy: 0.9133\n",
            "Epoch 8/15\n",
            "900/900 [==============================] - 80s 88ms/step - loss: 0.2660 - accuracy: 0.9422 - val_loss: 0.3146 - val_accuracy: 0.9133\n",
            "Epoch 9/15\n",
            "900/900 [==============================] - 78s 87ms/step - loss: 0.2382 - accuracy: 0.9489 - val_loss: 0.2967 - val_accuracy: 0.9067\n",
            "Epoch 10/15\n",
            "900/900 [==============================] - 80s 89ms/step - loss: 0.2164 - accuracy: 0.9500 - val_loss: 0.2794 - val_accuracy: 0.9067\n",
            "Epoch 11/15\n",
            "900/900 [==============================] - 80s 89ms/step - loss: 0.1979 - accuracy: 0.9556 - val_loss: 0.2642 - val_accuracy: 0.9133\n",
            "Epoch 12/15\n",
            "900/900 [==============================] - 81s 90ms/step - loss: 0.1823 - accuracy: 0.9600 - val_loss: 0.2548 - val_accuracy: 0.9067\n",
            "Epoch 13/15\n",
            "900/900 [==============================] - 80s 89ms/step - loss: 0.1687 - accuracy: 0.9644 - val_loss: 0.2432 - val_accuracy: 0.9067\n",
            "Epoch 14/15\n",
            "900/900 [==============================] - 79s 87ms/step - loss: 0.1566 - accuracy: 0.9678 - val_loss: 0.2359 - val_accuracy: 0.9067\n",
            "Epoch 15/15\n",
            "900/900 [==============================] - 78s 86ms/step - loss: 0.1464 - accuracy: 0.9678 - val_loss: 0.2297 - val_accuracy: 0.9200\n"
          ]
        },
        {
          "data": {
            "image/png": "[encoded data removed]",
            "text/plain": [
              "<Figure size 864x288 with 2 Axes>"
            ]
          },
          "metadata": {},
          "output_type": "display_data"
        },
        {
          "name": "stdout",
          "output_type": "stream",
          "text": [
            "Epoch 1/15\n",
            "900/900 [==============================] - 90s 88ms/step - loss: 1.4750 - accuracy: 0.7622 - val_loss: 1.1741 - val_accuracy: 0.8667\n",
            "Epoch 2/15\n",
            "900/900 [==============================] - 69s 76ms/step - loss: 0.9006 - accuracy: 0.8922 - val_loss: 0.8239 - val_accuracy: 0.8933\n",
            "Epoch 3/15\n",
            "900/900 [==============================] - 70s 77ms/step - loss: 0.6361 - accuracy: 0.9056 - val_loss: 0.6411 - val_accuracy: 0.9000\n",
            "Epoch 4/15\n",
            "900/900 [==============================] - 68s 76ms/step - loss: 0.4897 - accuracy: 0.9200 - val_loss: 0.5355 - val_accuracy: 0.8867\n",
            "Epoch 5/15\n",
            "900/900 [==============================] - 69s 77ms/step - loss: 0.3973 - accuracy: 0.9256 - val_loss: 0.4672 - val_accuracy: 0.8800\n",
            "Epoch 6/15\n",
            "900/900 [==============================] - 70s 77ms/step - loss: 0.3354 - accuracy: 0.9344 - val_loss: 0.4226 - val_accuracy: 0.8867\n",
            "Epoch 7/15\n",
            "900/900 [==============================] - 71s 79ms/step - loss: 0.2896 - accuracy: 0.9456 - val_loss: 0.3894 - val_accuracy: 0.8933\n",
            "Epoch 8/15\n",
            "900/900 [==============================] - 72s 80ms/step - loss: 0.2548 - accuracy: 0.9522 - val_loss: 0.3649 - val_accuracy: 0.9000\n",
            "Epoch 9/15\n",
            "900/900 [==============================] - 69s 77ms/step - loss: 0.2277 - accuracy: 0.9544 - val_loss: 0.3462 - val_accuracy: 0.9000\n",
            "Epoch 10/15\n",
            "900/900 [==============================] - 68s 76ms/step - loss: 0.2049 - accuracy: 0.9567 - val_loss: 0.3314 - val_accuracy: 0.9000\n",
            "Epoch 11/15\n",
            "900/900 [==============================] - 68s 75ms/step - loss: 0.1865 - accuracy: 0.9633 - val_loss: 0.3189 - val_accuracy: 0.9000\n",
            "Epoch 12/15\n",
            "900/900 [==============================] - 68s 76ms/step - loss: 0.1708 - accuracy: 0.9678 - val_loss: 0.3106 - val_accuracy: 0.9067\n",
            "Epoch 13/15\n",
            "900/900 [==============================] - 69s 77ms/step - loss: 0.1570 - accuracy: 0.9711 - val_loss: 0.3051 - val_accuracy: 0.9000\n",
            "Epoch 14/15\n",
            "900/900 [==============================] - 70s 77ms/step - loss: 0.1450 - accuracy: 0.9744 - val_loss: 0.2981 - val_accuracy: 0.9067\n",
            "Epoch 15/15\n",
            "900/900 [==============================] - 70s 78ms/step - loss: 0.1349 - accuracy: 0.9778 - val_loss: 0.2936 - val_accuracy: 0.9000\n"
          ]
        },
        {
          "data": {
            "image/png": "[encoded data removed]",
            "text/plain": [
              "<Figure size 864x288 with 2 Axes>"
            ]
          },
          "metadata": {},
          "output_type": "display_data"
        },
        {
          "name": "stdout",
          "output_type": "stream",
          "text": [
            "Epoch 1/15\n",
            "900/900 [==============================] - 93s 92ms/step - loss: 1.4862 - accuracy: 0.7822 - val_loss: 1.1635 - val_accuracy: 0.8667\n",
            "Epoch 2/15\n",
            "900/900 [==============================] - 74s 82ms/step - loss: 0.9111 - accuracy: 0.8911 - val_loss: 0.8066 - val_accuracy: 0.8867\n",
            "Epoch 3/15\n",
            "900/900 [==============================] - 75s 83ms/step - loss: 0.6419 - accuracy: 0.9111 - val_loss: 0.6239 - val_accuracy: 0.8867\n",
            "Epoch 4/15\n",
            "900/900 [==============================] - 74s 82ms/step - loss: 0.4939 - accuracy: 0.9189 - val_loss: 0.5182 - val_accuracy: 0.8933\n",
            "Epoch 5/15\n",
            "900/900 [==============================] - 74s 83ms/step - loss: 0.4012 - accuracy: 0.9278 - val_loss: 0.4549 - val_accuracy: 0.9000\n",
            "Epoch 6/15\n",
            "900/900 [==============================] - 75s 83ms/step - loss: 0.3376 - accuracy: 0.9322 - val_loss: 0.4072 - val_accuracy: 0.9067\n",
            "Epoch 7/15\n",
            "900/900 [==============================] - 75s 83ms/step - loss: 0.2930 - accuracy: 0.9378 - val_loss: 0.3769 - val_accuracy: 0.9067\n",
            "Epoch 8/15\n",
            "900/900 [==============================] - 76s 84ms/step - loss: 0.2581 - accuracy: 0.9456 - val_loss: 0.3536 - val_accuracy: 0.9000\n",
            "Epoch 9/15\n",
            "900/900 [==============================] - 76s 85ms/step - loss: 0.2318 - accuracy: 0.9467 - val_loss: 0.3314 - val_accuracy: 0.9000\n",
            "Epoch 10/15\n",
            "900/900 [==============================] - 75s 83ms/step - loss: 0.2096 - accuracy: 0.9544 - val_loss: 0.3163 - val_accuracy: 0.9000\n",
            "Epoch 11/15\n",
            "900/900 [==============================] - 78s 86ms/step - loss: 0.1913 - accuracy: 0.9556 - val_loss: 0.3077 - val_accuracy: 0.9000\n",
            "Epoch 12/15\n",
            "900/900 [==============================] - 78s 86ms/step - loss: 0.1757 - accuracy: 0.9600 - val_loss: 0.2968 - val_accuracy: 0.9067\n",
            "Epoch 13/15\n",
            "900/900 [==============================] - 76s 84ms/step - loss: 0.1630 - accuracy: 0.9656 - val_loss: 0.2864 - val_accuracy: 0.9133\n",
            "Epoch 14/15\n",
            "900/900 [==============================] - 75s 84ms/step - loss: 0.1517 - accuracy: 0.9656 - val_loss: 0.2802 - val_accuracy: 0.9133\n",
            "Epoch 15/15\n",
            "900/900 [==============================] - 77s 86ms/step - loss: 0.1414 - accuracy: 0.9689 - val_loss: 0.2734 - val_accuracy: 0.9133\n"
          ]
        },
        {
          "data": {
            "image/png": "[encoded data removed]",
            "text/plain": [
              "<Figure size 864x288 with 2 Axes>"
            ]
          },
          "metadata": {},
          "output_type": "display_data"
        },
        {
          "name": "stdout",
          "output_type": "stream",
          "text": [
            "Epoch 1/15\n",
            "900/900 [==============================] - 95s 94ms/step - loss: 1.5027 - accuracy: 0.7467 - val_loss: 1.1548 - val_accuracy: 0.8533\n",
            "Epoch 2/15\n",
            "900/900 [==============================] - 80s 89ms/step - loss: 0.9213 - accuracy: 0.8889 - val_loss: 0.7905 - val_accuracy: 0.8800\n",
            "Epoch 3/15\n",
            "900/900 [==============================] - 79s 88ms/step - loss: 0.6523 - accuracy: 0.9000 - val_loss: 0.6002 - val_accuracy: 0.8933\n",
            "Epoch 4/15\n",
            "900/900 [==============================] - 78s 87ms/step - loss: 0.5072 - accuracy: 0.9089 - val_loss: 0.4822 - val_accuracy: 0.9133\n",
            "Epoch 5/15\n",
            "900/900 [==============================] - 81s 91ms/step - loss: 0.4169 - accuracy: 0.9133 - val_loss: 0.4058 - val_accuracy: 0.9200\n",
            "Epoch 6/15\n",
            "900/900 [==============================] - 79s 88ms/step - loss: 0.3547 - accuracy: 0.9233 - val_loss: 0.3529 - val_accuracy: 0.9333\n",
            "Epoch 7/15\n",
            "900/900 [==============================] - 80s 89ms/step - loss: 0.3093 - accuracy: 0.9311 - val_loss: 0.3128 - val_accuracy: 0.9333\n",
            "Epoch 8/15\n",
            "900/900 [==============================] - 80s 89ms/step - loss: 0.2755 - accuracy: 0.9322 - val_loss: 0.2852 - val_accuracy: 0.9400\n",
            "Epoch 9/15\n",
            "900/900 [==============================] - 80s 89ms/step - loss: 0.2481 - accuracy: 0.9400 - val_loss: 0.2583 - val_accuracy: 0.9533\n",
            "Epoch 10/15\n",
            "900/900 [==============================] - 79s 88ms/step - loss: 0.2261 - accuracy: 0.9489 - val_loss: 0.2403 - val_accuracy: 0.9600\n",
            "Epoch 11/15\n",
            "900/900 [==============================] - 82s 91ms/step - loss: 0.2077 - accuracy: 0.9511 - val_loss: 0.2238 - val_accuracy: 0.9533\n",
            "Epoch 12/15\n",
            "900/900 [==============================] - 80s 89ms/step - loss: 0.1916 - accuracy: 0.9556 - val_loss: 0.2105 - val_accuracy: 0.9533\n",
            "Epoch 13/15\n",
            "900/900 [==============================] - 81s 90ms/step - loss: 0.1773 - accuracy: 0.9589 - val_loss: 0.1988 - val_accuracy: 0.9600\n",
            "Epoch 14/15\n",
            "900/900 [==============================] - 81s 91ms/step - loss: 0.1653 - accuracy: 0.9644 - val_loss: 0.1912 - val_accuracy: 0.9600\n",
            "Epoch 15/15\n",
            "900/900 [==============================] - 80s 89ms/step - loss: 0.1535 - accuracy: 0.9667 - val_loss: 0.1850 - val_accuracy: 0.9533\n"
          ]
        },
        {
          "data": {
            "image/png": "[encoded data removed]",
            "text/plain": [
              "<Figure size 864x288 with 2 Axes>"
            ]
          },
          "metadata": {},
          "output_type": "display_data"
        }
      ]
    },
    {
      "cell_type": "code",
      "metadata": {
        "colab": {
          "background_save": true
        },
        "id": "TAijBCx9kWSD",
        "outputId": "87e6ec9b-8c83-4f6d-c647-b712f7cfa732"
      },
      "source": [
        ".def plot_confusion_matrix(cm, classes,\n",
        "                          title = 'Confusion matrix\"',\n",
        "                          cmap = plt.cm.Blues) :\n",
        "    plt.figure(figsize=(15,10))\n",
        "    plt.imshow(cm, interpolation = 'nearest', cmap = cmap)\n",
        "    plt.title(title)\n",
        "    plt.colorbar()\n",
        "    tick_marks = np.arange(len(classes))\n",
        "    plt.xticks(tick_marks, classes, rotation = 90)\n",
        "    plt.yticks(tick_marks, classes)\n",
        "    plt.grid(b=None)\n",
        "    thresh = cm.max() / 2.\n",
        "    for i, j in itertools.product(range(cm.shape[0]), range(cm.shape[1])) :\n",
        "        plt.text(j, i, cm[i, j],\n",
        "                 horizontalalignment = 'center',\n",
        "                 color = 'white' if cm[i, j] > thresh else 'black')\n",
        " \n",
        "    plt.tight_layout()\n",
        "    plt.ylabel('True label')\n",
        "    plt.xlabel('Predicted label')\n",
        "    plt.show()"
      ],
      "execution_count": null,
      "outputs": [
        {
          "ename": "SyntaxError",
          "evalue": "ignored",
          "output_type": "error",
          "traceback": [
            "\u001b[0;36m  File \u001b[0;32m\"<ipython-input-217-f4351cfeabac>\"\u001b[0;36m, line \u001b[0;32m1\u001b[0m\n\u001b[0;31m    .def plot_confusion_matrix(cm, classes,\u001b[0m\n\u001b[0m    ^\u001b[0m\n\u001b[0;31mSyntaxError\u001b[0m\u001b[0;31m:\u001b[0m invalid syntax\n"
          ]
        }
      ]
    },
    {
      "cell_type": "code",
      "metadata": {
        "colab": {
          "background_save": true
        },
        "id": "xQmrCRuvkWOl"
      },
      "source": [
        "preds = oof_preds.argmax(axis = 1)\n",
        "print(\"Accuracy: {:.2f}\".format(metrics.accuracy_score(train_data['labels'], preds)))\n",
        "\n",
        "print(\"Confusion Matrix\")\n",
        "plot_confusion_matrix(metrics.confusion_matrix(train_data['labels'], preds),\n",
        "                          class_names,\n",
        "                          title = 'Confusion matrix\"',\n",
        "                          cmap = plt.cm.Blues)"
      ],
      "execution_count": null,
      "outputs": []
    },
    {
      "cell_type": "code",
      "metadata": {
        "colab": {
          "background_save": true
        },
        "id": "Lg5jt4IhkWIK"
      },
      "source": [
        ""
      ],
      "execution_count": null,
      "outputs": []
    },
    {
      "cell_type": "code",
      "metadata": {
        "colab": {
          "background_save": true
        },
        "id": "sufTta957HzI"
      },
      "source": [
        ""
      ],
      "execution_count": null,
      "outputs": []
    },
    {
      "cell_type": "code",
      "metadata": {
        "colab": {
          "background_save": true
        },
        "id": "X97p5pLg-OhC"
      },
      "source": [
        "import seaborn as sn\n",
        "\n",
        "# sn.set(font_scale=1.4) # for label size\n",
        "plt.figure(figsize=(10,7))\n",
        "tick_marks = np.arange(len(class_names))\n",
        "plt.xticks(tick_marks, class_names, rotation = 90)\n",
        "plt.yticks(tick_marks, class_names)\n",
        "\n",
        "# thresh = metrics.confusion_matrix(train_data['labels'], preds).max() / 2.\n",
        "# for i, j in itertools.product(range(cm.shape[0]), range(cm.shape[1])) :\n",
        "#     plt.text(j, i, cm[i, j],\n",
        "#               horizontalalignment = 'center',\n",
        "                #  color = 'white' if cm[i, j] > thresh else 'black')\n",
        "sn.heatmap(metrics.confusion_matrix(train_data['labels'], preds), annot=True,cmap=\"Blues\") # font size\n",
        "plt.show()"
      ],
      "execution_count": null,
      "outputs": []
    }
  ]
}